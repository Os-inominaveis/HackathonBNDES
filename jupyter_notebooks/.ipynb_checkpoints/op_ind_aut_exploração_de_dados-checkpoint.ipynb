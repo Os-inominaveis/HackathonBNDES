{
 "cells": [
  {
   "cell_type": "code",
   "execution_count": 41,
   "metadata": {
    "ExecuteTime": {
     "end_time": "2021-08-30T22:46:39.121467Z",
     "start_time": "2021-08-30T22:46:39.112451Z"
    },
    "code_folding": [
     0
    ]
   },
   "outputs": [
    {
     "data": {
      "text/html": [
       "<img src=\"https://www.cartaobndes.gov.br/cartaobndes/Images/header_BNDES-01.png\" width=\"500\" height=\"500\"/>"
      ],
      "text/plain": [
       "<IPython.core.display.Image object>"
      ]
     },
     "execution_count": 41,
     "metadata": {},
     "output_type": "execute_result"
    }
   ],
   "source": [
    "#Para mostrar a imagem do BNDES:\n",
    "from IPython.display import Image\n",
    "from IPython.core.display import HTML\n",
    "\n",
    "#Formatar casas decimais no Matplotlib:\n",
    "from matplotlib.ticker import FormatStrFormatter \n",
    "\n",
    "Image(url= \"https://www.cartaobndes.gov.br/cartaobndes/Images/header_BNDES-01.png\", width = 500, height = 500)"
   ]
  },
  {
   "cell_type": "markdown",
   "metadata": {
    "heading_collapsed": true
   },
   "source": [
    "# Importação de bibliotecas\n",
    "A importação das bibliotecas utilizadas na análise de dados."
   ]
  },
  {
   "cell_type": "code",
   "execution_count": 3,
   "metadata": {
    "ExecuteTime": {
     "end_time": "2021-08-30T22:25:45.326743Z",
     "start_time": "2021-08-30T22:25:41.738510Z"
    },
    "hidden": true
   },
   "outputs": [],
   "source": [
    "#Para operações com dataframes:\n",
    "import pandas as pd\n",
    "\n",
    "#Para visualizações:\n",
    "import matplotlib.pyplot as plt\n",
    "import seaborn as sns\n",
    "\n",
    "#Setando o tamanho das figuras:\n",
    "sns.set(rc={'figure.figsize':(11, 4)})\n",
    "\n",
    "#Importando a biblioteca para acessar APIs (utilizada na API de Oxford para informações sobre COVID):\n",
    "import requests"
   ]
  },
  {
   "cell_type": "markdown",
   "metadata": {
    "heading_collapsed": true
   },
   "source": [
    "# Importação dos dados\n",
    "Importação do dataset."
   ]
  },
  {
   "cell_type": "code",
   "execution_count": 4,
   "metadata": {
    "ExecuteTime": {
     "end_time": "2021-08-30T22:26:02.949311Z",
     "start_time": "2021-08-30T22:25:45.345743Z"
    },
    "hidden": true
   },
   "outputs": [],
   "source": [
    "df = pd.read_csv('C:/Users/pfaprado/Documents/GitHub/bndes/operacoes-financiamento-operacoes-indiretas-automaticas.csv', sep=';')"
   ]
  },
  {
   "cell_type": "markdown",
   "metadata": {},
   "source": [
    "# Exploração dos dados"
   ]
  },
  {
   "cell_type": "markdown",
   "metadata": {
    "heading_collapsed": true
   },
   "source": [
    "## Dataset: Financiamento de operações indiretas automáticas\n",
    "Foram exploradas as características dos financiamentos de operações indiretas automáticas presentes no dataset fornecido pelo BNDES."
   ]
  },
  {
   "cell_type": "markdown",
   "metadata": {
    "heading_collapsed": true,
    "hidden": true
   },
   "source": [
    "### Exploração básica"
   ]
  },
  {
   "cell_type": "markdown",
   "metadata": {
    "ExecuteTime": {
     "end_time": "2021-08-14T14:30:50.585365Z",
     "start_time": "2021-08-14T14:30:50.568674Z"
    },
    "hidden": true
   },
   "source": [
    "Operações indiretas automáticas a MPMEs: concessão de crédito e pedidos de financiamentos via operações indiretas (através de agentes financeiros credenciados) automáticas. O agente financeiro avalia as necessidades do cliente e o tipo de crédito, apresentando a proposta junto ao BNDES. Pleito é analisado de forma automática com aderência aos requisitos legais. BNDES não negocia as condições, quem faz isso é o agente financeiro - ele também assume o risco do não-pagamento da dívida (assume o risco de crédito da linha de financiamento). O agente ganha o spread (taxa do cliente) nesse processo todo. 99% das operações aprovadas são indiretas automáticas (quase 57 bi de reais em 1 ano e meio), sendo que 87% foram operações a Micro, Pequena, Médias Empresas (MPMEs com ROB até 300 milhões de reais). Dados disponíveis: estatísticas de desembolsos (série temporal). Dados desagregados de operações contratadas (ano/mes, data de contratação, cliente, UF, município, valor da operação, valor desembolsado, custo financeiro, taxa/spread, prazos de carência/amortização, linha de financiamento, etc."
   ]
  },
  {
   "cell_type": "code",
   "execution_count": 84,
   "metadata": {
    "ExecuteTime": {
     "end_time": "2021-09-01T00:02:41.219870Z",
     "start_time": "2021-09-01T00:02:40.781281Z"
    },
    "hidden": true
   },
   "outputs": [
    {
     "data": {
      "text/html": [
       "<div>\n",
       "<style scoped>\n",
       "    .dataframe tbody tr th:only-of-type {\n",
       "        vertical-align: middle;\n",
       "    }\n",
       "\n",
       "    .dataframe tbody tr th {\n",
       "        vertical-align: top;\n",
       "    }\n",
       "\n",
       "    .dataframe thead th {\n",
       "        text-align: right;\n",
       "    }\n",
       "</style>\n",
       "<table border=\"1\" class=\"dataframe\">\n",
       "  <thead>\n",
       "    <tr style=\"text-align: right;\">\n",
       "      <th></th>\n",
       "      <th>cliente</th>\n",
       "      <th>cpf_cnpj</th>\n",
       "      <th>uf</th>\n",
       "      <th>municipio</th>\n",
       "      <th>municipio_codigo</th>\n",
       "      <th>data_da_contratacao</th>\n",
       "      <th>valor_da_operacao_em_reais</th>\n",
       "      <th>valor_desembolsado_reais</th>\n",
       "      <th>fonte_de_recurso_desembolsos</th>\n",
       "      <th>custo_financeiro</th>\n",
       "      <th>...</th>\n",
       "      <th>subsetor_cnae_agrupado</th>\n",
       "      <th>subsetor_cnae_codigo</th>\n",
       "      <th>subsetor_cnae_nome</th>\n",
       "      <th>setor_bndes</th>\n",
       "      <th>subsetor_bndes</th>\n",
       "      <th>porte_do_cliente</th>\n",
       "      <th>natureza_do_cliente</th>\n",
       "      <th>instituicao_financeira_credenciada</th>\n",
       "      <th>cnpj_do_agente_financeiro</th>\n",
       "      <th>situacao_da_operacao</th>\n",
       "    </tr>\n",
       "  </thead>\n",
       "  <tbody>\n",
       "    <tr>\n",
       "      <th>0</th>\n",
       "      <td>BANCO COOPERATIVO SICOOB S.A.</td>\n",
       "      <td>**.*38.232/0001-**</td>\n",
       "      <td>SP</td>\n",
       "      <td>PEDREGULHO</td>\n",
       "      <td>3537008</td>\n",
       "      <td>2002-01-02</td>\n",
       "      <td>16000</td>\n",
       "      <td>16000,0</td>\n",
       "      <td>RECURSOS LIVRES - TESOURO</td>\n",
       "      <td>TAXA FIXA</td>\n",
       "      <td>...</td>\n",
       "      <td>Agropecuária</td>\n",
       "      <td>A0119900</td>\n",
       "      <td>CULT PLANTAS LAVOURA TEMPORARIA NAO ESPECIFICA...</td>\n",
       "      <td>AGROPECUÁRIA</td>\n",
       "      <td>AGROPECUÁRIA</td>\n",
       "      <td>MICRO</td>\n",
       "      <td>PRIVADA</td>\n",
       "      <td>BANCO COOPERATIVO SICOOB S.A.</td>\n",
       "      <td>02.038.232.0001-64</td>\n",
       "      <td>LIQUIDADA</td>\n",
       "    </tr>\n",
       "    <tr>\n",
       "      <th>1</th>\n",
       "      <td>BANCO REGIONAL DE DESENVOLVIMENTO DO EXTREMO SUL</td>\n",
       "      <td>**.*16.560/0001-**</td>\n",
       "      <td>RS</td>\n",
       "      <td>TRES DE MAIO</td>\n",
       "      <td>4321808</td>\n",
       "      <td>2002-01-02</td>\n",
       "      <td>8047</td>\n",
       "      <td>8047,0</td>\n",
       "      <td>RECURSOS VINCULADOS - FAT DEPÓSITOS ESPECIAIS</td>\n",
       "      <td>TAXA FIXA</td>\n",
       "      <td>...</td>\n",
       "      <td>Agropecuária</td>\n",
       "      <td>A0100000</td>\n",
       "      <td>AGRICULTURA, PECUARIA E SERVICOS RELACIONADOS</td>\n",
       "      <td>AGROPECUÁRIA</td>\n",
       "      <td>AGROPECUÁRIA</td>\n",
       "      <td>MICRO</td>\n",
       "      <td>PRIVADA</td>\n",
       "      <td>BANCO REGIONAL DE DESENVOLVIMENTO DO EXTREMO SUL</td>\n",
       "      <td>92.816.560.0001-37</td>\n",
       "      <td>LIQUIDADA</td>\n",
       "    </tr>\n",
       "    <tr>\n",
       "      <th>2</th>\n",
       "      <td>BANCO REGIONAL DE DESENVOLVIMENTO DO EXTREMO SUL</td>\n",
       "      <td>**.*16.560/0001-**</td>\n",
       "      <td>RS</td>\n",
       "      <td>ERECHIM</td>\n",
       "      <td>4307005</td>\n",
       "      <td>2002-01-02</td>\n",
       "      <td>8104</td>\n",
       "      <td>8104,0</td>\n",
       "      <td>RECURSOS VINCULADOS - FAT DEPÓSITOS ESPECIAIS</td>\n",
       "      <td>TAXA FIXA</td>\n",
       "      <td>...</td>\n",
       "      <td>Agropecuária</td>\n",
       "      <td>A0100000</td>\n",
       "      <td>AGRICULTURA, PECUARIA E SERVICOS RELACIONADOS</td>\n",
       "      <td>AGROPECUÁRIA</td>\n",
       "      <td>AGROPECUÁRIA</td>\n",
       "      <td>MICRO</td>\n",
       "      <td>PRIVADA</td>\n",
       "      <td>BANCO REGIONAL DE DESENVOLVIMENTO DO EXTREMO SUL</td>\n",
       "      <td>92.816.560.0001-37</td>\n",
       "      <td>LIQUIDADA</td>\n",
       "    </tr>\n",
       "    <tr>\n",
       "      <th>3</th>\n",
       "      <td>BANCO REGIONAL DE DESENVOLVIMENTO DO EXTREMO SUL</td>\n",
       "      <td>**.*16.560/0001-**</td>\n",
       "      <td>RS</td>\n",
       "      <td>ERECHIM</td>\n",
       "      <td>4307005</td>\n",
       "      <td>2002-01-02</td>\n",
       "      <td>6304</td>\n",
       "      <td>6304,0</td>\n",
       "      <td>RECURSOS VINCULADOS - FAT DEPÓSITOS ESPECIAIS</td>\n",
       "      <td>TAXA FIXA</td>\n",
       "      <td>...</td>\n",
       "      <td>Agropecuária</td>\n",
       "      <td>A0100000</td>\n",
       "      <td>AGRICULTURA, PECUARIA E SERVICOS RELACIONADOS</td>\n",
       "      <td>AGROPECUÁRIA</td>\n",
       "      <td>AGROPECUÁRIA</td>\n",
       "      <td>MICRO</td>\n",
       "      <td>PRIVADA</td>\n",
       "      <td>BANCO REGIONAL DE DESENVOLVIMENTO DO EXTREMO SUL</td>\n",
       "      <td>92.816.560.0001-37</td>\n",
       "      <td>LIQUIDADA</td>\n",
       "    </tr>\n",
       "    <tr>\n",
       "      <th>4</th>\n",
       "      <td>BANCO REGIONAL DE DESENVOLVIMENTO DO EXTREMO SUL</td>\n",
       "      <td>**.*16.560/0001-**</td>\n",
       "      <td>RS</td>\n",
       "      <td>HUMAITA</td>\n",
       "      <td>4309704</td>\n",
       "      <td>2002-01-02</td>\n",
       "      <td>15000</td>\n",
       "      <td>15000,0</td>\n",
       "      <td>RECURSOS VINCULADOS - FAT DEPÓSITOS ESPECIAIS</td>\n",
       "      <td>TAXA FIXA</td>\n",
       "      <td>...</td>\n",
       "      <td>Agropecuária</td>\n",
       "      <td>A0100000</td>\n",
       "      <td>AGRICULTURA, PECUARIA E SERVICOS RELACIONADOS</td>\n",
       "      <td>AGROPECUÁRIA</td>\n",
       "      <td>AGROPECUÁRIA</td>\n",
       "      <td>MICRO</td>\n",
       "      <td>PRIVADA</td>\n",
       "      <td>BANCO REGIONAL DE DESENVOLVIMENTO DO EXTREMO SUL</td>\n",
       "      <td>92.816.560.0001-37</td>\n",
       "      <td>LIQUIDADA</td>\n",
       "    </tr>\n",
       "  </tbody>\n",
       "</table>\n",
       "<p>5 rows × 30 columns</p>\n",
       "</div>"
      ],
      "text/plain": [
       "                                            cliente            cpf_cnpj   uf  \\\n",
       "0                     BANCO COOPERATIVO SICOOB S.A.  **.*38.232/0001-**   SP   \n",
       "1  BANCO REGIONAL DE DESENVOLVIMENTO DO EXTREMO SUL  **.*16.560/0001-**   RS   \n",
       "2  BANCO REGIONAL DE DESENVOLVIMENTO DO EXTREMO SUL  **.*16.560/0001-**   RS   \n",
       "3  BANCO REGIONAL DE DESENVOLVIMENTO DO EXTREMO SUL  **.*16.560/0001-**   RS   \n",
       "4  BANCO REGIONAL DE DESENVOLVIMENTO DO EXTREMO SUL  **.*16.560/0001-**   RS   \n",
       "\n",
       "      municipio  municipio_codigo data_da_contratacao  \\\n",
       "0    PEDREGULHO           3537008          2002-01-02   \n",
       "1  TRES DE MAIO           4321808          2002-01-02   \n",
       "2       ERECHIM           4307005          2002-01-02   \n",
       "3       ERECHIM           4307005          2002-01-02   \n",
       "4       HUMAITA           4309704          2002-01-02   \n",
       "\n",
       "   valor_da_operacao_em_reais valor_desembolsado_reais  \\\n",
       "0                       16000                  16000,0   \n",
       "1                        8047                   8047,0   \n",
       "2                        8104                   8104,0   \n",
       "3                        6304                   6304,0   \n",
       "4                       15000                  15000,0   \n",
       "\n",
       "                    fonte_de_recurso_desembolsos custo_financeiro  ...  \\\n",
       "0                      RECURSOS LIVRES - TESOURO        TAXA FIXA  ...   \n",
       "1  RECURSOS VINCULADOS - FAT DEPÓSITOS ESPECIAIS        TAXA FIXA  ...   \n",
       "2  RECURSOS VINCULADOS - FAT DEPÓSITOS ESPECIAIS        TAXA FIXA  ...   \n",
       "3  RECURSOS VINCULADOS - FAT DEPÓSITOS ESPECIAIS        TAXA FIXA  ...   \n",
       "4  RECURSOS VINCULADOS - FAT DEPÓSITOS ESPECIAIS        TAXA FIXA  ...   \n",
       "\n",
       "  subsetor_cnae_agrupado  subsetor_cnae_codigo  \\\n",
       "0           Agropecuária              A0119900   \n",
       "1           Agropecuária              A0100000   \n",
       "2           Agropecuária              A0100000   \n",
       "3           Agropecuária              A0100000   \n",
       "4           Agropecuária              A0100000   \n",
       "\n",
       "                                  subsetor_cnae_nome   setor_bndes  \\\n",
       "0  CULT PLANTAS LAVOURA TEMPORARIA NAO ESPECIFICA...  AGROPECUÁRIA   \n",
       "1      AGRICULTURA, PECUARIA E SERVICOS RELACIONADOS  AGROPECUÁRIA   \n",
       "2      AGRICULTURA, PECUARIA E SERVICOS RELACIONADOS  AGROPECUÁRIA   \n",
       "3      AGRICULTURA, PECUARIA E SERVICOS RELACIONADOS  AGROPECUÁRIA   \n",
       "4      AGRICULTURA, PECUARIA E SERVICOS RELACIONADOS  AGROPECUÁRIA   \n",
       "\n",
       "  subsetor_bndes porte_do_cliente natureza_do_cliente  \\\n",
       "0   AGROPECUÁRIA            MICRO             PRIVADA   \n",
       "1   AGROPECUÁRIA            MICRO             PRIVADA   \n",
       "2   AGROPECUÁRIA            MICRO             PRIVADA   \n",
       "3   AGROPECUÁRIA            MICRO             PRIVADA   \n",
       "4   AGROPECUÁRIA            MICRO             PRIVADA   \n",
       "\n",
       "                 instituicao_financeira_credenciada cnpj_do_agente_financeiro  \\\n",
       "0                     BANCO COOPERATIVO SICOOB S.A.        02.038.232.0001-64   \n",
       "1  BANCO REGIONAL DE DESENVOLVIMENTO DO EXTREMO SUL        92.816.560.0001-37   \n",
       "2  BANCO REGIONAL DE DESENVOLVIMENTO DO EXTREMO SUL        92.816.560.0001-37   \n",
       "3  BANCO REGIONAL DE DESENVOLVIMENTO DO EXTREMO SUL        92.816.560.0001-37   \n",
       "4  BANCO REGIONAL DE DESENVOLVIMENTO DO EXTREMO SUL        92.816.560.0001-37   \n",
       "\n",
       "  situacao_da_operacao  \n",
       "0            LIQUIDADA  \n",
       "1            LIQUIDADA  \n",
       "2            LIQUIDADA  \n",
       "3            LIQUIDADA  \n",
       "4            LIQUIDADA  \n",
       "\n",
       "[5 rows x 30 columns]"
      ]
     },
     "execution_count": 84,
     "metadata": {},
     "output_type": "execute_result"
    }
   ],
   "source": [
    "df.head()"
   ]
  },
  {
   "cell_type": "markdown",
   "metadata": {
    "heading_collapsed": true,
    "hidden": true
   },
   "source": [
    "### Formatando as datas"
   ]
  },
  {
   "cell_type": "code",
   "execution_count": 6,
   "metadata": {
    "ExecuteTime": {
     "end_time": "2021-08-30T22:26:05.070309Z",
     "start_time": "2021-08-30T22:26:05.056319Z"
    },
    "hidden": true
   },
   "outputs": [
    {
     "data": {
      "text/plain": [
       "Index(['cliente', 'cpf_cnpj', 'uf', 'municipio', 'municipio_codigo',\n",
       "       'data_da_contratacao', 'valor_da_operacao_em_reais',\n",
       "       'valor_desembolsado_reais', 'fonte_de_recurso_desembolsos',\n",
       "       'custo_financeiro', 'juros', 'prazo_carencia_meses',\n",
       "       'prazo_amortizacao_meses', 'modalidade_de_apoio', 'forma_de_apoio',\n",
       "       'produto', 'instrumento_financeiro', 'inovacao', 'area_operacional',\n",
       "       'setor_cnae', 'subsetor_cnae_agrupado', 'subsetor_cnae_codigo',\n",
       "       'subsetor_cnae_nome', 'setor_bndes', 'subsetor_bndes',\n",
       "       'porte_do_cliente', 'natureza_do_cliente',\n",
       "       'instituicao_financeira_credenciada', 'cnpj_do_agente_financeiro',\n",
       "       'situacao_da_operacao'],\n",
       "      dtype='object')"
      ]
     },
     "execution_count": 6,
     "metadata": {},
     "output_type": "execute_result"
    }
   ],
   "source": [
    "df.columns"
   ]
  },
  {
   "cell_type": "markdown",
   "metadata": {
    "hidden": true
   },
   "source": [
    "Transformando a coluna de data em datetime."
   ]
  },
  {
   "cell_type": "code",
   "execution_count": 7,
   "metadata": {
    "ExecuteTime": {
     "end_time": "2021-08-30T22:26:06.478910Z",
     "start_time": "2021-08-30T22:26:05.967311Z"
    },
    "hidden": true
   },
   "outputs": [],
   "source": [
    "df['data_da_contratacao'] = pd.to_datetime(df['data_da_contratacao'])"
   ]
  },
  {
   "cell_type": "markdown",
   "metadata": {
    "hidden": true
   },
   "source": [
    "Criando um novo dataframe, porém agora com as datas como index:"
   ]
  },
  {
   "cell_type": "code",
   "execution_count": 8,
   "metadata": {
    "ExecuteTime": {
     "end_time": "2021-08-30T22:26:07.723908Z",
     "start_time": "2021-08-30T22:26:07.402907Z"
    },
    "hidden": true
   },
   "outputs": [
    {
     "data": {
      "text/html": [
       "<div>\n",
       "<style scoped>\n",
       "    .dataframe tbody tr th:only-of-type {\n",
       "        vertical-align: middle;\n",
       "    }\n",
       "\n",
       "    .dataframe tbody tr th {\n",
       "        vertical-align: top;\n",
       "    }\n",
       "\n",
       "    .dataframe thead th {\n",
       "        text-align: right;\n",
       "    }\n",
       "</style>\n",
       "<table border=\"1\" class=\"dataframe\">\n",
       "  <thead>\n",
       "    <tr style=\"text-align: right;\">\n",
       "      <th></th>\n",
       "      <th>cliente</th>\n",
       "      <th>cpf_cnpj</th>\n",
       "      <th>uf</th>\n",
       "      <th>municipio</th>\n",
       "      <th>municipio_codigo</th>\n",
       "      <th>valor_da_operacao_em_reais</th>\n",
       "      <th>valor_desembolsado_reais</th>\n",
       "      <th>fonte_de_recurso_desembolsos</th>\n",
       "      <th>custo_financeiro</th>\n",
       "      <th>juros</th>\n",
       "      <th>...</th>\n",
       "      <th>subsetor_cnae_agrupado</th>\n",
       "      <th>subsetor_cnae_codigo</th>\n",
       "      <th>subsetor_cnae_nome</th>\n",
       "      <th>setor_bndes</th>\n",
       "      <th>subsetor_bndes</th>\n",
       "      <th>porte_do_cliente</th>\n",
       "      <th>natureza_do_cliente</th>\n",
       "      <th>instituicao_financeira_credenciada</th>\n",
       "      <th>cnpj_do_agente_financeiro</th>\n",
       "      <th>situacao_da_operacao</th>\n",
       "    </tr>\n",
       "    <tr>\n",
       "      <th>data_da_contratacao</th>\n",
       "      <th></th>\n",
       "      <th></th>\n",
       "      <th></th>\n",
       "      <th></th>\n",
       "      <th></th>\n",
       "      <th></th>\n",
       "      <th></th>\n",
       "      <th></th>\n",
       "      <th></th>\n",
       "      <th></th>\n",
       "      <th></th>\n",
       "      <th></th>\n",
       "      <th></th>\n",
       "      <th></th>\n",
       "      <th></th>\n",
       "      <th></th>\n",
       "      <th></th>\n",
       "      <th></th>\n",
       "      <th></th>\n",
       "      <th></th>\n",
       "      <th></th>\n",
       "    </tr>\n",
       "  </thead>\n",
       "  <tbody>\n",
       "    <tr>\n",
       "      <th>2002-01-02</th>\n",
       "      <td>BANCO COOPERATIVO SICOOB S.A.</td>\n",
       "      <td>**.*38.232/0001-**</td>\n",
       "      <td>SP</td>\n",
       "      <td>PEDREGULHO</td>\n",
       "      <td>3537008</td>\n",
       "      <td>16000</td>\n",
       "      <td>16000,0</td>\n",
       "      <td>RECURSOS LIVRES - TESOURO</td>\n",
       "      <td>TAXA FIXA</td>\n",
       "      <td>8,75</td>\n",
       "      <td>...</td>\n",
       "      <td>Agropecuária</td>\n",
       "      <td>A0119900</td>\n",
       "      <td>CULT PLANTAS LAVOURA TEMPORARIA NAO ESPECIFICA...</td>\n",
       "      <td>AGROPECUÁRIA</td>\n",
       "      <td>AGROPECUÁRIA</td>\n",
       "      <td>MICRO</td>\n",
       "      <td>PRIVADA</td>\n",
       "      <td>BANCO COOPERATIVO SICOOB S.A.</td>\n",
       "      <td>02.038.232.0001-64</td>\n",
       "      <td>LIQUIDADA</td>\n",
       "    </tr>\n",
       "    <tr>\n",
       "      <th>2002-01-02</th>\n",
       "      <td>BANCO REGIONAL DE DESENVOLVIMENTO DO EXTREMO SUL</td>\n",
       "      <td>**.*16.560/0001-**</td>\n",
       "      <td>RS</td>\n",
       "      <td>TRES DE MAIO</td>\n",
       "      <td>4321808</td>\n",
       "      <td>8047</td>\n",
       "      <td>8047,0</td>\n",
       "      <td>RECURSOS VINCULADOS - FAT DEPÓSITOS ESPECIAIS</td>\n",
       "      <td>TAXA FIXA</td>\n",
       "      <td>4,0</td>\n",
       "      <td>...</td>\n",
       "      <td>Agropecuária</td>\n",
       "      <td>A0100000</td>\n",
       "      <td>AGRICULTURA, PECUARIA E SERVICOS RELACIONADOS</td>\n",
       "      <td>AGROPECUÁRIA</td>\n",
       "      <td>AGROPECUÁRIA</td>\n",
       "      <td>MICRO</td>\n",
       "      <td>PRIVADA</td>\n",
       "      <td>BANCO REGIONAL DE DESENVOLVIMENTO DO EXTREMO SUL</td>\n",
       "      <td>92.816.560.0001-37</td>\n",
       "      <td>LIQUIDADA</td>\n",
       "    </tr>\n",
       "    <tr>\n",
       "      <th>2002-01-02</th>\n",
       "      <td>BANCO REGIONAL DE DESENVOLVIMENTO DO EXTREMO SUL</td>\n",
       "      <td>**.*16.560/0001-**</td>\n",
       "      <td>RS</td>\n",
       "      <td>ERECHIM</td>\n",
       "      <td>4307005</td>\n",
       "      <td>8104</td>\n",
       "      <td>8104,0</td>\n",
       "      <td>RECURSOS VINCULADOS - FAT DEPÓSITOS ESPECIAIS</td>\n",
       "      <td>TAXA FIXA</td>\n",
       "      <td>4,0</td>\n",
       "      <td>...</td>\n",
       "      <td>Agropecuária</td>\n",
       "      <td>A0100000</td>\n",
       "      <td>AGRICULTURA, PECUARIA E SERVICOS RELACIONADOS</td>\n",
       "      <td>AGROPECUÁRIA</td>\n",
       "      <td>AGROPECUÁRIA</td>\n",
       "      <td>MICRO</td>\n",
       "      <td>PRIVADA</td>\n",
       "      <td>BANCO REGIONAL DE DESENVOLVIMENTO DO EXTREMO SUL</td>\n",
       "      <td>92.816.560.0001-37</td>\n",
       "      <td>LIQUIDADA</td>\n",
       "    </tr>\n",
       "  </tbody>\n",
       "</table>\n",
       "<p>3 rows × 29 columns</p>\n",
       "</div>"
      ],
      "text/plain": [
       "                                                              cliente  \\\n",
       "data_da_contratacao                                                     \n",
       "2002-01-02                              BANCO COOPERATIVO SICOOB S.A.   \n",
       "2002-01-02           BANCO REGIONAL DE DESENVOLVIMENTO DO EXTREMO SUL   \n",
       "2002-01-02           BANCO REGIONAL DE DESENVOLVIMENTO DO EXTREMO SUL   \n",
       "\n",
       "                               cpf_cnpj   uf     municipio  municipio_codigo  \\\n",
       "data_da_contratacao                                                            \n",
       "2002-01-02           **.*38.232/0001-**   SP    PEDREGULHO           3537008   \n",
       "2002-01-02           **.*16.560/0001-**   RS  TRES DE MAIO           4321808   \n",
       "2002-01-02           **.*16.560/0001-**   RS       ERECHIM           4307005   \n",
       "\n",
       "                     valor_da_operacao_em_reais valor_desembolsado_reais  \\\n",
       "data_da_contratacao                                                        \n",
       "2002-01-02                                16000                  16000,0   \n",
       "2002-01-02                                 8047                   8047,0   \n",
       "2002-01-02                                 8104                   8104,0   \n",
       "\n",
       "                                      fonte_de_recurso_desembolsos  \\\n",
       "data_da_contratacao                                                  \n",
       "2002-01-02                               RECURSOS LIVRES - TESOURO   \n",
       "2002-01-02           RECURSOS VINCULADOS - FAT DEPÓSITOS ESPECIAIS   \n",
       "2002-01-02           RECURSOS VINCULADOS - FAT DEPÓSITOS ESPECIAIS   \n",
       "\n",
       "                    custo_financeiro juros  ...  subsetor_cnae_agrupado  \\\n",
       "data_da_contratacao                         ...                           \n",
       "2002-01-02                 TAXA FIXA  8,75  ...            Agropecuária   \n",
       "2002-01-02                 TAXA FIXA   4,0  ...            Agropecuária   \n",
       "2002-01-02                 TAXA FIXA   4,0  ...            Agropecuária   \n",
       "\n",
       "                     subsetor_cnae_codigo  \\\n",
       "data_da_contratacao                         \n",
       "2002-01-02                       A0119900   \n",
       "2002-01-02                       A0100000   \n",
       "2002-01-02                       A0100000   \n",
       "\n",
       "                                                    subsetor_cnae_nome  \\\n",
       "data_da_contratacao                                                      \n",
       "2002-01-02           CULT PLANTAS LAVOURA TEMPORARIA NAO ESPECIFICA...   \n",
       "2002-01-02               AGRICULTURA, PECUARIA E SERVICOS RELACIONADOS   \n",
       "2002-01-02               AGRICULTURA, PECUARIA E SERVICOS RELACIONADOS   \n",
       "\n",
       "                      setor_bndes subsetor_bndes porte_do_cliente  \\\n",
       "data_da_contratacao                                                 \n",
       "2002-01-02           AGROPECUÁRIA   AGROPECUÁRIA            MICRO   \n",
       "2002-01-02           AGROPECUÁRIA   AGROPECUÁRIA            MICRO   \n",
       "2002-01-02           AGROPECUÁRIA   AGROPECUÁRIA            MICRO   \n",
       "\n",
       "                    natureza_do_cliente  \\\n",
       "data_da_contratacao                       \n",
       "2002-01-02                      PRIVADA   \n",
       "2002-01-02                      PRIVADA   \n",
       "2002-01-02                      PRIVADA   \n",
       "\n",
       "                                   instituicao_financeira_credenciada  \\\n",
       "data_da_contratacao                                                     \n",
       "2002-01-02                              BANCO COOPERATIVO SICOOB S.A.   \n",
       "2002-01-02           BANCO REGIONAL DE DESENVOLVIMENTO DO EXTREMO SUL   \n",
       "2002-01-02           BANCO REGIONAL DE DESENVOLVIMENTO DO EXTREMO SUL   \n",
       "\n",
       "                    cnpj_do_agente_financeiro situacao_da_operacao  \n",
       "data_da_contratacao                                                 \n",
       "2002-01-02                 02.038.232.0001-64            LIQUIDADA  \n",
       "2002-01-02                 92.816.560.0001-37            LIQUIDADA  \n",
       "2002-01-02                 92.816.560.0001-37            LIQUIDADA  \n",
       "\n",
       "[3 rows x 29 columns]"
      ]
     },
     "execution_count": 8,
     "metadata": {},
     "output_type": "execute_result"
    }
   ],
   "source": [
    "df_date_as_index = df.set_index('data_da_contratacao')\n",
    "df_date_as_index.head(3)"
   ]
  },
  {
   "cell_type": "markdown",
   "metadata": {
    "hidden": true
   },
   "source": [
    "Poderíamos ter condensado tudo em uma única linha: importação e setando datas como index:\n",
    "\n",
    "- df_date_as_index = pd.read_csv('C:/Users/pfaprado/Documents/GitHub/bndes/operacoes-financiamento-operacoes-indiretas-automaticas.csv', index_col=0, parse_dates=True)"
   ]
  },
  {
   "cell_type": "markdown",
   "metadata": {
    "hidden": true
   },
   "source": [
    "Vamos criar agora novas colunas, utilizando as propriedades de DatetimeIndex do index temporal:"
   ]
  },
  {
   "cell_type": "code",
   "execution_count": 9,
   "metadata": {
    "ExecuteTime": {
     "end_time": "2021-08-30T22:26:09.601907Z",
     "start_time": "2021-08-30T22:26:09.541908Z"
    },
    "hidden": true
   },
   "outputs": [
    {
     "data": {
      "text/plain": [
       "DatetimeIndex(['2002-01-02', '2002-01-02', '2002-01-02', '2002-01-02',\n",
       "               '2002-01-02', '2002-01-02', '2002-01-02', '2002-01-02',\n",
       "               '2002-01-02', '2002-01-02',\n",
       "               ...\n",
       "               '2021-05-31', '2021-05-31', '2021-05-31', '2021-05-31',\n",
       "               '2021-05-31', '2021-05-31', '2021-05-31', '2021-05-31',\n",
       "               '2021-05-31', '2021-05-31'],\n",
       "              dtype='datetime64[ns]', name='data_da_contratacao', length=2083363, freq=None)"
      ]
     },
     "execution_count": 9,
     "metadata": {},
     "output_type": "execute_result"
    }
   ],
   "source": [
    "df_date_as_index.index"
   ]
  },
  {
   "cell_type": "code",
   "execution_count": 10,
   "metadata": {
    "ExecuteTime": {
     "end_time": "2021-08-30T22:26:12.235841Z",
     "start_time": "2021-08-30T22:26:11.395908Z"
    },
    "hidden": true
   },
   "outputs": [],
   "source": [
    "df_date_as_index['ano'] = df_date_as_index.index.year\n",
    "df_date_as_index['mes'] = df_date_as_index.index.month\n",
    "df_date_as_index['dia'] = df_date_as_index.index.day\n",
    "df_date_as_index['dia_nome'] = df_date_as_index.index.dayofweek"
   ]
  },
  {
   "cell_type": "markdown",
   "metadata": {
    "hidden": true
   },
   "source": [
    "Tirando uma amostra aleatória do dataframe:"
   ]
  },
  {
   "cell_type": "code",
   "execution_count": 11,
   "metadata": {
    "ExecuteTime": {
     "end_time": "2021-08-30T22:26:14.167870Z",
     "start_time": "2021-08-30T22:26:13.921779Z"
    },
    "hidden": true
   },
   "outputs": [
    {
     "data": {
      "text/html": [
       "<div>\n",
       "<style scoped>\n",
       "    .dataframe tbody tr th:only-of-type {\n",
       "        vertical-align: middle;\n",
       "    }\n",
       "\n",
       "    .dataframe tbody tr th {\n",
       "        vertical-align: top;\n",
       "    }\n",
       "\n",
       "    .dataframe thead th {\n",
       "        text-align: right;\n",
       "    }\n",
       "</style>\n",
       "<table border=\"1\" class=\"dataframe\">\n",
       "  <thead>\n",
       "    <tr style=\"text-align: right;\">\n",
       "      <th></th>\n",
       "      <th>cliente</th>\n",
       "      <th>cpf_cnpj</th>\n",
       "      <th>uf</th>\n",
       "      <th>municipio</th>\n",
       "      <th>municipio_codigo</th>\n",
       "      <th>valor_da_operacao_em_reais</th>\n",
       "      <th>valor_desembolsado_reais</th>\n",
       "      <th>fonte_de_recurso_desembolsos</th>\n",
       "      <th>custo_financeiro</th>\n",
       "      <th>juros</th>\n",
       "      <th>...</th>\n",
       "      <th>subsetor_bndes</th>\n",
       "      <th>porte_do_cliente</th>\n",
       "      <th>natureza_do_cliente</th>\n",
       "      <th>instituicao_financeira_credenciada</th>\n",
       "      <th>cnpj_do_agente_financeiro</th>\n",
       "      <th>situacao_da_operacao</th>\n",
       "      <th>ano</th>\n",
       "      <th>mes</th>\n",
       "      <th>dia</th>\n",
       "      <th>dia_nome</th>\n",
       "    </tr>\n",
       "    <tr>\n",
       "      <th>data_da_contratacao</th>\n",
       "      <th></th>\n",
       "      <th></th>\n",
       "      <th></th>\n",
       "      <th></th>\n",
       "      <th></th>\n",
       "      <th></th>\n",
       "      <th></th>\n",
       "      <th></th>\n",
       "      <th></th>\n",
       "      <th></th>\n",
       "      <th></th>\n",
       "      <th></th>\n",
       "      <th></th>\n",
       "      <th></th>\n",
       "      <th></th>\n",
       "      <th></th>\n",
       "      <th></th>\n",
       "      <th></th>\n",
       "      <th></th>\n",
       "      <th></th>\n",
       "      <th></th>\n",
       "    </tr>\n",
       "  </thead>\n",
       "  <tbody>\n",
       "    <tr>\n",
       "      <th>2012-06-22</th>\n",
       "      <td>AUTO POSTO TRADICAO LTDA</td>\n",
       "      <td>**.*15.352/0001-**</td>\n",
       "      <td>MG</td>\n",
       "      <td>MURIAE</td>\n",
       "      <td>3143906</td>\n",
       "      <td>61338</td>\n",
       "      <td>61338,0</td>\n",
       "      <td>RECURSOS LIVRES - TESOURO</td>\n",
       "      <td>TAXA FIXA</td>\n",
       "      <td>5,5</td>\n",
       "      <td>...</td>\n",
       "      <td>COMÉRCIO E SERVIÇOS</td>\n",
       "      <td>MICRO</td>\n",
       "      <td>PRIVADA</td>\n",
       "      <td>ITAU UNIBANCO S.A.</td>\n",
       "      <td>60.701.190.0001-04</td>\n",
       "      <td>LIQUIDADA</td>\n",
       "      <td>2012</td>\n",
       "      <td>6</td>\n",
       "      <td>22</td>\n",
       "      <td>4</td>\n",
       "    </tr>\n",
       "    <tr>\n",
       "      <th>2006-11-29</th>\n",
       "      <td>BANCO BRADESCO S.A.</td>\n",
       "      <td>**.*46.948/0001-**</td>\n",
       "      <td>GO</td>\n",
       "      <td>MARA ROSA</td>\n",
       "      <td>5212808</td>\n",
       "      <td>153000</td>\n",
       "      <td>153000,0</td>\n",
       "      <td>RECURSOS LIVRES - TESOURO</td>\n",
       "      <td>TAXA FIXA</td>\n",
       "      <td>8,75</td>\n",
       "      <td>...</td>\n",
       "      <td>AGROPECUÁRIA</td>\n",
       "      <td>MICRO</td>\n",
       "      <td>PRIVADA</td>\n",
       "      <td>BANCO BRADESCO S.A.</td>\n",
       "      <td>60.746.948.0001-12</td>\n",
       "      <td>LIQUIDADA</td>\n",
       "      <td>2006</td>\n",
       "      <td>11</td>\n",
       "      <td>29</td>\n",
       "      <td>2</td>\n",
       "    </tr>\n",
       "    <tr>\n",
       "      <th>2004-06-29</th>\n",
       "      <td>BANCO DO BRASIL SA</td>\n",
       "      <td>**.*00.000/0001-**</td>\n",
       "      <td>SC</td>\n",
       "      <td>POUSO REDONDO</td>\n",
       "      <td>4213708</td>\n",
       "      <td>220</td>\n",
       "      <td>220,0</td>\n",
       "      <td>RECURSOS LIVRES - TESOURO</td>\n",
       "      <td>TAXA FIXA</td>\n",
       "      <td>8,75</td>\n",
       "      <td>...</td>\n",
       "      <td>AGROPECUÁRIA</td>\n",
       "      <td>MICRO</td>\n",
       "      <td>PRIVADA</td>\n",
       "      <td>BANCO DO BRASIL SA</td>\n",
       "      <td>00.000.000.0001-91</td>\n",
       "      <td>LIQUIDADA</td>\n",
       "      <td>2004</td>\n",
       "      <td>6</td>\n",
       "      <td>29</td>\n",
       "      <td>1</td>\n",
       "    </tr>\n",
       "    <tr>\n",
       "      <th>2011-07-05</th>\n",
       "      <td>RONILDO FRIZZO  ME</td>\n",
       "      <td>**.*85.523/0001-**</td>\n",
       "      <td>RS</td>\n",
       "      <td>PLANALTO</td>\n",
       "      <td>4314704</td>\n",
       "      <td>620000</td>\n",
       "      <td>620000,0</td>\n",
       "      <td>RECURSOS LIVRES - TESOURO</td>\n",
       "      <td>TJ462</td>\n",
       "      <td>8,5</td>\n",
       "      <td>...</td>\n",
       "      <td>ALIMENTO E BEBIDA</td>\n",
       "      <td>PEQUENA</td>\n",
       "      <td>PRIVADA</td>\n",
       "      <td>CAIXA ECONOMICA FEDERAL</td>\n",
       "      <td>00.360.305.0001-04</td>\n",
       "      <td>LIQUIDADA</td>\n",
       "      <td>2011</td>\n",
       "      <td>7</td>\n",
       "      <td>5</td>\n",
       "      <td>1</td>\n",
       "    </tr>\n",
       "    <tr>\n",
       "      <th>2003-06-12</th>\n",
       "      <td>CAFE BOM JESUS INDUSTRIA COMERCIO E AGROPECUAR...</td>\n",
       "      <td>**.*29.058/0001-**</td>\n",
       "      <td>RS</td>\n",
       "      <td>CAXIAS DO SUL</td>\n",
       "      <td>4305108</td>\n",
       "      <td>38400</td>\n",
       "      <td>38400,0</td>\n",
       "      <td>RECURSOS LIVRES - PRÓPRIOS</td>\n",
       "      <td>TJLP</td>\n",
       "      <td>6,0</td>\n",
       "      <td>...</td>\n",
       "      <td>ALIMENTO E BEBIDA</td>\n",
       "      <td>MÉDIA</td>\n",
       "      <td>PRIVADA</td>\n",
       "      <td>BANCO SAFRA S A</td>\n",
       "      <td>58.160.789.0001-28</td>\n",
       "      <td>LIQUIDADA</td>\n",
       "      <td>2003</td>\n",
       "      <td>6</td>\n",
       "      <td>12</td>\n",
       "      <td>3</td>\n",
       "    </tr>\n",
       "  </tbody>\n",
       "</table>\n",
       "<p>5 rows × 33 columns</p>\n",
       "</div>"
      ],
      "text/plain": [
       "                                                               cliente  \\\n",
       "data_da_contratacao                                                      \n",
       "2012-06-22                                    AUTO POSTO TRADICAO LTDA   \n",
       "2006-11-29                                         BANCO BRADESCO S.A.   \n",
       "2004-06-29                                          BANCO DO BRASIL SA   \n",
       "2011-07-05                                          RONILDO FRIZZO  ME   \n",
       "2003-06-12           CAFE BOM JESUS INDUSTRIA COMERCIO E AGROPECUAR...   \n",
       "\n",
       "                               cpf_cnpj   uf      municipio  municipio_codigo  \\\n",
       "data_da_contratacao                                                             \n",
       "2012-06-22           **.*15.352/0001-**   MG         MURIAE           3143906   \n",
       "2006-11-29           **.*46.948/0001-**   GO      MARA ROSA           5212808   \n",
       "2004-06-29           **.*00.000/0001-**   SC  POUSO REDONDO           4213708   \n",
       "2011-07-05           **.*85.523/0001-**   RS       PLANALTO           4314704   \n",
       "2003-06-12           **.*29.058/0001-**   RS  CAXIAS DO SUL           4305108   \n",
       "\n",
       "                     valor_da_operacao_em_reais valor_desembolsado_reais  \\\n",
       "data_da_contratacao                                                        \n",
       "2012-06-22                                61338                  61338,0   \n",
       "2006-11-29                               153000                 153000,0   \n",
       "2004-06-29                                  220                    220,0   \n",
       "2011-07-05                               620000                 620000,0   \n",
       "2003-06-12                                38400                  38400,0   \n",
       "\n",
       "                    fonte_de_recurso_desembolsos custo_financeiro juros  ...  \\\n",
       "data_da_contratacao                                                      ...   \n",
       "2012-06-22             RECURSOS LIVRES - TESOURO        TAXA FIXA   5,5  ...   \n",
       "2006-11-29             RECURSOS LIVRES - TESOURO        TAXA FIXA  8,75  ...   \n",
       "2004-06-29             RECURSOS LIVRES - TESOURO        TAXA FIXA  8,75  ...   \n",
       "2011-07-05             RECURSOS LIVRES - TESOURO            TJ462   8,5  ...   \n",
       "2003-06-12            RECURSOS LIVRES - PRÓPRIOS             TJLP   6,0  ...   \n",
       "\n",
       "                          subsetor_bndes  porte_do_cliente  \\\n",
       "data_da_contratacao                                          \n",
       "2012-06-22           COMÉRCIO E SERVIÇOS             MICRO   \n",
       "2006-11-29                  AGROPECUÁRIA             MICRO   \n",
       "2004-06-29                  AGROPECUÁRIA             MICRO   \n",
       "2011-07-05             ALIMENTO E BEBIDA           PEQUENA   \n",
       "2003-06-12             ALIMENTO E BEBIDA             MÉDIA   \n",
       "\n",
       "                    natureza_do_cliente instituicao_financeira_credenciada  \\\n",
       "data_da_contratacao                                                          \n",
       "2012-06-22                      PRIVADA                 ITAU UNIBANCO S.A.   \n",
       "2006-11-29                      PRIVADA                BANCO BRADESCO S.A.   \n",
       "2004-06-29                      PRIVADA                 BANCO DO BRASIL SA   \n",
       "2011-07-05                      PRIVADA            CAIXA ECONOMICA FEDERAL   \n",
       "2003-06-12                      PRIVADA                    BANCO SAFRA S A   \n",
       "\n",
       "                    cnpj_do_agente_financeiro situacao_da_operacao   ano mes  \\\n",
       "data_da_contratacao                                                            \n",
       "2012-06-22                 60.701.190.0001-04            LIQUIDADA  2012   6   \n",
       "2006-11-29                 60.746.948.0001-12            LIQUIDADA  2006  11   \n",
       "2004-06-29                 00.000.000.0001-91            LIQUIDADA  2004   6   \n",
       "2011-07-05                 00.360.305.0001-04            LIQUIDADA  2011   7   \n",
       "2003-06-12                 58.160.789.0001-28            LIQUIDADA  2003   6   \n",
       "\n",
       "                    dia dia_nome  \n",
       "data_da_contratacao               \n",
       "2012-06-22           22        4  \n",
       "2006-11-29           29        2  \n",
       "2004-06-29           29        1  \n",
       "2011-07-05            5        1  \n",
       "2003-06-12           12        3  \n",
       "\n",
       "[5 rows x 33 columns]"
      ]
     },
     "execution_count": 11,
     "metadata": {},
     "output_type": "execute_result"
    }
   ],
   "source": [
    "df_date_as_index.sample(5, random_state=0)"
   ]
  },
  {
   "cell_type": "markdown",
   "metadata": {
    "heading_collapsed": true,
    "hidden": true
   },
   "source": [
    "### Time series de operações"
   ]
  },
  {
   "cell_type": "markdown",
   "metadata": {
    "hidden": true
   },
   "source": [
    "Agrupando por ano através de soma dos valores da operação em reais:"
   ]
  },
  {
   "cell_type": "code",
   "execution_count": 12,
   "metadata": {
    "ExecuteTime": {
     "end_time": "2021-08-30T22:26:16.767057Z",
     "start_time": "2021-08-30T22:26:15.809073Z"
    },
    "hidden": true
   },
   "outputs": [
    {
     "data": {
      "text/plain": [
       "ano\n",
       "2002     6802296993\n",
       "2003     8920773959\n",
       "2004    10603227830\n",
       "2005    13837237795\n",
       "2006    14820484386\n",
       "2007    24370683170\n",
       "2008    29047780879\n",
       "2009    39451829609\n",
       "2010    61515299049\n",
       "2011    51523181330\n",
       "2012    63917154352\n",
       "2013    69995748682\n",
       "2014    60929130817\n",
       "2015    23258542666\n",
       "2016    17052468229\n",
       "2017    21933268641\n",
       "2018    17414814443\n",
       "2019    11195649964\n",
       "2020    16892284014\n",
       "2021     5935994190\n",
       "Name: valor_da_operacao_em_reais, dtype: int64"
      ]
     },
     "execution_count": 12,
     "metadata": {},
     "output_type": "execute_result"
    }
   ],
   "source": [
    "df_date_as_index.groupby(by='ano').aggregate(np.sum).loc[:,'valor_da_operacao_em_reais']"
   ]
  },
  {
   "cell_type": "code",
   "execution_count": 73,
   "metadata": {
    "ExecuteTime": {
     "end_time": "2021-08-30T23:09:51.923716Z",
     "start_time": "2021-08-30T23:09:48.641363Z"
    },
    "code_folding": [],
    "hidden": true,
    "scrolled": true
   },
   "outputs": [
    {
     "data": {
      "text/plain": [
       "([<matplotlib.axis.XTick at 0x1a536be4e50>,\n",
       "  <matplotlib.axis.XTick at 0x1a536be4d60>,\n",
       "  <matplotlib.axis.XTick at 0x1a5be5e1250>,\n",
       "  <matplotlib.axis.XTick at 0x1a5bf8da1f0>,\n",
       "  <matplotlib.axis.XTick at 0x1a5bf12e940>,\n",
       "  <matplotlib.axis.XTick at 0x1a5bf12ebb0>,\n",
       "  <matplotlib.axis.XTick at 0x1a5bf12ea60>,\n",
       "  <matplotlib.axis.XTick at 0x1a5be607d60>,\n",
       "  <matplotlib.axis.XTick at 0x1a5bf12e700>,\n",
       "  <matplotlib.axis.XTick at 0x1a5bf1bcdf0>,\n",
       "  <matplotlib.axis.XTick at 0x1a5b7f9a940>,\n",
       "  <matplotlib.axis.XTick at 0x1a5bf1bc8e0>,\n",
       "  <matplotlib.axis.XTick at 0x1a5bf1bce80>,\n",
       "  <matplotlib.axis.XTick at 0x1a5beb40fa0>,\n",
       "  <matplotlib.axis.XTick at 0x1a5beb40760>,\n",
       "  <matplotlib.axis.XTick at 0x1a5beb408e0>,\n",
       "  <matplotlib.axis.XTick at 0x1a5bf1e4d00>,\n",
       "  <matplotlib.axis.XTick at 0x1a5beb40ac0>,\n",
       "  <matplotlib.axis.XTick at 0x1a5bf1bcd30>,\n",
       "  <matplotlib.axis.XTick at 0x1a5bf12efa0>],\n",
       " [Text(0, 0, ''),\n",
       "  Text(0, 0, ''),\n",
       "  Text(0, 0, ''),\n",
       "  Text(0, 0, ''),\n",
       "  Text(0, 0, ''),\n",
       "  Text(0, 0, ''),\n",
       "  Text(0, 0, ''),\n",
       "  Text(0, 0, ''),\n",
       "  Text(0, 0, ''),\n",
       "  Text(0, 0, ''),\n",
       "  Text(0, 0, ''),\n",
       "  Text(0, 0, ''),\n",
       "  Text(0, 0, ''),\n",
       "  Text(0, 0, ''),\n",
       "  Text(0, 0, ''),\n",
       "  Text(0, 0, ''),\n",
       "  Text(0, 0, ''),\n",
       "  Text(0, 0, ''),\n",
       "  Text(0, 0, ''),\n",
       "  Text(0, 0, '')])"
      ]
     },
     "execution_count": 73,
     "metadata": {},
     "output_type": "execute_result"
    },
    {
     "data": {
      "image/png": "[encoded data removed]",
      "text/plain": [
       "<Figure size 792x288 with 1 Axes>"
      ]
     },
     "metadata": {},
     "output_type": "display_data"
    }
   ],
   "source": [
    "#Graficando em um time series:\n",
    "df_date_as_index.groupby(by='ano').aggregate(np.sum).loc[:,'valor_da_operacao_em_reais'].plot(linewidth=0.5);\n",
    "plt.ylabel(\"Valor total de Op. Ind. Aut. / Dezenas de Bilhões de R$\")\n",
    "plt.xticks(np.arange(min(pd.DataFrame(df_date_as_index.groupby(by='ano').aggregate(np.sum).loc[:,'valor_da_operacao_em_reais']).index), max(pd.DataFrame(df_date_as_index.groupby(by='ano').aggregate(np.sum).loc[:,'valor_da_operacao_em_reais']).index)+1, 1.0))"
   ]
  },
  {
   "cell_type": "code",
   "execution_count": 14,
   "metadata": {
    "ExecuteTime": {
     "end_time": "2021-08-30T22:26:22.383972Z",
     "start_time": "2021-08-30T22:26:21.535110Z"
    },
    "code_folding": [
     1
    ],
    "hidden": true
   },
   "outputs": [
    {
     "name": "stdout",
     "output_type": "stream",
     "text": [
      "\n",
      "      O pico dos investimentos foi de aproximadamente\n",
      "      70\n",
      "      bilhões de reais\n",
      "      em 2013.\n",
      "      \n"
     ]
    }
   ],
   "source": [
    "#Analisando o pico de investimentos ao longo dos anos:\n",
    "print(f\"\"\"\n",
    "      O pico dos investimentos foi de aproximadamente\n",
    "      {(df_date_as_index.groupby(by='ano').aggregate(np.sum).loc[:,'valor_da_operacao_em_reais'].max()/1000000000):.0f}\n",
    "      bilhões de reais\n",
    "      em 2013.\n",
    "      \"\"\")"
   ]
  },
  {
   "cell_type": "markdown",
   "metadata": {
    "heading_collapsed": true,
    "hidden": true
   },
   "source": [
    "### Tendência e sazonalidade"
   ]
  },
  {
   "cell_type": "markdown",
   "metadata": {
    "heading_collapsed": true,
    "hidden": true
   },
   "source": [
    "#### Geral"
   ]
  },
  {
   "cell_type": "code",
   "execution_count": 75,
   "metadata": {
    "ExecuteTime": {
     "end_time": "2021-08-30T23:13:37.543000Z",
     "start_time": "2021-08-30T23:13:35.841985Z"
    },
    "code_folding": [],
    "hidden": true
   },
   "outputs": [
    {
     "data": {
      "image/png": "[encoded data removed]",
      "text/plain": [
       "<Figure size 1600x560 with 2 Axes>"
      ]
     },
     "metadata": {},
     "output_type": "display_data"
    }
   ],
   "source": [
    "# Draw Plot\n",
    "fig, axes = plt.subplots(1, 2, figsize=(20,7), dpi= 80)\n",
    "sns.boxplot(x='ano', y='valor_da_operacao_em_reais', data=df_date_as_index, ax=axes[0], showfliers = False)\n",
    "sns.boxplot(x='mes', y='valor_da_operacao_em_reais', data=df_date_as_index, showfliers = False)\n",
    "\n",
    "# Set Title\n",
    "axes[0].set_title('Box Plot Anual\\n(Tendência)', fontsize=18); \n",
    "axes[1].set_title('Box Plot Mensal\\n(Sazonalidade)', fontsize=18)\n",
    "axes[0].set_ylabel('Valor total de Op. Ind. Aut. / Milhões de R$')\n",
    "axes[1].set_ylabel('Valor total de Op. Ind. Aut. / Milhões de R$')\n",
    "plt.show()"
   ]
  },
  {
   "cell_type": "markdown",
   "metadata": {
    "hidden": true
   },
   "source": [
    "No 1o gráfico, observada tendência de aumento dos investimentos conforme o avanço dos mandatos de governo. 2007 a 2010. 2011 a 2014. 2015-2018. De 2002 a 2007 houve um período de expansão dos investimentos. Observa-se desse gráfico grande variabilidade em 2021, o que pode ser explicado pela baixa quantidade de investimentos registrada até o momento."
   ]
  },
  {
   "cell_type": "markdown",
   "metadata": {
    "hidden": true
   },
   "source": [
    "Observando a composição desses investimentos em total de reais:"
   ]
  },
  {
   "cell_type": "code",
   "execution_count": 16,
   "metadata": {
    "ExecuteTime": {
     "end_time": "2021-08-30T22:26:27.633057Z",
     "start_time": "2021-08-30T22:26:27.619061Z"
    },
    "hidden": true
   },
   "outputs": [
    {
     "data": {
      "text/plain": [
       "Index(['cliente', 'cpf_cnpj', 'uf', 'municipio', 'municipio_codigo',\n",
       "       'data_da_contratacao', 'valor_da_operacao_em_reais',\n",
       "       'valor_desembolsado_reais', 'fonte_de_recurso_desembolsos',\n",
       "       'custo_financeiro', 'juros', 'prazo_carencia_meses',\n",
       "       'prazo_amortizacao_meses', 'modalidade_de_apoio', 'forma_de_apoio',\n",
       "       'produto', 'instrumento_financeiro', 'inovacao', 'area_operacional',\n",
       "       'setor_cnae', 'subsetor_cnae_agrupado', 'subsetor_cnae_codigo',\n",
       "       'subsetor_cnae_nome', 'setor_bndes', 'subsetor_bndes',\n",
       "       'porte_do_cliente', 'natureza_do_cliente',\n",
       "       'instituicao_financeira_credenciada', 'cnpj_do_agente_financeiro',\n",
       "       'situacao_da_operacao'],\n",
       "      dtype='object')"
      ]
     },
     "execution_count": 16,
     "metadata": {},
     "output_type": "execute_result"
    }
   ],
   "source": [
    "df.columns"
   ]
  },
  {
   "cell_type": "code",
   "execution_count": 74,
   "metadata": {
    "ExecuteTime": {
     "end_time": "2021-08-30T23:11:35.735322Z",
     "start_time": "2021-08-30T23:11:33.913893Z"
    },
    "hidden": true
   },
   "outputs": [
    {
     "data": {
      "image/png": "[encoded data removed]",
      "text/plain": [
       "<Figure size 1600x560 with 2 Axes>"
      ]
     },
     "metadata": {},
     "output_type": "display_data"
    }
   ],
   "source": [
    "fig, axes = plt.subplots(1, 2, figsize=(20,7), dpi= 80)\n",
    "\n",
    "investimentos_anuais_stacked = df_date_as_index.groupby(['ano','porte_do_cliente'])['ano'].sum().unstack('porte_do_cliente')\n",
    "investimentos_anuais_stacked.plot(kind='bar', stacked=True, ax=axes[0])\n",
    "investimentos_anuais_stacked = df_date_as_index.groupby(['ano','setor_bndes'])['ano'].sum().unstack('setor_bndes')\n",
    "investimentos_anuais_stacked.plot(kind='bar', stacked=True, ax=axes[1])\n",
    "\n",
    "# Set Title\n",
    "axes[0].set_title('Volume de Op. Ind. Aut.\\n(Cliente)', fontsize=18); \n",
    "axes[1].set_title('Volume de Op. Ind. Aut.\\n(Setor)', fontsize=18)\n",
    "axes[0].set_ylabel('Valor total de Op. Ind. Aut. / Centenas de Milhões de R$')\n",
    "axes[1].set_ylabel('Valor total de Op. Ind. Aut. / Centenas de Milhões de R$')\n",
    "plt.show()"
   ]
  },
  {
   "cell_type": "markdown",
   "metadata": {
    "hidden": true
   },
   "source": [
    "Por porte de cliente, de 2002 a 2014 as micro empresas sempre foram o alvo em volume de investimentos, com crescimento das pequenas e médias. A partir de 2015 o volume diminuiu consideravelmente para as pequenas/médias/micro empresas, e passou a ser mais uniforme entre os portes.\n",
    "\n",
    "Agropecuária desaparece quase, infraestrutura aumenta por um tempo porém diminui novamente. Comércio cresce e se mantém líder dos investimentos.\n"
   ]
  },
  {
   "cell_type": "markdown",
   "metadata": {
    "heading_collapsed": true,
    "hidden": true
   },
   "source": [
    "#### Porte do cliente"
   ]
  },
  {
   "cell_type": "code",
   "execution_count": 18,
   "metadata": {
    "ExecuteTime": {
     "end_time": "2021-08-30T22:26:33.002071Z",
     "start_time": "2021-08-30T22:26:32.617072Z"
    },
    "hidden": true
   },
   "outputs": [],
   "source": [
    "#Criando um crosstab para plotar um stacked bar percentual.\n",
    "cross_ano_porte = pd.crosstab(df_date_as_index['ano'], df_date_as_index['porte_do_cliente'], values=df_date_as_index.valor_da_operacao_em_reais, aggfunc='sum', margins=False, normalize='index')\n",
    "cross_ano_porte.columns = ['MICRO', 'PEQUENA', 'MÉDIA', 'GRANDE']"
   ]
  },
  {
   "cell_type": "code",
   "execution_count": 19,
   "metadata": {
    "ExecuteTime": {
     "end_time": "2021-08-30T22:26:34.716086Z",
     "start_time": "2021-08-30T22:26:34.702071Z"
    },
    "hidden": true
   },
   "outputs": [],
   "source": [
    "#Copiando os indexes para criar uma coluna com os anos:\n",
    "cross_ano_porte['ano'] = cross_ano_porte.index"
   ]
  },
  {
   "cell_type": "code",
   "execution_count": 78,
   "metadata": {
    "ExecuteTime": {
     "end_time": "2021-08-30T23:16:42.695527Z",
     "start_time": "2021-08-30T23:16:42.106522Z"
    },
    "code_folding": [],
    "hidden": true
   },
   "outputs": [
    {
     "data": {
      "text/plain": [
       "Text(0, 0.5, 'Share')"
      ]
     },
     "execution_count": 78,
     "metadata": {},
     "output_type": "execute_result"
    },
    {
     "data": {
      "image/png": "[encoded data removed]",
      "text/plain": [
       "<Figure size 792x288 with 1 Axes>"
      ]
     },
     "metadata": {},
     "output_type": "display_data"
    }
   ],
   "source": [
    "cross_ano_porte.plot(\n",
    "    x = 'ano',\n",
    "    kind = 'bar',\n",
    "    stacked = True,\n",
    "    title = 'Stacked Bar Graph',\n",
    "    mark_right = True)\n",
    "\n",
    "plt.title('Share de operações por porte de cliente')\n",
    "plt.xlabel('Ano')\n",
    "plt.ylabel('Share')"
   ]
  },
  {
   "cell_type": "markdown",
   "metadata": {
    "hidden": true
   },
   "source": [
    "Ao longo dos anos, as de porte MÉDIO tiveram maior participação em volume de investimentos. As empresas de porte PEQUENA tiveram menor participação a partir de 2017."
   ]
  },
  {
   "cell_type": "markdown",
   "metadata": {
    "heading_collapsed": true,
    "hidden": true
   },
   "source": [
    "#### Setor do BNDES"
   ]
  },
  {
   "cell_type": "code",
   "execution_count": 21,
   "metadata": {
    "ExecuteTime": {
     "end_time": "2021-08-30T22:26:39.001113Z",
     "start_time": "2021-08-30T22:26:38.598071Z"
    },
    "hidden": true
   },
   "outputs": [],
   "source": [
    "#Criando um crosstab para plotar um stacked bar percentual.\n",
    "cross_ano_setor = pd.crosstab(df_date_as_index['ano'], df_date_as_index['setor_bndes'], values=df_date_as_index.valor_da_operacao_em_reais, aggfunc='sum', margins=False, normalize='index')"
   ]
  },
  {
   "cell_type": "code",
   "execution_count": 22,
   "metadata": {
    "ExecuteTime": {
     "end_time": "2021-08-30T22:26:40.662085Z",
     "start_time": "2021-08-30T22:26:40.650072Z"
    },
    "hidden": true
   },
   "outputs": [],
   "source": [
    "#Copiando os indexes para criar uma coluna com os anos:\n",
    "cross_ano_setor['ano'] = cross_ano_setor.index"
   ]
  },
  {
   "cell_type": "code",
   "execution_count": 79,
   "metadata": {
    "ExecuteTime": {
     "end_time": "2021-08-30T23:17:52.541797Z",
     "start_time": "2021-08-30T23:17:51.913809Z"
    },
    "code_folding": [],
    "hidden": true
   },
   "outputs": [
    {
     "data": {
      "text/plain": [
       "Text(0, 0.5, 'Share')"
      ]
     },
     "execution_count": 79,
     "metadata": {},
     "output_type": "execute_result"
    },
    {
     "data": {
      "image/png": "[encoded data removed]",
      "text/plain": [
       "<Figure size 792x288 with 1 Axes>"
      ]
     },
     "metadata": {},
     "output_type": "display_data"
    }
   ],
   "source": [
    "#Plotar o stacked bar percentualmente.\n",
    "cross_ano_setor.plot(\n",
    "    x = 'ano',\n",
    "    kind = 'bar',\n",
    "    stacked = True,\n",
    "    title = 'Stacked Bar Graph',\n",
    "    mark_right = True)\n",
    "\n",
    "plt.title('Share de operações por setor')\n",
    "plt.xlabel('Ano')\n",
    "plt.ylabel('Share')"
   ]
  },
  {
   "cell_type": "markdown",
   "metadata": {
    "hidden": true
   },
   "source": [
    "Percentualmente, a participação de INDUSTRIA e AGROPECUÁRIA diminuíram. COMERCIO/SERVIÇOS aumentou."
   ]
  },
  {
   "cell_type": "markdown",
   "metadata": {
    "heading_collapsed": true
   },
   "source": [
    "## Dataset: Stringency por COVID (Oxford)\n",
    "Foi explorado ainda a relação entre o aumento das restrições geradas pelo COVID e o volume de operações indiretas automáticas contratadas."
   ]
  },
  {
   "cell_type": "markdown",
   "metadata": {
    "hidden": true
   },
   "source": [
    "### Tratamento dos dados"
   ]
  },
  {
   "cell_type": "markdown",
   "metadata": {
    "hidden": true
   },
   "source": [
    "API Covidtracker de Oxford (Fonte: https://covidtracker.bsg.ox.ac.uk/) foi utilizada para construir um time series do nível de stringency do Brasil desde o início da pandêmia. O Stringency Index é calculado com base em 7 indicadores de políticas públicas:\n",
    "- \"School closing\"\n",
    "- \"Workplace closing\"\n",
    "- \"Cancel public events\"\n",
    "- \"Restrictions on gathering size\"\n",
    "- \"Close public transport\"\n",
    "- \"Stay at home requirements\"\n",
    "- \"Restrictions on internal movement\"\n",
    "- \"Restrictions on international travel\"\n",
    "- \"Public information campaign\"."
   ]
  },
  {
   "cell_type": "code",
   "execution_count": 82,
   "metadata": {
    "ExecuteTime": {
     "end_time": "2021-08-30T23:20:22.131861Z",
     "start_time": "2021-08-30T23:19:40.185599Z"
    },
    "code_folding": [
     0
    ],
    "hidden": true
   },
   "outputs": [],
   "source": [
    "#Relizando a request:\n",
    "response = requests.get('https://covidtrackerapi.bsg.ox.ac.uk/api/v2/stringency/date-range/2020-01-02/2021-08-14')"
   ]
  },
  {
   "cell_type": "code",
   "execution_count": 83,
   "metadata": {
    "ExecuteTime": {
     "end_time": "2021-08-30T23:20:24.188870Z",
     "start_time": "2021-08-30T23:20:24.174853Z"
    },
    "code_folding": [
     0
    ],
    "hidden": true
   },
   "outputs": [
    {
     "data": {
      "text/plain": [
       "<Response [200]>"
      ]
     },
     "execution_count": 83,
     "metadata": {},
     "output_type": "execute_result"
    }
   ],
   "source": [
    "#Checando a resposta da API; Response 200: A API está retornando resposta.\n",
    "response"
   ]
  },
  {
   "cell_type": "code",
   "execution_count": 26,
   "metadata": {
    "ExecuteTime": {
     "end_time": "2021-08-30T22:27:30.502894Z",
     "start_time": "2021-08-30T22:27:30.179826Z"
    },
    "code_folding": [
     0
    ],
    "hidden": true
   },
   "outputs": [],
   "source": [
    "#O dicionário/json retornado para o período escolhido:\n",
    "results = response.json()"
   ]
  },
  {
   "cell_type": "code",
   "execution_count": 27,
   "metadata": {
    "ExecuteTime": {
     "end_time": "2021-08-30T22:27:32.549955Z",
     "start_time": "2021-08-30T22:27:32.536153Z"
    },
    "code_folding": [
     0
    ],
    "hidden": true
   },
   "outputs": [
    {
     "data": {
      "text/plain": [
       "datetime.date(2021, 8, 30)"
      ]
     },
     "execution_count": 27,
     "metadata": {},
     "output_type": "execute_result"
    }
   ],
   "source": [
    "#Extraindo o dia de hoje:\n",
    "import datetime\n",
    "today = pd.to_datetime(\"today\")\n",
    "hoje = today.date()\n",
    "hoje"
   ]
  },
  {
   "cell_type": "code",
   "execution_count": 28,
   "metadata": {
    "ExecuteTime": {
     "end_time": "2021-08-30T22:27:34.641793Z",
     "start_time": "2021-08-30T22:27:34.627793Z"
    },
    "code_folding": [
     0
    ],
    "hidden": true
   },
   "outputs": [],
   "source": [
    "#Função para criar lista de dias desde 01-01-2020:\n",
    "dia_teste = hoje\n",
    "lista_dias_total = []\n",
    "dia_corte = pd.to_datetime('2020-01-01').date()\n",
    "\n",
    "while dia_teste > dia_corte:\n",
    "    dia_teste = dia_teste-datetime.timedelta(days=1)\n",
    "    lista_dias_total.append(dia_teste)"
   ]
  },
  {
   "cell_type": "code",
   "execution_count": 29,
   "metadata": {
    "ExecuteTime": {
     "end_time": "2021-08-30T22:27:36.688795Z",
     "start_time": "2021-08-30T22:27:36.675798Z"
    },
    "code_folding": [
     0
    ],
    "hidden": true
   },
   "outputs": [
    {
     "data": {
      "text/plain": [
       "'2021-08-29'"
      ]
     },
     "execution_count": 29,
     "metadata": {},
     "output_type": "execute_result"
    }
   ],
   "source": [
    "#Os dias ficam com o formato abaixo:\n",
    "str(lista_dias_total[0])"
   ]
  },
  {
   "cell_type": "code",
   "execution_count": 80,
   "metadata": {
    "ExecuteTime": {
     "end_time": "2021-08-30T23:19:17.924390Z",
     "start_time": "2021-08-30T23:19:17.906390Z"
    },
    "code_folding": [],
    "hidden": true
   },
   "outputs": [
    {
     "ename": "IndentationError",
     "evalue": "expected an indented block (<ipython-input-80-5828efc07328>, line 9)",
     "output_type": "error",
     "traceback": [
      "\u001b[1;36m  File \u001b[1;32m\"<ipython-input-80-5828efc07328>\"\u001b[1;36m, line \u001b[1;32m9\u001b[0m\n\u001b[1;33m    #print(f'Não existe o dia {dia}')\u001b[0m\n\u001b[1;37m                                     ^\u001b[0m\n\u001b[1;31mIndentationError\u001b[0m\u001b[1;31m:\u001b[0m expected an indented block\n"
     ]
    }
   ],
   "source": [
    "#Criação da lista com os dias que existem apontamentos para o Brasil:\n",
    "brazil_lista = []\n",
    "for dia in lista_dias:\n",
    "    try:\n",
    "        results['data'][str(dia)]['BRA']\n",
    "        brazil_lista.append(str(dia))\n",
    "        #print(f'Existe {dia}')\n",
    "    except:\n",
    "        #print(f'Não existe o dia {dia}')"
   ]
  },
  {
   "cell_type": "code",
   "execution_count": null,
   "metadata": {
    "ExecuteTime": {
     "end_time": "2021-08-30T22:27:38.717790Z",
     "start_time": "2021-08-30T22:25:50.695Z"
    },
    "code_folding": [
     0
    ],
    "hidden": true
   },
   "outputs": [],
   "source": [
    "#Criando um dataframe para armazenar o dia, nível de constringência e constringência legado:\n",
    "df_dia_constringencia = pd.DataFrame({'dia':[], 'stringency':[], 'stringency_legacy':[]})"
   ]
  },
  {
   "cell_type": "code",
   "execution_count": null,
   "metadata": {
    "ExecuteTime": {
     "end_time": "2021-08-30T22:27:38.720791Z",
     "start_time": "2021-08-30T22:25:50.864Z"
    },
    "code_folding": [
     0
    ],
    "hidden": true
   },
   "outputs": [],
   "source": [
    "#Apendando em três listas distintas para futuramenta inserir no dataframe:\n",
    "lista_dia = []\n",
    "lista_stringency = []\n",
    "lista_stringency_legacy = []\n",
    "\n",
    "for dia in brazil_lista:\n",
    "    try:\n",
    "        a = results['data'][str(dia)]['BRA']['stringency']\n",
    "        b = results['data'][str(dia)]['BRA']['stringency_legacy']\n",
    "                \n",
    "        lista_dia.append(str(dia))\n",
    "        lista_stringency.append(a)\n",
    "        lista_stringency_legacy.append(b)\n",
    "    except:\n",
    "        continue"
   ]
  },
  {
   "cell_type": "code",
   "execution_count": null,
   "metadata": {
    "ExecuteTime": {
     "end_time": "2021-08-30T22:27:38.722789Z",
     "start_time": "2021-08-30T22:25:51.040Z"
    },
    "code_folding": [
     0
    ],
    "hidden": true
   },
   "outputs": [],
   "source": [
    "#Inserindo o conteúdo das listas no dataframe:\n",
    "df_dia_constringencia['dia'] = lista_dia\n",
    "df_dia_constringencia['stringency'] = lista_stringency\n",
    "df_dia_constringencia['stringency_legacy'] = lista_stringency_legacy"
   ]
  },
  {
   "cell_type": "code",
   "execution_count": null,
   "metadata": {
    "ExecuteTime": {
     "end_time": "2021-08-30T22:27:38.725791Z",
     "start_time": "2021-08-30T22:25:51.208Z"
    },
    "code_folding": [
     0
    ],
    "hidden": true
   },
   "outputs": [],
   "source": [
    "#Checando o formato do dataframe:\n",
    "df_dia_constringencia"
   ]
  },
  {
   "cell_type": "code",
   "execution_count": null,
   "metadata": {
    "ExecuteTime": {
     "end_time": "2021-08-30T22:27:38.727790Z",
     "start_time": "2021-08-30T22:25:51.391Z"
    },
    "code_folding": [
     0
    ],
    "hidden": true
   },
   "outputs": [],
   "source": [
    "#Colocando as datas como index:\n",
    "df_dia_constringencia['dia'] = pd.to_datetime(df_dia_constringencia['dia'])\n",
    "df_dia_constringencia_index = df_dia_constringencia.set_index('dia')\n",
    "\n",
    "#Observando ocmo ficou:\n",
    "df_dia_constringencia_index.sample(5, random_state=0)"
   ]
  },
  {
   "cell_type": "code",
   "execution_count": null,
   "metadata": {
    "ExecuteTime": {
     "end_time": "2021-08-30T22:27:38.729789Z",
     "start_time": "2021-08-30T22:25:51.575Z"
    },
    "code_folding": [
     0
    ],
    "hidden": true
   },
   "outputs": [],
   "source": [
    "#Verificando o tipo de dado que está no índice do dataframe de investimentos indiretos automáticos:\n",
    "df_date_as_index.index"
   ]
  },
  {
   "cell_type": "code",
   "execution_count": null,
   "metadata": {
    "ExecuteTime": {
     "end_time": "2021-08-30T22:27:38.731806Z",
     "start_time": "2021-08-30T22:25:51.759Z"
    },
    "code_folding": [
     0
    ],
    "hidden": true
   },
   "outputs": [],
   "source": [
    "#Verificando o tipo de dado que está no índice do dataframe de constringência:\n",
    "df_dia_constringencia_index.index"
   ]
  },
  {
   "cell_type": "code",
   "execution_count": null,
   "metadata": {
    "ExecuteTime": {
     "end_time": "2021-08-30T22:27:38.735790Z",
     "start_time": "2021-08-30T22:25:51.944Z"
    },
    "code_folding": [
     0
    ],
    "hidden": true
   },
   "outputs": [],
   "source": [
    "#Dando um merge através dos índices de data:\n",
    "consolidado_investimentos_stringency = pd.merge(df_date_as_index, df_dia_constringencia_index, left_index=True, right_index=True, how='inner')\n",
    "\n",
    "#Verificando a cara do dataframe:\n",
    "consolidado_investimentos_stringency.sample(3, random_state=0)"
   ]
  },
  {
   "cell_type": "markdown",
   "metadata": {
    "hidden": true
   },
   "source": [
    "A fim de poder construir também um dataframe com ano-mês agrupado, o que pode facilitar a análise e visão no time series multilinha:"
   ]
  },
  {
   "cell_type": "code",
   "execution_count": null,
   "metadata": {
    "ExecuteTime": {
     "end_time": "2021-08-30T22:27:38.738792Z",
     "start_time": "2021-08-30T22:25:52.304Z"
    },
    "hidden": true
   },
   "outputs": [],
   "source": [
    "#Criamos uma coluna 'ano-mes', primeiramente igualando ao índice do dataframe:\n",
    "consolidado_investimentos_stringency['ano-mes'] = consolidado_investimentos_stringency.index"
   ]
  },
  {
   "cell_type": "code",
   "execution_count": null,
   "metadata": {
    "ExecuteTime": {
     "end_time": "2021-08-30T22:27:38.740792Z",
     "start_time": "2021-08-30T22:25:52.488Z"
    },
    "code_folding": [
     0
    ],
    "hidden": true
   },
   "outputs": [],
   "source": [
    "#Agora extraímos os 7 primeiros caracteres presentes nessa coluna nova e substituímos nela mesma:\n",
    "consolidado_investimentos_stringency['ano-mes'] = consolidado_investimentos_stringency['ano-mes'].apply(lambda x: str(x)[0:7])\n",
    "consolidado_investimentos_stringency['ano-mes']"
   ]
  },
  {
   "cell_type": "code",
   "execution_count": null,
   "metadata": {
    "ExecuteTime": {
     "end_time": "2021-08-30T22:27:38.743789Z",
     "start_time": "2021-08-30T22:25:52.672Z"
    },
    "code_folding": [
     0
    ],
    "hidden": true
   },
   "outputs": [],
   "source": [
    "#O dataframe consolidado ano-mes fica conforme abaixo: 'consolidado_investimentos_stringency_ano_mes'\n",
    "consolidado_investimentos_stringency_ano_mes = consolidado_investimentos_stringency.groupby('ano-mes').agg('mean')[['stringency','valor_da_operacao_em_reais']]\n",
    "consolidado_investimentos_stringency_ano_mes"
   ]
  },
  {
   "cell_type": "markdown",
   "metadata": {
    "hidden": true
   },
   "source": [
    "### Time series de volume de operações versus stringency"
   ]
  },
  {
   "cell_type": "markdown",
   "metadata": {
    "hidden": true
   },
   "source": [
    "####  Stringency e valor total de operações - por dia"
   ]
  },
  {
   "cell_type": "code",
   "execution_count": null,
   "metadata": {
    "ExecuteTime": {
     "end_time": "2021-08-30T22:27:38.745790Z",
     "start_time": "2021-08-30T22:25:53.191Z"
    },
    "code_folding": [],
    "hidden": true,
    "scrolled": true
   },
   "outputs": [],
   "source": [
    "#Construindo um time series multiline e com dois eixos:\n",
    "ax = consolidado_investimentos_stringency.plot(y=\"stringency\", legend=False)\n",
    "ax2 = ax.twinx()\n",
    "consolidado_investimentos_stringency.plot(y=\"valor_da_operacao_em_reais\", ax=ax2, legend=False, color=\"r\")\n",
    "ax.figure.legend()\n",
    "plt.show()"
   ]
  },
  {
   "cell_type": "markdown",
   "metadata": {
    "hidden": true
   },
   "source": [
    "#### Stringency e valor total de operações - agrupado por ano-mês"
   ]
  },
  {
   "cell_type": "code",
   "execution_count": 81,
   "metadata": {
    "ExecuteTime": {
     "end_time": "2021-08-30T23:19:35.731171Z",
     "start_time": "2021-08-30T23:19:35.712172Z"
    },
    "hidden": true
   },
   "outputs": [
    {
     "ename": "NameError",
     "evalue": "name 'consolidado_investimentos_stringency_ano_mes' is not defined",
     "output_type": "error",
     "traceback": [
      "\u001b[1;31m---------------------------------------------------------------------------\u001b[0m",
      "\u001b[1;31mNameError\u001b[0m                                 Traceback (most recent call last)",
      "\u001b[1;32m<ipython-input-81-55c0aeded523>\u001b[0m in \u001b[0;36m<module>\u001b[1;34m\u001b[0m\n\u001b[0;32m      1\u001b[0m \u001b[1;31m#Construindo um time series multiline e com dois eixos:\u001b[0m\u001b[1;33m\u001b[0m\u001b[1;33m\u001b[0m\u001b[1;33m\u001b[0m\u001b[0m\n\u001b[1;32m----> 2\u001b[1;33m \u001b[0max\u001b[0m \u001b[1;33m=\u001b[0m \u001b[0mconsolidado_investimentos_stringency_ano_mes\u001b[0m\u001b[1;33m.\u001b[0m\u001b[0mplot\u001b[0m\u001b[1;33m(\u001b[0m\u001b[0my\u001b[0m\u001b[1;33m=\u001b[0m\u001b[1;34m\"stringency\"\u001b[0m\u001b[1;33m,\u001b[0m \u001b[0mlegend\u001b[0m\u001b[1;33m=\u001b[0m\u001b[1;32mFalse\u001b[0m\u001b[1;33m,\u001b[0m \u001b[0mcolor\u001b[0m\u001b[1;33m=\u001b[0m\u001b[1;34m\"r\"\u001b[0m\u001b[1;33m)\u001b[0m\u001b[1;33m\u001b[0m\u001b[1;33m\u001b[0m\u001b[0m\n\u001b[0m\u001b[0;32m      3\u001b[0m \u001b[0max2\u001b[0m \u001b[1;33m=\u001b[0m \u001b[0max\u001b[0m\u001b[1;33m.\u001b[0m\u001b[0mtwinx\u001b[0m\u001b[1;33m(\u001b[0m\u001b[1;33m)\u001b[0m\u001b[1;33m\u001b[0m\u001b[1;33m\u001b[0m\u001b[0m\n\u001b[0;32m      4\u001b[0m \u001b[0mconsolidado_investimentos_stringency_ano_mes\u001b[0m\u001b[1;33m.\u001b[0m\u001b[0mplot\u001b[0m\u001b[1;33m(\u001b[0m\u001b[0my\u001b[0m\u001b[1;33m=\u001b[0m\u001b[1;34m\"valor_da_operacao_em_reais\"\u001b[0m\u001b[1;33m,\u001b[0m \u001b[0max\u001b[0m\u001b[1;33m=\u001b[0m\u001b[0max2\u001b[0m\u001b[1;33m,\u001b[0m \u001b[0mlegend\u001b[0m\u001b[1;33m=\u001b[0m\u001b[1;32mFalse\u001b[0m\u001b[1;33m,\u001b[0m \u001b[0mcolor\u001b[0m\u001b[1;33m=\u001b[0m\u001b[1;34m\"b\"\u001b[0m\u001b[1;33m)\u001b[0m\u001b[1;33m\u001b[0m\u001b[1;33m\u001b[0m\u001b[0m\n\u001b[0;32m      5\u001b[0m \u001b[0max\u001b[0m\u001b[1;33m.\u001b[0m\u001b[0mfigure\u001b[0m\u001b[1;33m.\u001b[0m\u001b[0mlegend\u001b[0m\u001b[1;33m(\u001b[0m\u001b[1;33m)\u001b[0m\u001b[1;33m\u001b[0m\u001b[1;33m\u001b[0m\u001b[0m\n",
      "\u001b[1;31mNameError\u001b[0m: name 'consolidado_investimentos_stringency_ano_mes' is not defined"
     ]
    }
   ],
   "source": [
    "#Construindo um time series multiline e com dois eixos:\n",
    "ax = consolidado_investimentos_stringency_ano_mes.plot(y=\"stringency\", legend=False, color=\"r\")\n",
    "ax2 = ax.twinx()\n",
    "consolidado_investimentos_stringency_ano_mes.plot(y=\"valor_da_operacao_em_reais\", ax=ax2, legend=False, color=\"b\")\n",
    "ax.figure.legend()\n",
    "plt.show()"
   ]
  },
  {
   "cell_type": "markdown",
   "metadata": {
    "hidden": true
   },
   "source": [
    "Será necessário aprofundar-se através de um teste de Granger."
   ]
  }
 ],
 "metadata": {
  "interpreter": {
   "hash": "2e1c3b5c60e07dcc87fe35d792cc68ab0fe6bab78d40c72c7fbf21c581c57b0c"
  },
  "kernelspec": {
   "display_name": "Python 3",
   "language": "python",
   "name": "python3"
  },
  "language_info": {
   "codemirror_mode": {
    "name": "ipython",
    "version": 3
   },
   "file_extension": ".py",
   "mimetype": "text/x-python",
   "name": "python",
   "nbconvert_exporter": "python",
   "pygments_lexer": "ipython3",
   "version": "3.9.0"
  },
  "toc": {
   "base_numbering": 1,
   "nav_menu": {},
   "number_sections": true,
   "sideBar": true,
   "skip_h1_title": false,
   "title_cell": "Table of Contents",
   "title_sidebar": "Contents",
   "toc_cell": false,
   "toc_position": {},
   "toc_section_display": true,
   "toc_window_display": false
  },
  "varInspector": {
   "cols": {
    "lenName": 16,
    "lenType": 16,
    "lenVar": 40
   },
   "kernels_config": {
    "python": {
     "delete_cmd_postfix": "",
     "delete_cmd_prefix": "del ",
     "library": "var_list.py",
     "varRefreshCmd": "print(var_dic_list())"
    },
    "r": {
     "delete_cmd_postfix": ") ",
     "delete_cmd_prefix": "rm(",
     "library": "var_list.r",
     "varRefreshCmd": "cat(var_dic_list()) "
    }
   },
   "types_to_exclude": [
    "module",
    "function",
    "builtin_function_or_method",
    "instance",
    "_Feature"
   ],
   "window_display": false
  }
 },
 "nbformat": 4,
 "nbformat_minor": 4
}
