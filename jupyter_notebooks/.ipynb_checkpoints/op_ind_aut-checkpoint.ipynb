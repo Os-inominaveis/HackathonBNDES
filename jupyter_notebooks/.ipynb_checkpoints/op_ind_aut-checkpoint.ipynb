{
 "cells": [
  {
   "cell_type": "markdown",
   "metadata": {
    "heading_collapsed": true
   },
   "source": [
    "# Import das bibliotecas"
   ]
  },
  {
   "cell_type": "code",
   "execution_count": 1,
   "metadata": {
    "ExecuteTime": {
     "end_time": "2021-08-23T23:23:22.394956Z",
     "start_time": "2021-08-23T23:23:16.258954Z"
    },
    "hidden": true
   },
   "outputs": [],
   "source": [
    "import pandas as pd\n",
    "import matplotlib.pyplot as plt\n",
    "import requests\n",
    "import os\n",
    "from datetime import datetime, timedelta\n",
    "# settings to display all columns\n",
    "pd.set_option(\"display.max_columns\", None)"
   ]
  },
  {
   "cell_type": "markdown",
   "metadata": {},
   "source": [
    "# Importar os dados"
   ]
  },
  {
   "cell_type": "code",
   "execution_count": 2,
   "metadata": {
    "ExecuteTime": {
     "end_time": "2021-08-23T23:23:39.248450Z",
     "start_time": "2021-08-23T23:23:22.396957Z"
    }
   },
   "outputs": [],
   "source": [
    "df = pd.read_csv('C:/Users/pfaprado/Documents/GitHub/bndes/operacoes-financiamento-operacoes-indiretas-automaticas.csv', sep=';')"
   ]
  },
  {
   "cell_type": "code",
   "execution_count": 3,
   "metadata": {
    "ExecuteTime": {
     "end_time": "2021-08-23T23:23:39.327494Z",
     "start_time": "2021-08-23T23:23:39.251417Z"
    }
   },
   "outputs": [
    {
     "data": {
      "text/html": [
       "<div>\n",
       "<style scoped>\n",
       "    .dataframe tbody tr th:only-of-type {\n",
       "        vertical-align: middle;\n",
       "    }\n",
       "\n",
       "    .dataframe tbody tr th {\n",
       "        vertical-align: top;\n",
       "    }\n",
       "\n",
       "    .dataframe thead th {\n",
       "        text-align: right;\n",
       "    }\n",
       "</style>\n",
       "<table border=\"1\" class=\"dataframe\">\n",
       "  <thead>\n",
       "    <tr style=\"text-align: right;\">\n",
       "      <th></th>\n",
       "      <th>cliente</th>\n",
       "      <th>cpf_cnpj</th>\n",
       "      <th>uf</th>\n",
       "      <th>municipio</th>\n",
       "      <th>municipio_codigo</th>\n",
       "      <th>data_da_contratacao</th>\n",
       "      <th>valor_da_operacao_em_reais</th>\n",
       "      <th>valor_desembolsado_reais</th>\n",
       "      <th>fonte_de_recurso_desembolsos</th>\n",
       "      <th>custo_financeiro</th>\n",
       "      <th>juros</th>\n",
       "      <th>prazo_carencia_meses</th>\n",
       "      <th>prazo_amortizacao_meses</th>\n",
       "      <th>modalidade_de_apoio</th>\n",
       "      <th>forma_de_apoio</th>\n",
       "      <th>produto</th>\n",
       "      <th>instrumento_financeiro</th>\n",
       "      <th>inovacao</th>\n",
       "      <th>area_operacional</th>\n",
       "      <th>setor_cnae</th>\n",
       "      <th>subsetor_cnae_agrupado</th>\n",
       "      <th>subsetor_cnae_codigo</th>\n",
       "      <th>subsetor_cnae_nome</th>\n",
       "      <th>setor_bndes</th>\n",
       "      <th>subsetor_bndes</th>\n",
       "      <th>porte_do_cliente</th>\n",
       "      <th>natureza_do_cliente</th>\n",
       "      <th>instituicao_financeira_credenciada</th>\n",
       "      <th>cnpj_do_agente_financeiro</th>\n",
       "      <th>situacao_da_operacao</th>\n",
       "    </tr>\n",
       "  </thead>\n",
       "  <tbody>\n",
       "    <tr>\n",
       "      <th>0</th>\n",
       "      <td>BANCO COOPERATIVO SICOOB S.A.</td>\n",
       "      <td>**.*38.232/0001-**</td>\n",
       "      <td>SP</td>\n",
       "      <td>PEDREGULHO</td>\n",
       "      <td>3537008</td>\n",
       "      <td>2002-01-02</td>\n",
       "      <td>16000</td>\n",
       "      <td>16000,0</td>\n",
       "      <td>RECURSOS LIVRES - TESOURO</td>\n",
       "      <td>TAXA FIXA</td>\n",
       "      <td>8,75</td>\n",
       "      <td>24</td>\n",
       "      <td>36</td>\n",
       "      <td>REEMBOLSÁVEL</td>\n",
       "      <td>INDIRETA</td>\n",
       "      <td>BNDES AUTOMÁTICO</td>\n",
       "      <td>OUTROS</td>\n",
       "      <td>NÃO</td>\n",
       "      <td>AREA DE OPERACOES E CANAIS DIGITAIS</td>\n",
       "      <td>AGROPECUÁRIA E PESCA</td>\n",
       "      <td>Agropecuária</td>\n",
       "      <td>A0119900</td>\n",
       "      <td>CULT PLANTAS LAVOURA TEMPORARIA NAO ESPECIFICA...</td>\n",
       "      <td>AGROPECUÁRIA</td>\n",
       "      <td>AGROPECUÁRIA</td>\n",
       "      <td>MICRO</td>\n",
       "      <td>PRIVADA</td>\n",
       "      <td>BANCO COOPERATIVO SICOOB S.A.</td>\n",
       "      <td>02.038.232.0001-64</td>\n",
       "      <td>LIQUIDADA</td>\n",
       "    </tr>\n",
       "    <tr>\n",
       "      <th>1</th>\n",
       "      <td>BANCO REGIONAL DE DESENVOLVIMENTO DO EXTREMO SUL</td>\n",
       "      <td>**.*16.560/0001-**</td>\n",
       "      <td>RS</td>\n",
       "      <td>TRES DE MAIO</td>\n",
       "      <td>4321808</td>\n",
       "      <td>2002-01-02</td>\n",
       "      <td>8047</td>\n",
       "      <td>8047,0</td>\n",
       "      <td>RECURSOS VINCULADOS - FAT DEPÓSITOS ESPECIAIS</td>\n",
       "      <td>TAXA FIXA</td>\n",
       "      <td>4,0</td>\n",
       "      <td>0</td>\n",
       "      <td>60</td>\n",
       "      <td>REEMBOLSÁVEL</td>\n",
       "      <td>INDIRETA</td>\n",
       "      <td>BNDES AUTOMÁTICO</td>\n",
       "      <td>PRONAF INVESTIMENTO</td>\n",
       "      <td>NÃO</td>\n",
       "      <td>AREA DE OPERACOES E CANAIS DIGITAIS</td>\n",
       "      <td>AGROPECUÁRIA E PESCA</td>\n",
       "      <td>Agropecuária</td>\n",
       "      <td>A0100000</td>\n",
       "      <td>AGRICULTURA, PECUARIA E SERVICOS RELACIONADOS</td>\n",
       "      <td>AGROPECUÁRIA</td>\n",
       "      <td>AGROPECUÁRIA</td>\n",
       "      <td>MICRO</td>\n",
       "      <td>PRIVADA</td>\n",
       "      <td>BANCO REGIONAL DE DESENVOLVIMENTO DO EXTREMO SUL</td>\n",
       "      <td>92.816.560.0001-37</td>\n",
       "      <td>LIQUIDADA</td>\n",
       "    </tr>\n",
       "    <tr>\n",
       "      <th>2</th>\n",
       "      <td>BANCO REGIONAL DE DESENVOLVIMENTO DO EXTREMO SUL</td>\n",
       "      <td>**.*16.560/0001-**</td>\n",
       "      <td>RS</td>\n",
       "      <td>ERECHIM</td>\n",
       "      <td>4307005</td>\n",
       "      <td>2002-01-02</td>\n",
       "      <td>8104</td>\n",
       "      <td>8104,0</td>\n",
       "      <td>RECURSOS VINCULADOS - FAT DEPÓSITOS ESPECIAIS</td>\n",
       "      <td>TAXA FIXA</td>\n",
       "      <td>4,0</td>\n",
       "      <td>12</td>\n",
       "      <td>48</td>\n",
       "      <td>REEMBOLSÁVEL</td>\n",
       "      <td>INDIRETA</td>\n",
       "      <td>BNDES AUTOMÁTICO</td>\n",
       "      <td>PRONAF INVESTIMENTO</td>\n",
       "      <td>NÃO</td>\n",
       "      <td>AREA DE OPERACOES E CANAIS DIGITAIS</td>\n",
       "      <td>AGROPECUÁRIA E PESCA</td>\n",
       "      <td>Agropecuária</td>\n",
       "      <td>A0100000</td>\n",
       "      <td>AGRICULTURA, PECUARIA E SERVICOS RELACIONADOS</td>\n",
       "      <td>AGROPECUÁRIA</td>\n",
       "      <td>AGROPECUÁRIA</td>\n",
       "      <td>MICRO</td>\n",
       "      <td>PRIVADA</td>\n",
       "      <td>BANCO REGIONAL DE DESENVOLVIMENTO DO EXTREMO SUL</td>\n",
       "      <td>92.816.560.0001-37</td>\n",
       "      <td>LIQUIDADA</td>\n",
       "    </tr>\n",
       "    <tr>\n",
       "      <th>3</th>\n",
       "      <td>BANCO REGIONAL DE DESENVOLVIMENTO DO EXTREMO SUL</td>\n",
       "      <td>**.*16.560/0001-**</td>\n",
       "      <td>RS</td>\n",
       "      <td>ERECHIM</td>\n",
       "      <td>4307005</td>\n",
       "      <td>2002-01-02</td>\n",
       "      <td>6304</td>\n",
       "      <td>6304,0</td>\n",
       "      <td>RECURSOS VINCULADOS - FAT DEPÓSITOS ESPECIAIS</td>\n",
       "      <td>TAXA FIXA</td>\n",
       "      <td>4,0</td>\n",
       "      <td>12</td>\n",
       "      <td>48</td>\n",
       "      <td>REEMBOLSÁVEL</td>\n",
       "      <td>INDIRETA</td>\n",
       "      <td>BNDES AUTOMÁTICO</td>\n",
       "      <td>PRONAF INVESTIMENTO</td>\n",
       "      <td>NÃO</td>\n",
       "      <td>AREA DE OPERACOES E CANAIS DIGITAIS</td>\n",
       "      <td>AGROPECUÁRIA E PESCA</td>\n",
       "      <td>Agropecuária</td>\n",
       "      <td>A0100000</td>\n",
       "      <td>AGRICULTURA, PECUARIA E SERVICOS RELACIONADOS</td>\n",
       "      <td>AGROPECUÁRIA</td>\n",
       "      <td>AGROPECUÁRIA</td>\n",
       "      <td>MICRO</td>\n",
       "      <td>PRIVADA</td>\n",
       "      <td>BANCO REGIONAL DE DESENVOLVIMENTO DO EXTREMO SUL</td>\n",
       "      <td>92.816.560.0001-37</td>\n",
       "      <td>LIQUIDADA</td>\n",
       "    </tr>\n",
       "    <tr>\n",
       "      <th>4</th>\n",
       "      <td>BANCO REGIONAL DE DESENVOLVIMENTO DO EXTREMO SUL</td>\n",
       "      <td>**.*16.560/0001-**</td>\n",
       "      <td>RS</td>\n",
       "      <td>HUMAITA</td>\n",
       "      <td>4309704</td>\n",
       "      <td>2002-01-02</td>\n",
       "      <td>15000</td>\n",
       "      <td>15000,0</td>\n",
       "      <td>RECURSOS VINCULADOS - FAT DEPÓSITOS ESPECIAIS</td>\n",
       "      <td>TAXA FIXA</td>\n",
       "      <td>4,0</td>\n",
       "      <td>0</td>\n",
       "      <td>60</td>\n",
       "      <td>REEMBOLSÁVEL</td>\n",
       "      <td>INDIRETA</td>\n",
       "      <td>BNDES AUTOMÁTICO</td>\n",
       "      <td>PRONAF INVESTIMENTO</td>\n",
       "      <td>NÃO</td>\n",
       "      <td>AREA DE OPERACOES E CANAIS DIGITAIS</td>\n",
       "      <td>AGROPECUÁRIA E PESCA</td>\n",
       "      <td>Agropecuária</td>\n",
       "      <td>A0100000</td>\n",
       "      <td>AGRICULTURA, PECUARIA E SERVICOS RELACIONADOS</td>\n",
       "      <td>AGROPECUÁRIA</td>\n",
       "      <td>AGROPECUÁRIA</td>\n",
       "      <td>MICRO</td>\n",
       "      <td>PRIVADA</td>\n",
       "      <td>BANCO REGIONAL DE DESENVOLVIMENTO DO EXTREMO SUL</td>\n",
       "      <td>92.816.560.0001-37</td>\n",
       "      <td>LIQUIDADA</td>\n",
       "    </tr>\n",
       "  </tbody>\n",
       "</table>\n",
       "</div>"
      ],
      "text/plain": [
       "                                            cliente            cpf_cnpj   uf  \\\n",
       "0                     BANCO COOPERATIVO SICOOB S.A.  **.*38.232/0001-**   SP   \n",
       "1  BANCO REGIONAL DE DESENVOLVIMENTO DO EXTREMO SUL  **.*16.560/0001-**   RS   \n",
       "2  BANCO REGIONAL DE DESENVOLVIMENTO DO EXTREMO SUL  **.*16.560/0001-**   RS   \n",
       "3  BANCO REGIONAL DE DESENVOLVIMENTO DO EXTREMO SUL  **.*16.560/0001-**   RS   \n",
       "4  BANCO REGIONAL DE DESENVOLVIMENTO DO EXTREMO SUL  **.*16.560/0001-**   RS   \n",
       "\n",
       "      municipio  municipio_codigo data_da_contratacao  \\\n",
       "0    PEDREGULHO           3537008          2002-01-02   \n",
       "1  TRES DE MAIO           4321808          2002-01-02   \n",
       "2       ERECHIM           4307005          2002-01-02   \n",
       "3       ERECHIM           4307005          2002-01-02   \n",
       "4       HUMAITA           4309704          2002-01-02   \n",
       "\n",
       "   valor_da_operacao_em_reais valor_desembolsado_reais  \\\n",
       "0                       16000                  16000,0   \n",
       "1                        8047                   8047,0   \n",
       "2                        8104                   8104,0   \n",
       "3                        6304                   6304,0   \n",
       "4                       15000                  15000,0   \n",
       "\n",
       "                    fonte_de_recurso_desembolsos custo_financeiro juros  \\\n",
       "0                      RECURSOS LIVRES - TESOURO        TAXA FIXA  8,75   \n",
       "1  RECURSOS VINCULADOS - FAT DEPÓSITOS ESPECIAIS        TAXA FIXA   4,0   \n",
       "2  RECURSOS VINCULADOS - FAT DEPÓSITOS ESPECIAIS        TAXA FIXA   4,0   \n",
       "3  RECURSOS VINCULADOS - FAT DEPÓSITOS ESPECIAIS        TAXA FIXA   4,0   \n",
       "4  RECURSOS VINCULADOS - FAT DEPÓSITOS ESPECIAIS        TAXA FIXA   4,0   \n",
       "\n",
       "   prazo_carencia_meses  prazo_amortizacao_meses modalidade_de_apoio  \\\n",
       "0                    24                       36        REEMBOLSÁVEL   \n",
       "1                     0                       60        REEMBOLSÁVEL   \n",
       "2                    12                       48        REEMBOLSÁVEL   \n",
       "3                    12                       48        REEMBOLSÁVEL   \n",
       "4                     0                       60        REEMBOLSÁVEL   \n",
       "\n",
       "  forma_de_apoio           produto instrumento_financeiro inovacao  \\\n",
       "0       INDIRETA  BNDES AUTOMÁTICO                 OUTROS      NÃO   \n",
       "1       INDIRETA  BNDES AUTOMÁTICO    PRONAF INVESTIMENTO      NÃO   \n",
       "2       INDIRETA  BNDES AUTOMÁTICO    PRONAF INVESTIMENTO      NÃO   \n",
       "3       INDIRETA  BNDES AUTOMÁTICO    PRONAF INVESTIMENTO      NÃO   \n",
       "4       INDIRETA  BNDES AUTOMÁTICO    PRONAF INVESTIMENTO      NÃO   \n",
       "\n",
       "                      area_operacional            setor_cnae  \\\n",
       "0  AREA DE OPERACOES E CANAIS DIGITAIS  AGROPECUÁRIA E PESCA   \n",
       "1  AREA DE OPERACOES E CANAIS DIGITAIS  AGROPECUÁRIA E PESCA   \n",
       "2  AREA DE OPERACOES E CANAIS DIGITAIS  AGROPECUÁRIA E PESCA   \n",
       "3  AREA DE OPERACOES E CANAIS DIGITAIS  AGROPECUÁRIA E PESCA   \n",
       "4  AREA DE OPERACOES E CANAIS DIGITAIS  AGROPECUÁRIA E PESCA   \n",
       "\n",
       "  subsetor_cnae_agrupado subsetor_cnae_codigo  \\\n",
       "0           Agropecuária             A0119900   \n",
       "1           Agropecuária             A0100000   \n",
       "2           Agropecuária             A0100000   \n",
       "3           Agropecuária             A0100000   \n",
       "4           Agropecuária             A0100000   \n",
       "\n",
       "                                  subsetor_cnae_nome   setor_bndes  \\\n",
       "0  CULT PLANTAS LAVOURA TEMPORARIA NAO ESPECIFICA...  AGROPECUÁRIA   \n",
       "1      AGRICULTURA, PECUARIA E SERVICOS RELACIONADOS  AGROPECUÁRIA   \n",
       "2      AGRICULTURA, PECUARIA E SERVICOS RELACIONADOS  AGROPECUÁRIA   \n",
       "3      AGRICULTURA, PECUARIA E SERVICOS RELACIONADOS  AGROPECUÁRIA   \n",
       "4      AGRICULTURA, PECUARIA E SERVICOS RELACIONADOS  AGROPECUÁRIA   \n",
       "\n",
       "  subsetor_bndes porte_do_cliente natureza_do_cliente  \\\n",
       "0   AGROPECUÁRIA            MICRO             PRIVADA   \n",
       "1   AGROPECUÁRIA            MICRO             PRIVADA   \n",
       "2   AGROPECUÁRIA            MICRO             PRIVADA   \n",
       "3   AGROPECUÁRIA            MICRO             PRIVADA   \n",
       "4   AGROPECUÁRIA            MICRO             PRIVADA   \n",
       "\n",
       "                 instituicao_financeira_credenciada cnpj_do_agente_financeiro  \\\n",
       "0                     BANCO COOPERATIVO SICOOB S.A.        02.038.232.0001-64   \n",
       "1  BANCO REGIONAL DE DESENVOLVIMENTO DO EXTREMO SUL        92.816.560.0001-37   \n",
       "2  BANCO REGIONAL DE DESENVOLVIMENTO DO EXTREMO SUL        92.816.560.0001-37   \n",
       "3  BANCO REGIONAL DE DESENVOLVIMENTO DO EXTREMO SUL        92.816.560.0001-37   \n",
       "4  BANCO REGIONAL DE DESENVOLVIMENTO DO EXTREMO SUL        92.816.560.0001-37   \n",
       "\n",
       "  situacao_da_operacao  \n",
       "0            LIQUIDADA  \n",
       "1            LIQUIDADA  \n",
       "2            LIQUIDADA  \n",
       "3            LIQUIDADA  \n",
       "4            LIQUIDADA  "
      ]
     },
     "execution_count": 3,
     "metadata": {},
     "output_type": "execute_result"
    }
   ],
   "source": [
    "df.head()"
   ]
  },
  {
   "cell_type": "code",
   "execution_count": 4,
   "metadata": {
    "ExecuteTime": {
     "end_time": "2021-08-23T23:23:39.423496Z",
     "start_time": "2021-08-23T23:23:39.329494Z"
    }
   },
   "outputs": [
    {
     "name": "stdout",
     "output_type": "stream",
     "text": [
      "<class 'pandas.core.frame.DataFrame'>\n",
      "RangeIndex: 2083363 entries, 0 to 2083362\n",
      "Data columns (total 30 columns):\n",
      " #   Column                              Dtype \n",
      "---  ------                              ----- \n",
      " 0   cliente                             object\n",
      " 1   cpf_cnpj                            object\n",
      " 2   uf                                  object\n",
      " 3   municipio                           object\n",
      " 4   municipio_codigo                    int64 \n",
      " 5   data_da_contratacao                 object\n",
      " 6   valor_da_operacao_em_reais          int64 \n",
      " 7   valor_desembolsado_reais            object\n",
      " 8   fonte_de_recurso_desembolsos        object\n",
      " 9   custo_financeiro                    object\n",
      " 10  juros                               object\n",
      " 11  prazo_carencia_meses                int64 \n",
      " 12  prazo_amortizacao_meses             int64 \n",
      " 13  modalidade_de_apoio                 object\n",
      " 14  forma_de_apoio                      object\n",
      " 15  produto                             object\n",
      " 16  instrumento_financeiro              object\n",
      " 17  inovacao                            object\n",
      " 18  area_operacional                    object\n",
      " 19  setor_cnae                          object\n",
      " 20  subsetor_cnae_agrupado              object\n",
      " 21  subsetor_cnae_codigo                object\n",
      " 22  subsetor_cnae_nome                  object\n",
      " 23  setor_bndes                         object\n",
      " 24  subsetor_bndes                      object\n",
      " 25  porte_do_cliente                    object\n",
      " 26  natureza_do_cliente                 object\n",
      " 27  instituicao_financeira_credenciada  object\n",
      " 28  cnpj_do_agente_financeiro           object\n",
      " 29  situacao_da_operacao                object\n",
      "dtypes: int64(4), object(26)\n",
      "memory usage: 476.8+ MB\n"
     ]
    }
   ],
   "source": [
    "df.info()"
   ]
  },
  {
   "cell_type": "markdown",
   "metadata": {},
   "source": [
    "# Tratamento dos dados"
   ]
  },
  {
   "cell_type": "markdown",
   "metadata": {},
   "source": [
    "## Criando colunas de tempo e bons clientes"
   ]
  },
  {
   "cell_type": "code",
   "execution_count": 5,
   "metadata": {
    "ExecuteTime": {
     "end_time": "2021-08-23T23:23:40.021537Z",
     "start_time": "2021-08-23T23:23:39.426496Z"
    }
   },
   "outputs": [],
   "source": [
    "#Transformando a série que está em object para timestamp\n",
    "df['data_da_contratacao'] = pd.to_datetime(df['data_da_contratacao'])"
   ]
  },
  {
   "cell_type": "code",
   "execution_count": 6,
   "metadata": {
    "ExecuteTime": {
     "end_time": "2021-08-23T23:23:40.133518Z",
     "start_time": "2021-08-23T23:23:40.023494Z"
    }
   },
   "outputs": [],
   "source": [
    "#Formatando as colunas de meses para realizar a soma na data_prevista\n",
    "df['prazo_carencia_meses'] = df['prazo_carencia_meses'].astype('timedelta64[M]')\n",
    "df['prazo_amortizacao_meses'] = df['prazo_amortizacao_meses'].astype('timedelta64[M]')"
   ]
  },
  {
   "cell_type": "code",
   "execution_count": 7,
   "metadata": {
    "ExecuteTime": {
     "end_time": "2021-08-23T23:23:40.243508Z",
     "start_time": "2021-08-23T23:23:40.136496Z"
    }
   },
   "outputs": [
    {
     "data": {
      "text/plain": [
       "0         2007-01-02 05:06:00\n",
       "1         2007-01-02 05:06:00\n",
       "2         2007-01-02 05:06:00\n",
       "3         2007-01-02 05:06:00\n",
       "4         2007-01-02 05:06:00\n",
       "                  ...        \n",
       "2083358   2026-05-31 05:06:00\n",
       "2083359   2026-05-31 05:06:00\n",
       "2083360   2026-05-31 05:06:00\n",
       "2083361   2025-05-30 23:16:48\n",
       "2083362   2026-05-31 05:06:00\n",
       "Name: data_prevista, Length: 2083363, dtype: datetime64[ns]"
      ]
     },
     "execution_count": 7,
     "metadata": {},
     "output_type": "execute_result"
    }
   ],
   "source": [
    "#Criando uma coluna de previsão do último pagamento\n",
    "df['data_prevista'] = df['data_da_contratacao'] + df['prazo_carencia_meses'] + df['prazo_amortizacao_meses']\n",
    "df['data_prevista']"
   ]
  },
  {
   "cell_type": "code",
   "execution_count": 8,
   "metadata": {
    "ExecuteTime": {
     "end_time": "2021-08-23T23:23:40.291508Z",
     "start_time": "2021-08-23T23:23:40.246495Z"
    }
   },
   "outputs": [
    {
     "data": {
      "text/plain": [
       "Timestamp('2007-01-02 05:06:00')"
      ]
     },
     "execution_count": 8,
     "metadata": {},
     "output_type": "execute_result"
    }
   ],
   "source": [
    "df['data_prevista'][0]"
   ]
  },
  {
   "cell_type": "code",
   "execution_count": 9,
   "metadata": {
    "ExecuteTime": {
     "end_time": "2021-08-23T23:23:40.355494Z",
     "start_time": "2021-08-23T23:23:40.293494Z"
    }
   },
   "outputs": [
    {
     "data": {
      "text/plain": [
       "datetime.datetime(2021, 8, 23, 20, 23, 40, 340494)"
      ]
     },
     "execution_count": 9,
     "metadata": {},
     "output_type": "execute_result"
    }
   ],
   "source": [
    "datetime.now()"
   ]
  },
  {
   "cell_type": "code",
   "execution_count": 10,
   "metadata": {
    "ExecuteTime": {
     "end_time": "2021-08-23T23:23:40.448137Z",
     "start_time": "2021-08-23T23:23:40.358495Z"
    }
   },
   "outputs": [],
   "source": [
    "df['data_futuro_bool'] = df['data_prevista'] > datetime.now()"
   ]
  },
  {
   "cell_type": "code",
   "execution_count": 11,
   "metadata": {
    "ExecuteTime": {
     "end_time": "2021-08-23T23:23:40.574611Z",
     "start_time": "2021-08-23T23:23:40.450133Z"
    }
   },
   "outputs": [],
   "source": [
    "#Criando a função:\n",
    "def Comparador(row):\n",
    "    if (row['situacao_da_operacao'] == 'LIQUIDADA' and row['data_futuro_bool'] == 1):\n",
    "        return 'Bom'\n",
    "    elif (row['situacao_da_operacao'] == 'ATIVA' and row['data_futuro_bool'] == 0):\n",
    "        return 'Mal'\n",
    "    else:\n",
    "        return 'dropa_bagulho'"
   ]
  },
  {
   "cell_type": "code",
   "execution_count": 12,
   "metadata": {
    "ExecuteTime": {
     "end_time": "2021-08-23T23:25:02.378297Z",
     "start_time": "2021-08-23T23:23:40.576594Z"
    }
   },
   "outputs": [],
   "source": [
    "#Aplicamos a função:\n",
    "df['bom_investimento'] = df.apply(Comparador, axis=1)"
   ]
  },
  {
   "cell_type": "code",
   "execution_count": 13,
   "metadata": {
    "ExecuteTime": {
     "end_time": "2021-08-23T23:25:02.550296Z",
     "start_time": "2021-08-23T23:25:02.380297Z"
    }
   },
   "outputs": [
    {
     "data": {
      "text/plain": [
       "dropa_bagulho    1997564\n",
       "Bom                50748\n",
       "Mal                35051\n",
       "Name: bom_investimento, dtype: int64"
      ]
     },
     "execution_count": 13,
     "metadata": {},
     "output_type": "execute_result"
    }
   ],
   "source": [
    "#Temos três tipos de classificações:\n",
    "df['bom_investimento'].value_counts()"
   ]
  },
  {
   "cell_type": "code",
   "execution_count": 14,
   "metadata": {
    "ExecuteTime": {
     "end_time": "2021-08-23T23:25:03.732297Z",
     "start_time": "2021-08-23T23:25:02.552298Z"
    }
   },
   "outputs": [],
   "source": [
    "#Filtrando somente os clientes classificados como Bom e Mal:\n",
    "df = df[~(df['bom_investimento']=='dropa_bagulho')]"
   ]
  },
  {
   "cell_type": "code",
   "execution_count": 15,
   "metadata": {
    "ExecuteTime": {
     "end_time": "2021-08-23T23:25:03.764298Z",
     "start_time": "2021-08-23T23:25:03.734298Z"
    }
   },
   "outputs": [
    {
     "data": {
      "text/plain": [
       "Bom    50748\n",
       "Mal    35051\n",
       "Name: bom_investimento, dtype: int64"
      ]
     },
     "execution_count": 15,
     "metadata": {},
     "output_type": "execute_result"
    }
   ],
   "source": [
    "#Checando se só tem Bom e Mal cliente:\n",
    "df['bom_investimento'].value_counts()"
   ]
  },
  {
   "cell_type": "markdown",
   "metadata": {},
   "source": [
    "## Limpeza de dados sem cliente"
   ]
  },
  {
   "cell_type": "markdown",
   "metadata": {},
   "source": [
    "### Dropando colunas sem uso para ML"
   ]
  },
  {
   "cell_type": "code",
   "execution_count": 16,
   "metadata": {
    "ExecuteTime": {
     "end_time": "2021-08-23T23:25:03.876298Z",
     "start_time": "2021-08-23T23:25:03.766298Z"
    }
   },
   "outputs": [],
   "source": [
    "df = df.drop(columns=['cpf_cnpj', 'cnpj_do_agente_financeiro', 'situacao_da_operacao', 'data_futuro_bool', 'municipio', 'cliente'], errors='ignore')"
   ]
  },
  {
   "cell_type": "code",
   "execution_count": 17,
   "metadata": {
    "ExecuteTime": {
     "end_time": "2021-08-23T23:25:03.985297Z",
     "start_time": "2021-08-23T23:25:03.879299Z"
    }
   },
   "outputs": [
    {
     "data": {
      "text/html": [
       "<div>\n",
       "<style scoped>\n",
       "    .dataframe tbody tr th:only-of-type {\n",
       "        vertical-align: middle;\n",
       "    }\n",
       "\n",
       "    .dataframe tbody tr th {\n",
       "        vertical-align: top;\n",
       "    }\n",
       "\n",
       "    .dataframe thead th {\n",
       "        text-align: right;\n",
       "    }\n",
       "</style>\n",
       "<table border=\"1\" class=\"dataframe\">\n",
       "  <thead>\n",
       "    <tr style=\"text-align: right;\">\n",
       "      <th></th>\n",
       "      <th>uf</th>\n",
       "      <th>municipio_codigo</th>\n",
       "      <th>data_da_contratacao</th>\n",
       "      <th>valor_da_operacao_em_reais</th>\n",
       "      <th>valor_desembolsado_reais</th>\n",
       "      <th>fonte_de_recurso_desembolsos</th>\n",
       "      <th>custo_financeiro</th>\n",
       "      <th>juros</th>\n",
       "      <th>prazo_carencia_meses</th>\n",
       "      <th>prazo_amortizacao_meses</th>\n",
       "      <th>modalidade_de_apoio</th>\n",
       "      <th>forma_de_apoio</th>\n",
       "      <th>produto</th>\n",
       "      <th>instrumento_financeiro</th>\n",
       "      <th>inovacao</th>\n",
       "      <th>area_operacional</th>\n",
       "      <th>setor_cnae</th>\n",
       "      <th>subsetor_cnae_agrupado</th>\n",
       "      <th>subsetor_cnae_codigo</th>\n",
       "      <th>subsetor_cnae_nome</th>\n",
       "      <th>setor_bndes</th>\n",
       "      <th>subsetor_bndes</th>\n",
       "      <th>porte_do_cliente</th>\n",
       "      <th>natureza_do_cliente</th>\n",
       "      <th>instituicao_financeira_credenciada</th>\n",
       "      <th>data_prevista</th>\n",
       "      <th>bom_investimento</th>\n",
       "    </tr>\n",
       "  </thead>\n",
       "  <tbody>\n",
       "    <tr>\n",
       "      <th>36</th>\n",
       "      <td>RS</td>\n",
       "      <td>4321808</td>\n",
       "      <td>2002-01-02</td>\n",
       "      <td>2303</td>\n",
       "      <td>2303,0</td>\n",
       "      <td>RECURSOS VINCULADOS - FAT DEPÓSITOS ESPECIAIS</td>\n",
       "      <td>TAXA FIXA</td>\n",
       "      <td>4,0</td>\n",
       "      <td>0 days</td>\n",
       "      <td>1460 days 23:16:48</td>\n",
       "      <td>REEMBOLSÁVEL</td>\n",
       "      <td>INDIRETA</td>\n",
       "      <td>BNDES AUTOMÁTICO</td>\n",
       "      <td>PRONAF INVESTIMENTO</td>\n",
       "      <td>NÃO</td>\n",
       "      <td>AREA DE OPERACOES E CANAIS DIGITAIS</td>\n",
       "      <td>AGROPECUÁRIA E PESCA</td>\n",
       "      <td>Agropecuária</td>\n",
       "      <td>A0100000</td>\n",
       "      <td>AGRICULTURA, PECUARIA E SERVICOS RELACIONADOS</td>\n",
       "      <td>AGROPECUÁRIA</td>\n",
       "      <td>AGROPECUÁRIA</td>\n",
       "      <td>MICRO</td>\n",
       "      <td>PRIVADA</td>\n",
       "      <td>BANCO REGIONAL DE DESENVOLVIMENTO DO EXTREMO SUL</td>\n",
       "      <td>2006-01-01 23:16:48</td>\n",
       "      <td>Mal</td>\n",
       "    </tr>\n",
       "    <tr>\n",
       "      <th>37</th>\n",
       "      <td>RS</td>\n",
       "      <td>4321808</td>\n",
       "      <td>2002-01-02</td>\n",
       "      <td>2303</td>\n",
       "      <td>2303,0</td>\n",
       "      <td>RECURSOS VINCULADOS - FAT DEPÓSITOS ESPECIAIS</td>\n",
       "      <td>TAXA FIXA</td>\n",
       "      <td>4,0</td>\n",
       "      <td>0 days</td>\n",
       "      <td>1460 days 23:16:48</td>\n",
       "      <td>REEMBOLSÁVEL</td>\n",
       "      <td>INDIRETA</td>\n",
       "      <td>BNDES AUTOMÁTICO</td>\n",
       "      <td>PRONAF INVESTIMENTO</td>\n",
       "      <td>NÃO</td>\n",
       "      <td>AREA DE OPERACOES E CANAIS DIGITAIS</td>\n",
       "      <td>AGROPECUÁRIA E PESCA</td>\n",
       "      <td>Agropecuária</td>\n",
       "      <td>A0100000</td>\n",
       "      <td>AGRICULTURA, PECUARIA E SERVICOS RELACIONADOS</td>\n",
       "      <td>AGROPECUÁRIA</td>\n",
       "      <td>AGROPECUÁRIA</td>\n",
       "      <td>MICRO</td>\n",
       "      <td>PRIVADA</td>\n",
       "      <td>BANCO REGIONAL DE DESENVOLVIMENTO DO EXTREMO SUL</td>\n",
       "      <td>2006-01-01 23:16:48</td>\n",
       "      <td>Mal</td>\n",
       "    </tr>\n",
       "    <tr>\n",
       "      <th>38</th>\n",
       "      <td>RS</td>\n",
       "      <td>4321808</td>\n",
       "      <td>2002-01-02</td>\n",
       "      <td>2373</td>\n",
       "      <td>2373,0</td>\n",
       "      <td>RECURSOS VINCULADOS - FAT DEPÓSITOS ESPECIAIS</td>\n",
       "      <td>TAXA FIXA</td>\n",
       "      <td>4,0</td>\n",
       "      <td>0 days</td>\n",
       "      <td>1460 days 23:16:48</td>\n",
       "      <td>REEMBOLSÁVEL</td>\n",
       "      <td>INDIRETA</td>\n",
       "      <td>BNDES AUTOMÁTICO</td>\n",
       "      <td>PRONAF INVESTIMENTO</td>\n",
       "      <td>NÃO</td>\n",
       "      <td>AREA DE OPERACOES E CANAIS DIGITAIS</td>\n",
       "      <td>AGROPECUÁRIA E PESCA</td>\n",
       "      <td>Agropecuária</td>\n",
       "      <td>A0100000</td>\n",
       "      <td>AGRICULTURA, PECUARIA E SERVICOS RELACIONADOS</td>\n",
       "      <td>AGROPECUÁRIA</td>\n",
       "      <td>AGROPECUÁRIA</td>\n",
       "      <td>MICRO</td>\n",
       "      <td>PRIVADA</td>\n",
       "      <td>BANCO REGIONAL DE DESENVOLVIMENTO DO EXTREMO SUL</td>\n",
       "      <td>2006-01-01 23:16:48</td>\n",
       "      <td>Mal</td>\n",
       "    </tr>\n",
       "    <tr>\n",
       "      <th>48</th>\n",
       "      <td>RS</td>\n",
       "      <td>4321329</td>\n",
       "      <td>2002-01-02</td>\n",
       "      <td>2400</td>\n",
       "      <td>2400,0</td>\n",
       "      <td>RECURSOS VINCULADOS - FAT DEPÓSITOS ESPECIAIS</td>\n",
       "      <td>TAXA FIXA</td>\n",
       "      <td>4,0</td>\n",
       "      <td>0 days</td>\n",
       "      <td>1095 days 17:27:36</td>\n",
       "      <td>REEMBOLSÁVEL</td>\n",
       "      <td>INDIRETA</td>\n",
       "      <td>BNDES AUTOMÁTICO</td>\n",
       "      <td>PRONAF INVESTIMENTO</td>\n",
       "      <td>NÃO</td>\n",
       "      <td>AREA DE OPERACOES E CANAIS DIGITAIS</td>\n",
       "      <td>AGROPECUÁRIA E PESCA</td>\n",
       "      <td>Agropecuária</td>\n",
       "      <td>A0100000</td>\n",
       "      <td>AGRICULTURA, PECUARIA E SERVICOS RELACIONADOS</td>\n",
       "      <td>AGROPECUÁRIA</td>\n",
       "      <td>AGROPECUÁRIA</td>\n",
       "      <td>MICRO</td>\n",
       "      <td>PRIVADA</td>\n",
       "      <td>BANCO REGIONAL DE DESENVOLVIMENTO DO EXTREMO SUL</td>\n",
       "      <td>2005-01-01 17:27:36</td>\n",
       "      <td>Mal</td>\n",
       "    </tr>\n",
       "    <tr>\n",
       "      <th>49</th>\n",
       "      <td>RS</td>\n",
       "      <td>4321329</td>\n",
       "      <td>2002-01-02</td>\n",
       "      <td>1700</td>\n",
       "      <td>1700,0</td>\n",
       "      <td>RECURSOS VINCULADOS - FAT DEPÓSITOS ESPECIAIS</td>\n",
       "      <td>TAXA FIXA</td>\n",
       "      <td>4,0</td>\n",
       "      <td>0 days</td>\n",
       "      <td>1095 days 17:27:36</td>\n",
       "      <td>REEMBOLSÁVEL</td>\n",
       "      <td>INDIRETA</td>\n",
       "      <td>BNDES AUTOMÁTICO</td>\n",
       "      <td>PRONAF INVESTIMENTO</td>\n",
       "      <td>NÃO</td>\n",
       "      <td>AREA DE OPERACOES E CANAIS DIGITAIS</td>\n",
       "      <td>AGROPECUÁRIA E PESCA</td>\n",
       "      <td>Agropecuária</td>\n",
       "      <td>A0100000</td>\n",
       "      <td>AGRICULTURA, PECUARIA E SERVICOS RELACIONADOS</td>\n",
       "      <td>AGROPECUÁRIA</td>\n",
       "      <td>AGROPECUÁRIA</td>\n",
       "      <td>MICRO</td>\n",
       "      <td>PRIVADA</td>\n",
       "      <td>BANCO REGIONAL DE DESENVOLVIMENTO DO EXTREMO SUL</td>\n",
       "      <td>2005-01-01 17:27:36</td>\n",
       "      <td>Mal</td>\n",
       "    </tr>\n",
       "  </tbody>\n",
       "</table>\n",
       "</div>"
      ],
      "text/plain": [
       "     uf  municipio_codigo data_da_contratacao  valor_da_operacao_em_reais  \\\n",
       "36   RS           4321808          2002-01-02                        2303   \n",
       "37   RS           4321808          2002-01-02                        2303   \n",
       "38   RS           4321808          2002-01-02                        2373   \n",
       "48   RS           4321329          2002-01-02                        2400   \n",
       "49   RS           4321329          2002-01-02                        1700   \n",
       "\n",
       "   valor_desembolsado_reais                   fonte_de_recurso_desembolsos  \\\n",
       "36                   2303,0  RECURSOS VINCULADOS - FAT DEPÓSITOS ESPECIAIS   \n",
       "37                   2303,0  RECURSOS VINCULADOS - FAT DEPÓSITOS ESPECIAIS   \n",
       "38                   2373,0  RECURSOS VINCULADOS - FAT DEPÓSITOS ESPECIAIS   \n",
       "48                   2400,0  RECURSOS VINCULADOS - FAT DEPÓSITOS ESPECIAIS   \n",
       "49                   1700,0  RECURSOS VINCULADOS - FAT DEPÓSITOS ESPECIAIS   \n",
       "\n",
       "   custo_financeiro juros prazo_carencia_meses prazo_amortizacao_meses  \\\n",
       "36        TAXA FIXA   4,0               0 days      1460 days 23:16:48   \n",
       "37        TAXA FIXA   4,0               0 days      1460 days 23:16:48   \n",
       "38        TAXA FIXA   4,0               0 days      1460 days 23:16:48   \n",
       "48        TAXA FIXA   4,0               0 days      1095 days 17:27:36   \n",
       "49        TAXA FIXA   4,0               0 days      1095 days 17:27:36   \n",
       "\n",
       "   modalidade_de_apoio forma_de_apoio           produto  \\\n",
       "36        REEMBOLSÁVEL       INDIRETA  BNDES AUTOMÁTICO   \n",
       "37        REEMBOLSÁVEL       INDIRETA  BNDES AUTOMÁTICO   \n",
       "38        REEMBOLSÁVEL       INDIRETA  BNDES AUTOMÁTICO   \n",
       "48        REEMBOLSÁVEL       INDIRETA  BNDES AUTOMÁTICO   \n",
       "49        REEMBOLSÁVEL       INDIRETA  BNDES AUTOMÁTICO   \n",
       "\n",
       "   instrumento_financeiro inovacao                     area_operacional  \\\n",
       "36    PRONAF INVESTIMENTO      NÃO  AREA DE OPERACOES E CANAIS DIGITAIS   \n",
       "37    PRONAF INVESTIMENTO      NÃO  AREA DE OPERACOES E CANAIS DIGITAIS   \n",
       "38    PRONAF INVESTIMENTO      NÃO  AREA DE OPERACOES E CANAIS DIGITAIS   \n",
       "48    PRONAF INVESTIMENTO      NÃO  AREA DE OPERACOES E CANAIS DIGITAIS   \n",
       "49    PRONAF INVESTIMENTO      NÃO  AREA DE OPERACOES E CANAIS DIGITAIS   \n",
       "\n",
       "              setor_cnae subsetor_cnae_agrupado subsetor_cnae_codigo  \\\n",
       "36  AGROPECUÁRIA E PESCA           Agropecuária             A0100000   \n",
       "37  AGROPECUÁRIA E PESCA           Agropecuária             A0100000   \n",
       "38  AGROPECUÁRIA E PESCA           Agropecuária             A0100000   \n",
       "48  AGROPECUÁRIA E PESCA           Agropecuária             A0100000   \n",
       "49  AGROPECUÁRIA E PESCA           Agropecuária             A0100000   \n",
       "\n",
       "                               subsetor_cnae_nome   setor_bndes  \\\n",
       "36  AGRICULTURA, PECUARIA E SERVICOS RELACIONADOS  AGROPECUÁRIA   \n",
       "37  AGRICULTURA, PECUARIA E SERVICOS RELACIONADOS  AGROPECUÁRIA   \n",
       "38  AGRICULTURA, PECUARIA E SERVICOS RELACIONADOS  AGROPECUÁRIA   \n",
       "48  AGRICULTURA, PECUARIA E SERVICOS RELACIONADOS  AGROPECUÁRIA   \n",
       "49  AGRICULTURA, PECUARIA E SERVICOS RELACIONADOS  AGROPECUÁRIA   \n",
       "\n",
       "   subsetor_bndes porte_do_cliente natureza_do_cliente  \\\n",
       "36   AGROPECUÁRIA            MICRO             PRIVADA   \n",
       "37   AGROPECUÁRIA            MICRO             PRIVADA   \n",
       "38   AGROPECUÁRIA            MICRO             PRIVADA   \n",
       "48   AGROPECUÁRIA            MICRO             PRIVADA   \n",
       "49   AGROPECUÁRIA            MICRO             PRIVADA   \n",
       "\n",
       "                  instituicao_financeira_credenciada       data_prevista  \\\n",
       "36  BANCO REGIONAL DE DESENVOLVIMENTO DO EXTREMO SUL 2006-01-01 23:16:48   \n",
       "37  BANCO REGIONAL DE DESENVOLVIMENTO DO EXTREMO SUL 2006-01-01 23:16:48   \n",
       "38  BANCO REGIONAL DE DESENVOLVIMENTO DO EXTREMO SUL 2006-01-01 23:16:48   \n",
       "48  BANCO REGIONAL DE DESENVOLVIMENTO DO EXTREMO SUL 2005-01-01 17:27:36   \n",
       "49  BANCO REGIONAL DE DESENVOLVIMENTO DO EXTREMO SUL 2005-01-01 17:27:36   \n",
       "\n",
       "   bom_investimento  \n",
       "36              Mal  \n",
       "37              Mal  \n",
       "38              Mal  \n",
       "48              Mal  \n",
       "49              Mal  "
      ]
     },
     "execution_count": 17,
     "metadata": {},
     "output_type": "execute_result"
    }
   ],
   "source": [
    "df.head()"
   ]
  },
  {
   "cell_type": "code",
   "execution_count": 18,
   "metadata": {
    "ExecuteTime": {
     "end_time": "2021-08-23T23:25:04.110299Z",
     "start_time": "2021-08-23T23:25:03.988300Z"
    }
   },
   "outputs": [
    {
     "data": {
      "text/html": [
       "<div>\n",
       "<style scoped>\n",
       "    .dataframe tbody tr th:only-of-type {\n",
       "        vertical-align: middle;\n",
       "    }\n",
       "\n",
       "    .dataframe tbody tr th {\n",
       "        vertical-align: top;\n",
       "    }\n",
       "\n",
       "    .dataframe thead th {\n",
       "        text-align: right;\n",
       "    }\n",
       "</style>\n",
       "<table border=\"1\" class=\"dataframe\">\n",
       "  <thead>\n",
       "    <tr style=\"text-align: right;\">\n",
       "      <th></th>\n",
       "      <th>uf</th>\n",
       "      <th>municipio_codigo</th>\n",
       "      <th>data_da_contratacao</th>\n",
       "      <th>valor_da_operacao_em_reais</th>\n",
       "      <th>valor_desembolsado_reais</th>\n",
       "      <th>fonte_de_recurso_desembolsos</th>\n",
       "      <th>custo_financeiro</th>\n",
       "      <th>juros</th>\n",
       "      <th>prazo_carencia_meses</th>\n",
       "      <th>prazo_amortizacao_meses</th>\n",
       "      <th>modalidade_de_apoio</th>\n",
       "      <th>forma_de_apoio</th>\n",
       "      <th>produto</th>\n",
       "      <th>instrumento_financeiro</th>\n",
       "      <th>inovacao</th>\n",
       "      <th>area_operacional</th>\n",
       "      <th>setor_cnae</th>\n",
       "      <th>subsetor_cnae_agrupado</th>\n",
       "      <th>subsetor_cnae_codigo</th>\n",
       "      <th>subsetor_cnae_nome</th>\n",
       "      <th>setor_bndes</th>\n",
       "      <th>subsetor_bndes</th>\n",
       "      <th>porte_do_cliente</th>\n",
       "      <th>natureza_do_cliente</th>\n",
       "      <th>instituicao_financeira_credenciada</th>\n",
       "      <th>data_prevista</th>\n",
       "      <th>bom_investimento</th>\n",
       "    </tr>\n",
       "  </thead>\n",
       "  <tbody>\n",
       "    <tr>\n",
       "      <th>36</th>\n",
       "      <td>RS</td>\n",
       "      <td>4321808</td>\n",
       "      <td>2002-01-02</td>\n",
       "      <td>2303</td>\n",
       "      <td>2303,0</td>\n",
       "      <td>RECURSOS VINCULADOS - FAT DEPÓSITOS ESPECIAIS</td>\n",
       "      <td>TAXA FIXA</td>\n",
       "      <td>4,0</td>\n",
       "      <td>0 days</td>\n",
       "      <td>1460 days 23:16:48</td>\n",
       "      <td>REEMBOLSÁVEL</td>\n",
       "      <td>INDIRETA</td>\n",
       "      <td>BNDES AUTOMÁTICO</td>\n",
       "      <td>PRONAF INVESTIMENTO</td>\n",
       "      <td>NÃO</td>\n",
       "      <td>AREA DE OPERACOES E CANAIS DIGITAIS</td>\n",
       "      <td>AGROPECUÁRIA E PESCA</td>\n",
       "      <td>Agropecuária</td>\n",
       "      <td>A0100000</td>\n",
       "      <td>AGRICULTURA, PECUARIA E SERVICOS RELACIONADOS</td>\n",
       "      <td>AGROPECUÁRIA</td>\n",
       "      <td>AGROPECUÁRIA</td>\n",
       "      <td>MICRO</td>\n",
       "      <td>PRIVADA</td>\n",
       "      <td>BANCO REGIONAL DE DESENVOLVIMENTO DO EXTREMO SUL</td>\n",
       "      <td>2006-01-01 23:16:48</td>\n",
       "      <td>Mal</td>\n",
       "    </tr>\n",
       "    <tr>\n",
       "      <th>37</th>\n",
       "      <td>RS</td>\n",
       "      <td>4321808</td>\n",
       "      <td>2002-01-02</td>\n",
       "      <td>2303</td>\n",
       "      <td>2303,0</td>\n",
       "      <td>RECURSOS VINCULADOS - FAT DEPÓSITOS ESPECIAIS</td>\n",
       "      <td>TAXA FIXA</td>\n",
       "      <td>4,0</td>\n",
       "      <td>0 days</td>\n",
       "      <td>1460 days 23:16:48</td>\n",
       "      <td>REEMBOLSÁVEL</td>\n",
       "      <td>INDIRETA</td>\n",
       "      <td>BNDES AUTOMÁTICO</td>\n",
       "      <td>PRONAF INVESTIMENTO</td>\n",
       "      <td>NÃO</td>\n",
       "      <td>AREA DE OPERACOES E CANAIS DIGITAIS</td>\n",
       "      <td>AGROPECUÁRIA E PESCA</td>\n",
       "      <td>Agropecuária</td>\n",
       "      <td>A0100000</td>\n",
       "      <td>AGRICULTURA, PECUARIA E SERVICOS RELACIONADOS</td>\n",
       "      <td>AGROPECUÁRIA</td>\n",
       "      <td>AGROPECUÁRIA</td>\n",
       "      <td>MICRO</td>\n",
       "      <td>PRIVADA</td>\n",
       "      <td>BANCO REGIONAL DE DESENVOLVIMENTO DO EXTREMO SUL</td>\n",
       "      <td>2006-01-01 23:16:48</td>\n",
       "      <td>Mal</td>\n",
       "    </tr>\n",
       "    <tr>\n",
       "      <th>38</th>\n",
       "      <td>RS</td>\n",
       "      <td>4321808</td>\n",
       "      <td>2002-01-02</td>\n",
       "      <td>2373</td>\n",
       "      <td>2373,0</td>\n",
       "      <td>RECURSOS VINCULADOS - FAT DEPÓSITOS ESPECIAIS</td>\n",
       "      <td>TAXA FIXA</td>\n",
       "      <td>4,0</td>\n",
       "      <td>0 days</td>\n",
       "      <td>1460 days 23:16:48</td>\n",
       "      <td>REEMBOLSÁVEL</td>\n",
       "      <td>INDIRETA</td>\n",
       "      <td>BNDES AUTOMÁTICO</td>\n",
       "      <td>PRONAF INVESTIMENTO</td>\n",
       "      <td>NÃO</td>\n",
       "      <td>AREA DE OPERACOES E CANAIS DIGITAIS</td>\n",
       "      <td>AGROPECUÁRIA E PESCA</td>\n",
       "      <td>Agropecuária</td>\n",
       "      <td>A0100000</td>\n",
       "      <td>AGRICULTURA, PECUARIA E SERVICOS RELACIONADOS</td>\n",
       "      <td>AGROPECUÁRIA</td>\n",
       "      <td>AGROPECUÁRIA</td>\n",
       "      <td>MICRO</td>\n",
       "      <td>PRIVADA</td>\n",
       "      <td>BANCO REGIONAL DE DESENVOLVIMENTO DO EXTREMO SUL</td>\n",
       "      <td>2006-01-01 23:16:48</td>\n",
       "      <td>Mal</td>\n",
       "    </tr>\n",
       "    <tr>\n",
       "      <th>48</th>\n",
       "      <td>RS</td>\n",
       "      <td>4321329</td>\n",
       "      <td>2002-01-02</td>\n",
       "      <td>2400</td>\n",
       "      <td>2400,0</td>\n",
       "      <td>RECURSOS VINCULADOS - FAT DEPÓSITOS ESPECIAIS</td>\n",
       "      <td>TAXA FIXA</td>\n",
       "      <td>4,0</td>\n",
       "      <td>0 days</td>\n",
       "      <td>1095 days 17:27:36</td>\n",
       "      <td>REEMBOLSÁVEL</td>\n",
       "      <td>INDIRETA</td>\n",
       "      <td>BNDES AUTOMÁTICO</td>\n",
       "      <td>PRONAF INVESTIMENTO</td>\n",
       "      <td>NÃO</td>\n",
       "      <td>AREA DE OPERACOES E CANAIS DIGITAIS</td>\n",
       "      <td>AGROPECUÁRIA E PESCA</td>\n",
       "      <td>Agropecuária</td>\n",
       "      <td>A0100000</td>\n",
       "      <td>AGRICULTURA, PECUARIA E SERVICOS RELACIONADOS</td>\n",
       "      <td>AGROPECUÁRIA</td>\n",
       "      <td>AGROPECUÁRIA</td>\n",
       "      <td>MICRO</td>\n",
       "      <td>PRIVADA</td>\n",
       "      <td>BANCO REGIONAL DE DESENVOLVIMENTO DO EXTREMO SUL</td>\n",
       "      <td>2005-01-01 17:27:36</td>\n",
       "      <td>Mal</td>\n",
       "    </tr>\n",
       "    <tr>\n",
       "      <th>49</th>\n",
       "      <td>RS</td>\n",
       "      <td>4321329</td>\n",
       "      <td>2002-01-02</td>\n",
       "      <td>1700</td>\n",
       "      <td>1700,0</td>\n",
       "      <td>RECURSOS VINCULADOS - FAT DEPÓSITOS ESPECIAIS</td>\n",
       "      <td>TAXA FIXA</td>\n",
       "      <td>4,0</td>\n",
       "      <td>0 days</td>\n",
       "      <td>1095 days 17:27:36</td>\n",
       "      <td>REEMBOLSÁVEL</td>\n",
       "      <td>INDIRETA</td>\n",
       "      <td>BNDES AUTOMÁTICO</td>\n",
       "      <td>PRONAF INVESTIMENTO</td>\n",
       "      <td>NÃO</td>\n",
       "      <td>AREA DE OPERACOES E CANAIS DIGITAIS</td>\n",
       "      <td>AGROPECUÁRIA E PESCA</td>\n",
       "      <td>Agropecuária</td>\n",
       "      <td>A0100000</td>\n",
       "      <td>AGRICULTURA, PECUARIA E SERVICOS RELACIONADOS</td>\n",
       "      <td>AGROPECUÁRIA</td>\n",
       "      <td>AGROPECUÁRIA</td>\n",
       "      <td>MICRO</td>\n",
       "      <td>PRIVADA</td>\n",
       "      <td>BANCO REGIONAL DE DESENVOLVIMENTO DO EXTREMO SUL</td>\n",
       "      <td>2005-01-01 17:27:36</td>\n",
       "      <td>Mal</td>\n",
       "    </tr>\n",
       "  </tbody>\n",
       "</table>\n",
       "</div>"
      ],
      "text/plain": [
       "     uf  municipio_codigo data_da_contratacao  valor_da_operacao_em_reais  \\\n",
       "36   RS           4321808          2002-01-02                        2303   \n",
       "37   RS           4321808          2002-01-02                        2303   \n",
       "38   RS           4321808          2002-01-02                        2373   \n",
       "48   RS           4321329          2002-01-02                        2400   \n",
       "49   RS           4321329          2002-01-02                        1700   \n",
       "\n",
       "   valor_desembolsado_reais                   fonte_de_recurso_desembolsos  \\\n",
       "36                   2303,0  RECURSOS VINCULADOS - FAT DEPÓSITOS ESPECIAIS   \n",
       "37                   2303,0  RECURSOS VINCULADOS - FAT DEPÓSITOS ESPECIAIS   \n",
       "38                   2373,0  RECURSOS VINCULADOS - FAT DEPÓSITOS ESPECIAIS   \n",
       "48                   2400,0  RECURSOS VINCULADOS - FAT DEPÓSITOS ESPECIAIS   \n",
       "49                   1700,0  RECURSOS VINCULADOS - FAT DEPÓSITOS ESPECIAIS   \n",
       "\n",
       "   custo_financeiro juros prazo_carencia_meses prazo_amortizacao_meses  \\\n",
       "36        TAXA FIXA   4,0               0 days      1460 days 23:16:48   \n",
       "37        TAXA FIXA   4,0               0 days      1460 days 23:16:48   \n",
       "38        TAXA FIXA   4,0               0 days      1460 days 23:16:48   \n",
       "48        TAXA FIXA   4,0               0 days      1095 days 17:27:36   \n",
       "49        TAXA FIXA   4,0               0 days      1095 days 17:27:36   \n",
       "\n",
       "   modalidade_de_apoio forma_de_apoio           produto  \\\n",
       "36        REEMBOLSÁVEL       INDIRETA  BNDES AUTOMÁTICO   \n",
       "37        REEMBOLSÁVEL       INDIRETA  BNDES AUTOMÁTICO   \n",
       "38        REEMBOLSÁVEL       INDIRETA  BNDES AUTOMÁTICO   \n",
       "48        REEMBOLSÁVEL       INDIRETA  BNDES AUTOMÁTICO   \n",
       "49        REEMBOLSÁVEL       INDIRETA  BNDES AUTOMÁTICO   \n",
       "\n",
       "   instrumento_financeiro inovacao                     area_operacional  \\\n",
       "36    PRONAF INVESTIMENTO      NÃO  AREA DE OPERACOES E CANAIS DIGITAIS   \n",
       "37    PRONAF INVESTIMENTO      NÃO  AREA DE OPERACOES E CANAIS DIGITAIS   \n",
       "38    PRONAF INVESTIMENTO      NÃO  AREA DE OPERACOES E CANAIS DIGITAIS   \n",
       "48    PRONAF INVESTIMENTO      NÃO  AREA DE OPERACOES E CANAIS DIGITAIS   \n",
       "49    PRONAF INVESTIMENTO      NÃO  AREA DE OPERACOES E CANAIS DIGITAIS   \n",
       "\n",
       "              setor_cnae subsetor_cnae_agrupado subsetor_cnae_codigo  \\\n",
       "36  AGROPECUÁRIA E PESCA           Agropecuária             A0100000   \n",
       "37  AGROPECUÁRIA E PESCA           Agropecuária             A0100000   \n",
       "38  AGROPECUÁRIA E PESCA           Agropecuária             A0100000   \n",
       "48  AGROPECUÁRIA E PESCA           Agropecuária             A0100000   \n",
       "49  AGROPECUÁRIA E PESCA           Agropecuária             A0100000   \n",
       "\n",
       "                               subsetor_cnae_nome   setor_bndes  \\\n",
       "36  AGRICULTURA, PECUARIA E SERVICOS RELACIONADOS  AGROPECUÁRIA   \n",
       "37  AGRICULTURA, PECUARIA E SERVICOS RELACIONADOS  AGROPECUÁRIA   \n",
       "38  AGRICULTURA, PECUARIA E SERVICOS RELACIONADOS  AGROPECUÁRIA   \n",
       "48  AGRICULTURA, PECUARIA E SERVICOS RELACIONADOS  AGROPECUÁRIA   \n",
       "49  AGRICULTURA, PECUARIA E SERVICOS RELACIONADOS  AGROPECUÁRIA   \n",
       "\n",
       "   subsetor_bndes porte_do_cliente natureza_do_cliente  \\\n",
       "36   AGROPECUÁRIA            MICRO             PRIVADA   \n",
       "37   AGROPECUÁRIA            MICRO             PRIVADA   \n",
       "38   AGROPECUÁRIA            MICRO             PRIVADA   \n",
       "48   AGROPECUÁRIA            MICRO             PRIVADA   \n",
       "49   AGROPECUÁRIA            MICRO             PRIVADA   \n",
       "\n",
       "                  instituicao_financeira_credenciada       data_prevista  \\\n",
       "36  BANCO REGIONAL DE DESENVOLVIMENTO DO EXTREMO SUL 2006-01-01 23:16:48   \n",
       "37  BANCO REGIONAL DE DESENVOLVIMENTO DO EXTREMO SUL 2006-01-01 23:16:48   \n",
       "38  BANCO REGIONAL DE DESENVOLVIMENTO DO EXTREMO SUL 2006-01-01 23:16:48   \n",
       "48  BANCO REGIONAL DE DESENVOLVIMENTO DO EXTREMO SUL 2005-01-01 17:27:36   \n",
       "49  BANCO REGIONAL DE DESENVOLVIMENTO DO EXTREMO SUL 2005-01-01 17:27:36   \n",
       "\n",
       "   bom_investimento  \n",
       "36              Mal  \n",
       "37              Mal  \n",
       "38              Mal  \n",
       "48              Mal  \n",
       "49              Mal  "
      ]
     },
     "execution_count": 18,
     "metadata": {},
     "output_type": "execute_result"
    }
   ],
   "source": [
    "df.head()"
   ]
  },
  {
   "cell_type": "markdown",
   "metadata": {},
   "source": [
    "# Feature Selection"
   ]
  },
  {
   "cell_type": "markdown",
   "metadata": {},
   "source": [
    "- Como muitas colunas do dataframe são categóricas, não compensaria usar o one-hot encoding - teríamos um acréscimo muito grande de dimensões, gerando um dataframe retangular (poucas linhas, muitas colunas). Esse formato obtêm resultados ruins para modelagens de machine learning.\n",
    "- Para diminuir o número de variáveis e selecionar somente as colunas mais relevantes, será necessário realizar um estudo de feature selection.\n",
    "    - Gini index / Decision Tree\n",
    "    - L1 \n",
    "    - L2 Lasso\n",
    "    - RMSE"
   ]
  },
  {
   "cell_type": "code",
   "execution_count": 19,
   "metadata": {
    "ExecuteTime": {
     "end_time": "2021-08-24T01:26:36.931097Z",
     "start_time": "2021-08-24T01:26:36.892870Z"
    }
   },
   "outputs": [
    {
     "data": {
      "text/html": [
       "<div>\n",
       "<style scoped>\n",
       "    .dataframe tbody tr th:only-of-type {\n",
       "        vertical-align: middle;\n",
       "    }\n",
       "\n",
       "    .dataframe tbody tr th {\n",
       "        vertical-align: top;\n",
       "    }\n",
       "\n",
       "    .dataframe thead th {\n",
       "        text-align: right;\n",
       "    }\n",
       "</style>\n",
       "<table border=\"1\" class=\"dataframe\">\n",
       "  <thead>\n",
       "    <tr style=\"text-align: right;\">\n",
       "      <th></th>\n",
       "      <th>municipio_codigo</th>\n",
       "      <th>valor_da_operacao_em_reais</th>\n",
       "    </tr>\n",
       "  </thead>\n",
       "  <tbody>\n",
       "    <tr>\n",
       "      <th>municipio_codigo</th>\n",
       "      <td>1.000000</td>\n",
       "      <td>-0.025836</td>\n",
       "    </tr>\n",
       "    <tr>\n",
       "      <th>valor_da_operacao_em_reais</th>\n",
       "      <td>-0.025836</td>\n",
       "      <td>1.000000</td>\n",
       "    </tr>\n",
       "  </tbody>\n",
       "</table>\n",
       "</div>"
      ],
      "text/plain": [
       "                            municipio_codigo  valor_da_operacao_em_reais\n",
       "municipio_codigo                    1.000000                   -0.025836\n",
       "valor_da_operacao_em_reais         -0.025836                    1.000000"
      ]
     },
     "execution_count": 19,
     "metadata": {},
     "output_type": "execute_result"
    }
   ],
   "source": [
    "df.corr()"
   ]
  },
  {
   "cell_type": "code",
   "execution_count": null,
   "metadata": {},
   "outputs": [],
   "source": []
  }
 ],
 "metadata": {
  "kernelspec": {
   "display_name": "Python 3",
   "language": "python",
   "name": "python3"
  },
  "language_info": {
   "codemirror_mode": {
    "name": "ipython",
    "version": 3
   },
   "file_extension": ".py",
   "mimetype": "text/x-python",
   "name": "python",
   "nbconvert_exporter": "python",
   "pygments_lexer": "ipython3",
   "version": "3.9.0"
  },
  "toc": {
   "base_numbering": 1,
   "nav_menu": {},
   "number_sections": true,
   "sideBar": true,
   "skip_h1_title": false,
   "title_cell": "Table of Contents",
   "title_sidebar": "Contents",
   "toc_cell": false,
   "toc_position": {},
   "toc_section_display": true,
   "toc_window_display": false
  },
  "varInspector": {
   "cols": {
    "lenName": 16,
    "lenType": 16,
    "lenVar": 40
   },
   "kernels_config": {
    "python": {
     "delete_cmd_postfix": "",
     "delete_cmd_prefix": "del ",
     "library": "var_list.py",
     "varRefreshCmd": "print(var_dic_list())"
    },
    "r": {
     "delete_cmd_postfix": ") ",
     "delete_cmd_prefix": "rm(",
     "library": "var_list.r",
     "varRefreshCmd": "cat(var_dic_list()) "
    }
   },
   "types_to_exclude": [
    "module",
    "function",
    "builtin_function_or_method",
    "instance",
    "_Feature"
   ],
   "window_display": false
  }
 },
 "nbformat": 4,
 "nbformat_minor": 5
}
