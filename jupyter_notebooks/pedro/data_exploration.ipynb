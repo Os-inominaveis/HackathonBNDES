{
 "cells": [
  {
   "cell_type": "code",
   "execution_count": 558,
   "metadata": {
    "ExecuteTime": {
     "end_time": "2021-08-16T03:16:07.619119Z",
     "start_time": "2021-08-16T03:16:07.612119Z"
    }
   },
   "outputs": [
    {
     "data": {
      "text/html": [
       "<img src=\"https://www.cartaobndes.gov.br/cartaobndes/Images/header_BNDES-01.png\" width=\"500\" height=\"500\"/>"
      ],
      "text/plain": [
       "<IPython.core.display.Image object>"
      ]
     },
     "execution_count": 558,
     "metadata": {},
     "output_type": "execute_result"
    }
   ],
   "source": [
    "from IPython.display import Image\n",
    "from IPython.core.display import HTML \n",
    "Image(url= \"https://www.cartaobndes.gov.br/cartaobndes/Images/header_BNDES-01.png\", width = 500, height = 500)"
   ]
  },
  {
   "cell_type": "markdown",
   "metadata": {
    "heading_collapsed": true
   },
   "source": [
    "# Importação de bibliotecas"
   ]
  },
  {
   "cell_type": "code",
   "execution_count": 273,
   "metadata": {
    "ExecuteTime": {
     "end_time": "2021-08-14T21:55:35.357109Z",
     "start_time": "2021-08-14T21:55:34.156989Z"
    },
    "hidden": true
   },
   "outputs": [],
   "source": [
    "import pandas as pd\n",
    "import matplotlib.pyplot as plt\n",
    "import seaborn as sns\n",
    "sns.set(rc={'figure.figsize':(11, 4)})\n",
    "import requests"
   ]
  },
  {
   "cell_type": "markdown",
   "metadata": {
    "heading_collapsed": true
   },
   "source": [
    "# Importação dos dados"
   ]
  },
  {
   "cell_type": "code",
   "execution_count": 85,
   "metadata": {
    "ExecuteTime": {
     "end_time": "2021-08-14T16:48:44.740716Z",
     "start_time": "2021-08-14T16:48:29.765696Z"
    },
    "hidden": true
   },
   "outputs": [],
   "source": [
    "df = pd.read_csv('C:/Users/pfaprado/Documents/GitHub/bndes/operacoes-financiamento-operacoes-indiretas-automaticas.csv', sep=';')"
   ]
  },
  {
   "cell_type": "markdown",
   "metadata": {
    "heading_collapsed": true
   },
   "source": [
    "# Exploração dos dados"
   ]
  },
  {
   "cell_type": "markdown",
   "metadata": {
    "heading_collapsed": true,
    "hidden": true
   },
   "source": [
    "## Dataset: Financiamento de operações indiretas automáticas"
   ]
  },
  {
   "cell_type": "markdown",
   "metadata": {
    "heading_collapsed": true,
    "hidden": true
   },
   "source": [
    "### Exploração básica"
   ]
  },
  {
   "cell_type": "markdown",
   "metadata": {
    "ExecuteTime": {
     "end_time": "2021-08-14T14:30:50.585365Z",
     "start_time": "2021-08-14T14:30:50.568674Z"
    },
    "hidden": true
   },
   "source": [
    "Operações indiretas automáticas a MPMEs: concessão de crédito e pedidos de financiamentos via operações indiretas (através de agentes financeiros credenciados) automáticas. O agente financeiro avalia as necessidades do cliente e o tipo de crédito, apresentando a proposta junto ao BNDES. Pleito é analisado de forma automática com aderência aos requisitos legais. BNDES não negocia as condições, quem faz isso é o agente financeiro - ele também assume o risco do não-pagamento da dívida (assume o risco de crédito da linha de financiamento). O agente ganha o spread (taxa do cliente) nesse processo todo. 99% das operações aprovadas são indiretas automáticas (quase 57 bi de reais em 1 ano e meio), sendo que 87% foram operações a Micro, Pequena, Médias Empresas (MPMEs com ROB até 300 milhões de reais). Dados disponíveis: estatísticas de desembolsos (série temporal). Dados desagregados de operações contratadas (ano/mes, data de contratação, cliente, UF, município, valor da operação, valor desembolsado, custo financeiro, taxa/spread, prazos de carência/amortização, linha de financiamento, etc."
   ]
  },
  {
   "cell_type": "code",
   "execution_count": 86,
   "metadata": {
    "ExecuteTime": {
     "end_time": "2021-08-14T16:48:46.610714Z",
     "start_time": "2021-08-14T16:48:46.581715Z"
    },
    "hidden": true
   },
   "outputs": [
    {
     "data": {
      "text/html": [
       "<div>\n",
       "<style scoped>\n",
       "    .dataframe tbody tr th:only-of-type {\n",
       "        vertical-align: middle;\n",
       "    }\n",
       "\n",
       "    .dataframe tbody tr th {\n",
       "        vertical-align: top;\n",
       "    }\n",
       "\n",
       "    .dataframe thead th {\n",
       "        text-align: right;\n",
       "    }\n",
       "</style>\n",
       "<table border=\"1\" class=\"dataframe\">\n",
       "  <thead>\n",
       "    <tr style=\"text-align: right;\">\n",
       "      <th></th>\n",
       "      <th>cliente</th>\n",
       "      <th>cpf_cnpj</th>\n",
       "      <th>uf</th>\n",
       "      <th>municipio</th>\n",
       "      <th>municipio_codigo</th>\n",
       "      <th>data_da_contratacao</th>\n",
       "      <th>valor_da_operacao_em_reais</th>\n",
       "      <th>valor_desembolsado_reais</th>\n",
       "      <th>fonte_de_recurso_desembolsos</th>\n",
       "      <th>custo_financeiro</th>\n",
       "      <th>...</th>\n",
       "      <th>subsetor_cnae_agrupado</th>\n",
       "      <th>subsetor_cnae_codigo</th>\n",
       "      <th>subsetor_cnae_nome</th>\n",
       "      <th>setor_bndes</th>\n",
       "      <th>subsetor_bndes</th>\n",
       "      <th>porte_do_cliente</th>\n",
       "      <th>natureza_do_cliente</th>\n",
       "      <th>instituicao_financeira_credenciada</th>\n",
       "      <th>cnpj_do_agente_financeiro</th>\n",
       "      <th>situacao_da_operacao</th>\n",
       "    </tr>\n",
       "  </thead>\n",
       "  <tbody>\n",
       "    <tr>\n",
       "      <th>0</th>\n",
       "      <td>BANCO COOPERATIVO SICOOB S.A.</td>\n",
       "      <td>**.*38.232/0001-**</td>\n",
       "      <td>SP</td>\n",
       "      <td>PEDREGULHO</td>\n",
       "      <td>3537008</td>\n",
       "      <td>2002-01-02</td>\n",
       "      <td>16000</td>\n",
       "      <td>16000,0</td>\n",
       "      <td>RECURSOS LIVRES - TESOURO</td>\n",
       "      <td>TAXA FIXA</td>\n",
       "      <td>...</td>\n",
       "      <td>Agropecuária</td>\n",
       "      <td>A0119900</td>\n",
       "      <td>CULT PLANTAS LAVOURA TEMPORARIA NAO ESPECIFICA...</td>\n",
       "      <td>AGROPECUÁRIA</td>\n",
       "      <td>AGROPECUÁRIA</td>\n",
       "      <td>MICRO</td>\n",
       "      <td>PRIVADA</td>\n",
       "      <td>BANCO COOPERATIVO SICOOB S.A.</td>\n",
       "      <td>02.038.232.0001-64</td>\n",
       "      <td>LIQUIDADA</td>\n",
       "    </tr>\n",
       "    <tr>\n",
       "      <th>1</th>\n",
       "      <td>BANCO REGIONAL DE DESENVOLVIMENTO DO EXTREMO SUL</td>\n",
       "      <td>**.*16.560/0001-**</td>\n",
       "      <td>RS</td>\n",
       "      <td>TRES DE MAIO</td>\n",
       "      <td>4321808</td>\n",
       "      <td>2002-01-02</td>\n",
       "      <td>8047</td>\n",
       "      <td>8047,0</td>\n",
       "      <td>RECURSOS VINCULADOS - FAT DEPÓSITOS ESPECIAIS</td>\n",
       "      <td>TAXA FIXA</td>\n",
       "      <td>...</td>\n",
       "      <td>Agropecuária</td>\n",
       "      <td>A0100000</td>\n",
       "      <td>AGRICULTURA, PECUARIA E SERVICOS RELACIONADOS</td>\n",
       "      <td>AGROPECUÁRIA</td>\n",
       "      <td>AGROPECUÁRIA</td>\n",
       "      <td>MICRO</td>\n",
       "      <td>PRIVADA</td>\n",
       "      <td>BANCO REGIONAL DE DESENVOLVIMENTO DO EXTREMO SUL</td>\n",
       "      <td>92.816.560.0001-37</td>\n",
       "      <td>LIQUIDADA</td>\n",
       "    </tr>\n",
       "    <tr>\n",
       "      <th>2</th>\n",
       "      <td>BANCO REGIONAL DE DESENVOLVIMENTO DO EXTREMO SUL</td>\n",
       "      <td>**.*16.560/0001-**</td>\n",
       "      <td>RS</td>\n",
       "      <td>ERECHIM</td>\n",
       "      <td>4307005</td>\n",
       "      <td>2002-01-02</td>\n",
       "      <td>8104</td>\n",
       "      <td>8104,0</td>\n",
       "      <td>RECURSOS VINCULADOS - FAT DEPÓSITOS ESPECIAIS</td>\n",
       "      <td>TAXA FIXA</td>\n",
       "      <td>...</td>\n",
       "      <td>Agropecuária</td>\n",
       "      <td>A0100000</td>\n",
       "      <td>AGRICULTURA, PECUARIA E SERVICOS RELACIONADOS</td>\n",
       "      <td>AGROPECUÁRIA</td>\n",
       "      <td>AGROPECUÁRIA</td>\n",
       "      <td>MICRO</td>\n",
       "      <td>PRIVADA</td>\n",
       "      <td>BANCO REGIONAL DE DESENVOLVIMENTO DO EXTREMO SUL</td>\n",
       "      <td>92.816.560.0001-37</td>\n",
       "      <td>LIQUIDADA</td>\n",
       "    </tr>\n",
       "    <tr>\n",
       "      <th>3</th>\n",
       "      <td>BANCO REGIONAL DE DESENVOLVIMENTO DO EXTREMO SUL</td>\n",
       "      <td>**.*16.560/0001-**</td>\n",
       "      <td>RS</td>\n",
       "      <td>ERECHIM</td>\n",
       "      <td>4307005</td>\n",
       "      <td>2002-01-02</td>\n",
       "      <td>6304</td>\n",
       "      <td>6304,0</td>\n",
       "      <td>RECURSOS VINCULADOS - FAT DEPÓSITOS ESPECIAIS</td>\n",
       "      <td>TAXA FIXA</td>\n",
       "      <td>...</td>\n",
       "      <td>Agropecuária</td>\n",
       "      <td>A0100000</td>\n",
       "      <td>AGRICULTURA, PECUARIA E SERVICOS RELACIONADOS</td>\n",
       "      <td>AGROPECUÁRIA</td>\n",
       "      <td>AGROPECUÁRIA</td>\n",
       "      <td>MICRO</td>\n",
       "      <td>PRIVADA</td>\n",
       "      <td>BANCO REGIONAL DE DESENVOLVIMENTO DO EXTREMO SUL</td>\n",
       "      <td>92.816.560.0001-37</td>\n",
       "      <td>LIQUIDADA</td>\n",
       "    </tr>\n",
       "    <tr>\n",
       "      <th>4</th>\n",
       "      <td>BANCO REGIONAL DE DESENVOLVIMENTO DO EXTREMO SUL</td>\n",
       "      <td>**.*16.560/0001-**</td>\n",
       "      <td>RS</td>\n",
       "      <td>HUMAITA</td>\n",
       "      <td>4309704</td>\n",
       "      <td>2002-01-02</td>\n",
       "      <td>15000</td>\n",
       "      <td>15000,0</td>\n",
       "      <td>RECURSOS VINCULADOS - FAT DEPÓSITOS ESPECIAIS</td>\n",
       "      <td>TAXA FIXA</td>\n",
       "      <td>...</td>\n",
       "      <td>Agropecuária</td>\n",
       "      <td>A0100000</td>\n",
       "      <td>AGRICULTURA, PECUARIA E SERVICOS RELACIONADOS</td>\n",
       "      <td>AGROPECUÁRIA</td>\n",
       "      <td>AGROPECUÁRIA</td>\n",
       "      <td>MICRO</td>\n",
       "      <td>PRIVADA</td>\n",
       "      <td>BANCO REGIONAL DE DESENVOLVIMENTO DO EXTREMO SUL</td>\n",
       "      <td>92.816.560.0001-37</td>\n",
       "      <td>LIQUIDADA</td>\n",
       "    </tr>\n",
       "  </tbody>\n",
       "</table>\n",
       "<p>5 rows × 30 columns</p>\n",
       "</div>"
      ],
      "text/plain": [
       "                                            cliente            cpf_cnpj   uf  \\\n",
       "0                     BANCO COOPERATIVO SICOOB S.A.  **.*38.232/0001-**   SP   \n",
       "1  BANCO REGIONAL DE DESENVOLVIMENTO DO EXTREMO SUL  **.*16.560/0001-**   RS   \n",
       "2  BANCO REGIONAL DE DESENVOLVIMENTO DO EXTREMO SUL  **.*16.560/0001-**   RS   \n",
       "3  BANCO REGIONAL DE DESENVOLVIMENTO DO EXTREMO SUL  **.*16.560/0001-**   RS   \n",
       "4  BANCO REGIONAL DE DESENVOLVIMENTO DO EXTREMO SUL  **.*16.560/0001-**   RS   \n",
       "\n",
       "      municipio  municipio_codigo data_da_contratacao  \\\n",
       "0    PEDREGULHO           3537008          2002-01-02   \n",
       "1  TRES DE MAIO           4321808          2002-01-02   \n",
       "2       ERECHIM           4307005          2002-01-02   \n",
       "3       ERECHIM           4307005          2002-01-02   \n",
       "4       HUMAITA           4309704          2002-01-02   \n",
       "\n",
       "   valor_da_operacao_em_reais valor_desembolsado_reais  \\\n",
       "0                       16000                  16000,0   \n",
       "1                        8047                   8047,0   \n",
       "2                        8104                   8104,0   \n",
       "3                        6304                   6304,0   \n",
       "4                       15000                  15000,0   \n",
       "\n",
       "                    fonte_de_recurso_desembolsos custo_financeiro  ...  \\\n",
       "0                      RECURSOS LIVRES - TESOURO        TAXA FIXA  ...   \n",
       "1  RECURSOS VINCULADOS - FAT DEPÓSITOS ESPECIAIS        TAXA FIXA  ...   \n",
       "2  RECURSOS VINCULADOS - FAT DEPÓSITOS ESPECIAIS        TAXA FIXA  ...   \n",
       "3  RECURSOS VINCULADOS - FAT DEPÓSITOS ESPECIAIS        TAXA FIXA  ...   \n",
       "4  RECURSOS VINCULADOS - FAT DEPÓSITOS ESPECIAIS        TAXA FIXA  ...   \n",
       "\n",
       "  subsetor_cnae_agrupado  subsetor_cnae_codigo  \\\n",
       "0           Agropecuária              A0119900   \n",
       "1           Agropecuária              A0100000   \n",
       "2           Agropecuária              A0100000   \n",
       "3           Agropecuária              A0100000   \n",
       "4           Agropecuária              A0100000   \n",
       "\n",
       "                                  subsetor_cnae_nome   setor_bndes  \\\n",
       "0  CULT PLANTAS LAVOURA TEMPORARIA NAO ESPECIFICA...  AGROPECUÁRIA   \n",
       "1      AGRICULTURA, PECUARIA E SERVICOS RELACIONADOS  AGROPECUÁRIA   \n",
       "2      AGRICULTURA, PECUARIA E SERVICOS RELACIONADOS  AGROPECUÁRIA   \n",
       "3      AGRICULTURA, PECUARIA E SERVICOS RELACIONADOS  AGROPECUÁRIA   \n",
       "4      AGRICULTURA, PECUARIA E SERVICOS RELACIONADOS  AGROPECUÁRIA   \n",
       "\n",
       "  subsetor_bndes porte_do_cliente natureza_do_cliente  \\\n",
       "0   AGROPECUÁRIA            MICRO             PRIVADA   \n",
       "1   AGROPECUÁRIA            MICRO             PRIVADA   \n",
       "2   AGROPECUÁRIA            MICRO             PRIVADA   \n",
       "3   AGROPECUÁRIA            MICRO             PRIVADA   \n",
       "4   AGROPECUÁRIA            MICRO             PRIVADA   \n",
       "\n",
       "                 instituicao_financeira_credenciada cnpj_do_agente_financeiro  \\\n",
       "0                     BANCO COOPERATIVO SICOOB S.A.        02.038.232.0001-64   \n",
       "1  BANCO REGIONAL DE DESENVOLVIMENTO DO EXTREMO SUL        92.816.560.0001-37   \n",
       "2  BANCO REGIONAL DE DESENVOLVIMENTO DO EXTREMO SUL        92.816.560.0001-37   \n",
       "3  BANCO REGIONAL DE DESENVOLVIMENTO DO EXTREMO SUL        92.816.560.0001-37   \n",
       "4  BANCO REGIONAL DE DESENVOLVIMENTO DO EXTREMO SUL        92.816.560.0001-37   \n",
       "\n",
       "  situacao_da_operacao  \n",
       "0            LIQUIDADA  \n",
       "1            LIQUIDADA  \n",
       "2            LIQUIDADA  \n",
       "3            LIQUIDADA  \n",
       "4            LIQUIDADA  \n",
       "\n",
       "[5 rows x 30 columns]"
      ]
     },
     "execution_count": 86,
     "metadata": {},
     "output_type": "execute_result"
    }
   ],
   "source": [
    "df.head()"
   ]
  },
  {
   "cell_type": "markdown",
   "metadata": {
    "heading_collapsed": true,
    "hidden": true
   },
   "source": [
    "### Formatando as datas"
   ]
  },
  {
   "cell_type": "code",
   "execution_count": 94,
   "metadata": {
    "ExecuteTime": {
     "end_time": "2021-08-14T16:51:41.942839Z",
     "start_time": "2021-08-14T16:51:41.931822Z"
    },
    "hidden": true
   },
   "outputs": [
    {
     "data": {
      "text/plain": [
       "Index(['cliente', 'cpf_cnpj', 'uf', 'municipio', 'municipio_codigo',\n",
       "       'data_da_contratacao', 'valor_da_operacao_em_reais',\n",
       "       'valor_desembolsado_reais', 'fonte_de_recurso_desembolsos',\n",
       "       'custo_financeiro', 'juros', 'prazo_carencia_meses',\n",
       "       'prazo_amortizacao_meses', 'modalidade_de_apoio', 'forma_de_apoio',\n",
       "       'produto', 'instrumento_financeiro', 'inovacao', 'area_operacional',\n",
       "       'setor_cnae', 'subsetor_cnae_agrupado', 'subsetor_cnae_codigo',\n",
       "       'subsetor_cnae_nome', 'setor_bndes', 'subsetor_bndes',\n",
       "       'porte_do_cliente', 'natureza_do_cliente',\n",
       "       'instituicao_financeira_credenciada', 'cnpj_do_agente_financeiro',\n",
       "       'situacao_da_operacao'],\n",
       "      dtype='object')"
      ]
     },
     "execution_count": 94,
     "metadata": {},
     "output_type": "execute_result"
    }
   ],
   "source": [
    "df.columns"
   ]
  },
  {
   "cell_type": "markdown",
   "metadata": {
    "hidden": true
   },
   "source": [
    "Transformando a coluna de data em datetime."
   ]
  },
  {
   "cell_type": "code",
   "execution_count": null,
   "metadata": {
    "hidden": true
   },
   "outputs": [],
   "source": [
    "df['data_da_contratacao'] = pd.to_datetime(df['data_da_contratacao'])"
   ]
  },
  {
   "cell_type": "markdown",
   "metadata": {
    "hidden": true
   },
   "source": [
    "Criando um novo dataframe, porém agora com as datas como index:"
   ]
  },
  {
   "cell_type": "code",
   "execution_count": 95,
   "metadata": {
    "ExecuteTime": {
     "end_time": "2021-08-14T16:51:44.597134Z",
     "start_time": "2021-08-14T16:51:44.365609Z"
    },
    "hidden": true
   },
   "outputs": [
    {
     "data": {
      "text/html": [
       "<div>\n",
       "<style scoped>\n",
       "    .dataframe tbody tr th:only-of-type {\n",
       "        vertical-align: middle;\n",
       "    }\n",
       "\n",
       "    .dataframe tbody tr th {\n",
       "        vertical-align: top;\n",
       "    }\n",
       "\n",
       "    .dataframe thead th {\n",
       "        text-align: right;\n",
       "    }\n",
       "</style>\n",
       "<table border=\"1\" class=\"dataframe\">\n",
       "  <thead>\n",
       "    <tr style=\"text-align: right;\">\n",
       "      <th></th>\n",
       "      <th>cliente</th>\n",
       "      <th>cpf_cnpj</th>\n",
       "      <th>uf</th>\n",
       "      <th>municipio</th>\n",
       "      <th>municipio_codigo</th>\n",
       "      <th>valor_da_operacao_em_reais</th>\n",
       "      <th>valor_desembolsado_reais</th>\n",
       "      <th>fonte_de_recurso_desembolsos</th>\n",
       "      <th>custo_financeiro</th>\n",
       "      <th>juros</th>\n",
       "      <th>...</th>\n",
       "      <th>subsetor_cnae_agrupado</th>\n",
       "      <th>subsetor_cnae_codigo</th>\n",
       "      <th>subsetor_cnae_nome</th>\n",
       "      <th>setor_bndes</th>\n",
       "      <th>subsetor_bndes</th>\n",
       "      <th>porte_do_cliente</th>\n",
       "      <th>natureza_do_cliente</th>\n",
       "      <th>instituicao_financeira_credenciada</th>\n",
       "      <th>cnpj_do_agente_financeiro</th>\n",
       "      <th>situacao_da_operacao</th>\n",
       "    </tr>\n",
       "    <tr>\n",
       "      <th>data_da_contratacao</th>\n",
       "      <th></th>\n",
       "      <th></th>\n",
       "      <th></th>\n",
       "      <th></th>\n",
       "      <th></th>\n",
       "      <th></th>\n",
       "      <th></th>\n",
       "      <th></th>\n",
       "      <th></th>\n",
       "      <th></th>\n",
       "      <th></th>\n",
       "      <th></th>\n",
       "      <th></th>\n",
       "      <th></th>\n",
       "      <th></th>\n",
       "      <th></th>\n",
       "      <th></th>\n",
       "      <th></th>\n",
       "      <th></th>\n",
       "      <th></th>\n",
       "      <th></th>\n",
       "    </tr>\n",
       "  </thead>\n",
       "  <tbody>\n",
       "    <tr>\n",
       "      <th>2002-01-02</th>\n",
       "      <td>BANCO COOPERATIVO SICOOB S.A.</td>\n",
       "      <td>**.*38.232/0001-**</td>\n",
       "      <td>SP</td>\n",
       "      <td>PEDREGULHO</td>\n",
       "      <td>3537008</td>\n",
       "      <td>16000</td>\n",
       "      <td>16000,0</td>\n",
       "      <td>RECURSOS LIVRES - TESOURO</td>\n",
       "      <td>TAXA FIXA</td>\n",
       "      <td>8,75</td>\n",
       "      <td>...</td>\n",
       "      <td>Agropecuária</td>\n",
       "      <td>A0119900</td>\n",
       "      <td>CULT PLANTAS LAVOURA TEMPORARIA NAO ESPECIFICA...</td>\n",
       "      <td>AGROPECUÁRIA</td>\n",
       "      <td>AGROPECUÁRIA</td>\n",
       "      <td>MICRO</td>\n",
       "      <td>PRIVADA</td>\n",
       "      <td>BANCO COOPERATIVO SICOOB S.A.</td>\n",
       "      <td>02.038.232.0001-64</td>\n",
       "      <td>LIQUIDADA</td>\n",
       "    </tr>\n",
       "    <tr>\n",
       "      <th>2002-01-02</th>\n",
       "      <td>BANCO REGIONAL DE DESENVOLVIMENTO DO EXTREMO SUL</td>\n",
       "      <td>**.*16.560/0001-**</td>\n",
       "      <td>RS</td>\n",
       "      <td>TRES DE MAIO</td>\n",
       "      <td>4321808</td>\n",
       "      <td>8047</td>\n",
       "      <td>8047,0</td>\n",
       "      <td>RECURSOS VINCULADOS - FAT DEPÓSITOS ESPECIAIS</td>\n",
       "      <td>TAXA FIXA</td>\n",
       "      <td>4,0</td>\n",
       "      <td>...</td>\n",
       "      <td>Agropecuária</td>\n",
       "      <td>A0100000</td>\n",
       "      <td>AGRICULTURA, PECUARIA E SERVICOS RELACIONADOS</td>\n",
       "      <td>AGROPECUÁRIA</td>\n",
       "      <td>AGROPECUÁRIA</td>\n",
       "      <td>MICRO</td>\n",
       "      <td>PRIVADA</td>\n",
       "      <td>BANCO REGIONAL DE DESENVOLVIMENTO DO EXTREMO SUL</td>\n",
       "      <td>92.816.560.0001-37</td>\n",
       "      <td>LIQUIDADA</td>\n",
       "    </tr>\n",
       "    <tr>\n",
       "      <th>2002-01-02</th>\n",
       "      <td>BANCO REGIONAL DE DESENVOLVIMENTO DO EXTREMO SUL</td>\n",
       "      <td>**.*16.560/0001-**</td>\n",
       "      <td>RS</td>\n",
       "      <td>ERECHIM</td>\n",
       "      <td>4307005</td>\n",
       "      <td>8104</td>\n",
       "      <td>8104,0</td>\n",
       "      <td>RECURSOS VINCULADOS - FAT DEPÓSITOS ESPECIAIS</td>\n",
       "      <td>TAXA FIXA</td>\n",
       "      <td>4,0</td>\n",
       "      <td>...</td>\n",
       "      <td>Agropecuária</td>\n",
       "      <td>A0100000</td>\n",
       "      <td>AGRICULTURA, PECUARIA E SERVICOS RELACIONADOS</td>\n",
       "      <td>AGROPECUÁRIA</td>\n",
       "      <td>AGROPECUÁRIA</td>\n",
       "      <td>MICRO</td>\n",
       "      <td>PRIVADA</td>\n",
       "      <td>BANCO REGIONAL DE DESENVOLVIMENTO DO EXTREMO SUL</td>\n",
       "      <td>92.816.560.0001-37</td>\n",
       "      <td>LIQUIDADA</td>\n",
       "    </tr>\n",
       "  </tbody>\n",
       "</table>\n",
       "<p>3 rows × 29 columns</p>\n",
       "</div>"
      ],
      "text/plain": [
       "                                                              cliente  \\\n",
       "data_da_contratacao                                                     \n",
       "2002-01-02                              BANCO COOPERATIVO SICOOB S.A.   \n",
       "2002-01-02           BANCO REGIONAL DE DESENVOLVIMENTO DO EXTREMO SUL   \n",
       "2002-01-02           BANCO REGIONAL DE DESENVOLVIMENTO DO EXTREMO SUL   \n",
       "\n",
       "                               cpf_cnpj   uf     municipio  municipio_codigo  \\\n",
       "data_da_contratacao                                                            \n",
       "2002-01-02           **.*38.232/0001-**   SP    PEDREGULHO           3537008   \n",
       "2002-01-02           **.*16.560/0001-**   RS  TRES DE MAIO           4321808   \n",
       "2002-01-02           **.*16.560/0001-**   RS       ERECHIM           4307005   \n",
       "\n",
       "                     valor_da_operacao_em_reais valor_desembolsado_reais  \\\n",
       "data_da_contratacao                                                        \n",
       "2002-01-02                                16000                  16000,0   \n",
       "2002-01-02                                 8047                   8047,0   \n",
       "2002-01-02                                 8104                   8104,0   \n",
       "\n",
       "                                      fonte_de_recurso_desembolsos  \\\n",
       "data_da_contratacao                                                  \n",
       "2002-01-02                               RECURSOS LIVRES - TESOURO   \n",
       "2002-01-02           RECURSOS VINCULADOS - FAT DEPÓSITOS ESPECIAIS   \n",
       "2002-01-02           RECURSOS VINCULADOS - FAT DEPÓSITOS ESPECIAIS   \n",
       "\n",
       "                    custo_financeiro juros  ...  subsetor_cnae_agrupado  \\\n",
       "data_da_contratacao                         ...                           \n",
       "2002-01-02                 TAXA FIXA  8,75  ...            Agropecuária   \n",
       "2002-01-02                 TAXA FIXA   4,0  ...            Agropecuária   \n",
       "2002-01-02                 TAXA FIXA   4,0  ...            Agropecuária   \n",
       "\n",
       "                     subsetor_cnae_codigo  \\\n",
       "data_da_contratacao                         \n",
       "2002-01-02                       A0119900   \n",
       "2002-01-02                       A0100000   \n",
       "2002-01-02                       A0100000   \n",
       "\n",
       "                                                    subsetor_cnae_nome  \\\n",
       "data_da_contratacao                                                      \n",
       "2002-01-02           CULT PLANTAS LAVOURA TEMPORARIA NAO ESPECIFICA...   \n",
       "2002-01-02               AGRICULTURA, PECUARIA E SERVICOS RELACIONADOS   \n",
       "2002-01-02               AGRICULTURA, PECUARIA E SERVICOS RELACIONADOS   \n",
       "\n",
       "                      setor_bndes subsetor_bndes porte_do_cliente  \\\n",
       "data_da_contratacao                                                 \n",
       "2002-01-02           AGROPECUÁRIA   AGROPECUÁRIA            MICRO   \n",
       "2002-01-02           AGROPECUÁRIA   AGROPECUÁRIA            MICRO   \n",
       "2002-01-02           AGROPECUÁRIA   AGROPECUÁRIA            MICRO   \n",
       "\n",
       "                    natureza_do_cliente  \\\n",
       "data_da_contratacao                       \n",
       "2002-01-02                      PRIVADA   \n",
       "2002-01-02                      PRIVADA   \n",
       "2002-01-02                      PRIVADA   \n",
       "\n",
       "                                   instituicao_financeira_credenciada  \\\n",
       "data_da_contratacao                                                     \n",
       "2002-01-02                              BANCO COOPERATIVO SICOOB S.A.   \n",
       "2002-01-02           BANCO REGIONAL DE DESENVOLVIMENTO DO EXTREMO SUL   \n",
       "2002-01-02           BANCO REGIONAL DE DESENVOLVIMENTO DO EXTREMO SUL   \n",
       "\n",
       "                    cnpj_do_agente_financeiro situacao_da_operacao  \n",
       "data_da_contratacao                                                 \n",
       "2002-01-02                 02.038.232.0001-64            LIQUIDADA  \n",
       "2002-01-02                 92.816.560.0001-37            LIQUIDADA  \n",
       "2002-01-02                 92.816.560.0001-37            LIQUIDADA  \n",
       "\n",
       "[3 rows x 29 columns]"
      ]
     },
     "execution_count": 95,
     "metadata": {},
     "output_type": "execute_result"
    }
   ],
   "source": [
    "df_date_as_index = df.set_index('data_da_contratacao')\n",
    "df_date_as_index.head(3)"
   ]
  },
  {
   "cell_type": "markdown",
   "metadata": {
    "hidden": true
   },
   "source": [
    "Poderíamos ter condensado tudo em uma única linha: importação e setando datas como index:\n",
    "\n",
    "- df_date_as_index = pd.read_csv('C:/Users/pfaprado/Documents/GitHub/bndes/operacoes-financiamento-operacoes-indiretas-automaticas.csv', index_col=0, parse_dates=True)"
   ]
  },
  {
   "cell_type": "markdown",
   "metadata": {
    "hidden": true
   },
   "source": [
    "Vamos criar agora novas colunas, utilizando as propriedades de DatetimeIndex do index temporal:"
   ]
  },
  {
   "cell_type": "code",
   "execution_count": 96,
   "metadata": {
    "ExecuteTime": {
     "end_time": "2021-08-14T16:51:47.963300Z",
     "start_time": "2021-08-14T16:51:47.923301Z"
    },
    "hidden": true
   },
   "outputs": [
    {
     "data": {
      "text/plain": [
       "DatetimeIndex(['2002-01-02', '2002-01-02', '2002-01-02', '2002-01-02',\n",
       "               '2002-01-02', '2002-01-02', '2002-01-02', '2002-01-02',\n",
       "               '2002-01-02', '2002-01-02',\n",
       "               ...\n",
       "               '2021-05-31', '2021-05-31', '2021-05-31', '2021-05-31',\n",
       "               '2021-05-31', '2021-05-31', '2021-05-31', '2021-05-31',\n",
       "               '2021-05-31', '2021-05-31'],\n",
       "              dtype='datetime64[ns]', name='data_da_contratacao', length=2083363, freq=None)"
      ]
     },
     "execution_count": 96,
     "metadata": {},
     "output_type": "execute_result"
    }
   ],
   "source": [
    "df_date_as_index.index"
   ]
  },
  {
   "cell_type": "code",
   "execution_count": 109,
   "metadata": {
    "ExecuteTime": {
     "end_time": "2021-08-14T16:56:47.177704Z",
     "start_time": "2021-08-14T16:56:46.499661Z"
    },
    "hidden": true
   },
   "outputs": [],
   "source": [
    "df_date_as_index['ano'] = df_date_as_index.index.year\n",
    "df_date_as_index['mes'] = df_date_as_index.index.month\n",
    "df_date_as_index['dia'] = df_date_as_index.index.day\n",
    "df_date_as_index['dia_nome'] = df_date_as_index.index.dayofweek"
   ]
  },
  {
   "cell_type": "markdown",
   "metadata": {
    "hidden": true
   },
   "source": [
    "Tirando uma amostra aleatória do dataframe:"
   ]
  },
  {
   "cell_type": "code",
   "execution_count": 110,
   "metadata": {
    "ExecuteTime": {
     "end_time": "2021-08-14T16:56:48.944662Z",
     "start_time": "2021-08-14T16:56:48.739662Z"
    },
    "hidden": true
   },
   "outputs": [
    {
     "data": {
      "text/html": [
       "<div>\n",
       "<style scoped>\n",
       "    .dataframe tbody tr th:only-of-type {\n",
       "        vertical-align: middle;\n",
       "    }\n",
       "\n",
       "    .dataframe tbody tr th {\n",
       "        vertical-align: top;\n",
       "    }\n",
       "\n",
       "    .dataframe thead th {\n",
       "        text-align: right;\n",
       "    }\n",
       "</style>\n",
       "<table border=\"1\" class=\"dataframe\">\n",
       "  <thead>\n",
       "    <tr style=\"text-align: right;\">\n",
       "      <th></th>\n",
       "      <th>cliente</th>\n",
       "      <th>cpf_cnpj</th>\n",
       "      <th>uf</th>\n",
       "      <th>municipio</th>\n",
       "      <th>municipio_codigo</th>\n",
       "      <th>valor_da_operacao_em_reais</th>\n",
       "      <th>valor_desembolsado_reais</th>\n",
       "      <th>fonte_de_recurso_desembolsos</th>\n",
       "      <th>custo_financeiro</th>\n",
       "      <th>juros</th>\n",
       "      <th>...</th>\n",
       "      <th>subsetor_bndes</th>\n",
       "      <th>porte_do_cliente</th>\n",
       "      <th>natureza_do_cliente</th>\n",
       "      <th>instituicao_financeira_credenciada</th>\n",
       "      <th>cnpj_do_agente_financeiro</th>\n",
       "      <th>situacao_da_operacao</th>\n",
       "      <th>ano</th>\n",
       "      <th>mes</th>\n",
       "      <th>dia_nome</th>\n",
       "      <th>dia</th>\n",
       "    </tr>\n",
       "    <tr>\n",
       "      <th>data_da_contratacao</th>\n",
       "      <th></th>\n",
       "      <th></th>\n",
       "      <th></th>\n",
       "      <th></th>\n",
       "      <th></th>\n",
       "      <th></th>\n",
       "      <th></th>\n",
       "      <th></th>\n",
       "      <th></th>\n",
       "      <th></th>\n",
       "      <th></th>\n",
       "      <th></th>\n",
       "      <th></th>\n",
       "      <th></th>\n",
       "      <th></th>\n",
       "      <th></th>\n",
       "      <th></th>\n",
       "      <th></th>\n",
       "      <th></th>\n",
       "      <th></th>\n",
       "      <th></th>\n",
       "    </tr>\n",
       "  </thead>\n",
       "  <tbody>\n",
       "    <tr>\n",
       "      <th>2012-06-22</th>\n",
       "      <td>AUTO POSTO TRADICAO LTDA</td>\n",
       "      <td>**.*15.352/0001-**</td>\n",
       "      <td>MG</td>\n",
       "      <td>MURIAE</td>\n",
       "      <td>3143906</td>\n",
       "      <td>61338</td>\n",
       "      <td>61338,0</td>\n",
       "      <td>RECURSOS LIVRES - TESOURO</td>\n",
       "      <td>TAXA FIXA</td>\n",
       "      <td>5,5</td>\n",
       "      <td>...</td>\n",
       "      <td>COMÉRCIO E SERVIÇOS</td>\n",
       "      <td>MICRO</td>\n",
       "      <td>PRIVADA</td>\n",
       "      <td>ITAU UNIBANCO S.A.</td>\n",
       "      <td>60.701.190.0001-04</td>\n",
       "      <td>LIQUIDADA</td>\n",
       "      <td>2012</td>\n",
       "      <td>6</td>\n",
       "      <td>4</td>\n",
       "      <td>22</td>\n",
       "    </tr>\n",
       "    <tr>\n",
       "      <th>2006-11-29</th>\n",
       "      <td>BANCO BRADESCO S.A.</td>\n",
       "      <td>**.*46.948/0001-**</td>\n",
       "      <td>GO</td>\n",
       "      <td>MARA ROSA</td>\n",
       "      <td>5212808</td>\n",
       "      <td>153000</td>\n",
       "      <td>153000,0</td>\n",
       "      <td>RECURSOS LIVRES - TESOURO</td>\n",
       "      <td>TAXA FIXA</td>\n",
       "      <td>8,75</td>\n",
       "      <td>...</td>\n",
       "      <td>AGROPECUÁRIA</td>\n",
       "      <td>MICRO</td>\n",
       "      <td>PRIVADA</td>\n",
       "      <td>BANCO BRADESCO S.A.</td>\n",
       "      <td>60.746.948.0001-12</td>\n",
       "      <td>LIQUIDADA</td>\n",
       "      <td>2006</td>\n",
       "      <td>11</td>\n",
       "      <td>2</td>\n",
       "      <td>29</td>\n",
       "    </tr>\n",
       "    <tr>\n",
       "      <th>2004-06-29</th>\n",
       "      <td>BANCO DO BRASIL SA</td>\n",
       "      <td>**.*00.000/0001-**</td>\n",
       "      <td>SC</td>\n",
       "      <td>POUSO REDONDO</td>\n",
       "      <td>4213708</td>\n",
       "      <td>220</td>\n",
       "      <td>220,0</td>\n",
       "      <td>RECURSOS LIVRES - TESOURO</td>\n",
       "      <td>TAXA FIXA</td>\n",
       "      <td>8,75</td>\n",
       "      <td>...</td>\n",
       "      <td>AGROPECUÁRIA</td>\n",
       "      <td>MICRO</td>\n",
       "      <td>PRIVADA</td>\n",
       "      <td>BANCO DO BRASIL SA</td>\n",
       "      <td>00.000.000.0001-91</td>\n",
       "      <td>LIQUIDADA</td>\n",
       "      <td>2004</td>\n",
       "      <td>6</td>\n",
       "      <td>1</td>\n",
       "      <td>29</td>\n",
       "    </tr>\n",
       "    <tr>\n",
       "      <th>2011-07-05</th>\n",
       "      <td>RONILDO FRIZZO  ME</td>\n",
       "      <td>**.*85.523/0001-**</td>\n",
       "      <td>RS</td>\n",
       "      <td>PLANALTO</td>\n",
       "      <td>4314704</td>\n",
       "      <td>620000</td>\n",
       "      <td>620000,0</td>\n",
       "      <td>RECURSOS LIVRES - TESOURO</td>\n",
       "      <td>TJ462</td>\n",
       "      <td>8,5</td>\n",
       "      <td>...</td>\n",
       "      <td>ALIMENTO E BEBIDA</td>\n",
       "      <td>PEQUENA</td>\n",
       "      <td>PRIVADA</td>\n",
       "      <td>CAIXA ECONOMICA FEDERAL</td>\n",
       "      <td>00.360.305.0001-04</td>\n",
       "      <td>LIQUIDADA</td>\n",
       "      <td>2011</td>\n",
       "      <td>7</td>\n",
       "      <td>1</td>\n",
       "      <td>5</td>\n",
       "    </tr>\n",
       "    <tr>\n",
       "      <th>2003-06-12</th>\n",
       "      <td>CAFE BOM JESUS INDUSTRIA COMERCIO E AGROPECUAR...</td>\n",
       "      <td>**.*29.058/0001-**</td>\n",
       "      <td>RS</td>\n",
       "      <td>CAXIAS DO SUL</td>\n",
       "      <td>4305108</td>\n",
       "      <td>38400</td>\n",
       "      <td>38400,0</td>\n",
       "      <td>RECURSOS LIVRES - PRÓPRIOS</td>\n",
       "      <td>TJLP</td>\n",
       "      <td>6,0</td>\n",
       "      <td>...</td>\n",
       "      <td>ALIMENTO E BEBIDA</td>\n",
       "      <td>MÉDIA</td>\n",
       "      <td>PRIVADA</td>\n",
       "      <td>BANCO SAFRA S A</td>\n",
       "      <td>58.160.789.0001-28</td>\n",
       "      <td>LIQUIDADA</td>\n",
       "      <td>2003</td>\n",
       "      <td>6</td>\n",
       "      <td>3</td>\n",
       "      <td>12</td>\n",
       "    </tr>\n",
       "  </tbody>\n",
       "</table>\n",
       "<p>5 rows × 33 columns</p>\n",
       "</div>"
      ],
      "text/plain": [
       "                                                               cliente  \\\n",
       "data_da_contratacao                                                      \n",
       "2012-06-22                                    AUTO POSTO TRADICAO LTDA   \n",
       "2006-11-29                                         BANCO BRADESCO S.A.   \n",
       "2004-06-29                                          BANCO DO BRASIL SA   \n",
       "2011-07-05                                          RONILDO FRIZZO  ME   \n",
       "2003-06-12           CAFE BOM JESUS INDUSTRIA COMERCIO E AGROPECUAR...   \n",
       "\n",
       "                               cpf_cnpj   uf      municipio  municipio_codigo  \\\n",
       "data_da_contratacao                                                             \n",
       "2012-06-22           **.*15.352/0001-**   MG         MURIAE           3143906   \n",
       "2006-11-29           **.*46.948/0001-**   GO      MARA ROSA           5212808   \n",
       "2004-06-29           **.*00.000/0001-**   SC  POUSO REDONDO           4213708   \n",
       "2011-07-05           **.*85.523/0001-**   RS       PLANALTO           4314704   \n",
       "2003-06-12           **.*29.058/0001-**   RS  CAXIAS DO SUL           4305108   \n",
       "\n",
       "                     valor_da_operacao_em_reais valor_desembolsado_reais  \\\n",
       "data_da_contratacao                                                        \n",
       "2012-06-22                                61338                  61338,0   \n",
       "2006-11-29                               153000                 153000,0   \n",
       "2004-06-29                                  220                    220,0   \n",
       "2011-07-05                               620000                 620000,0   \n",
       "2003-06-12                                38400                  38400,0   \n",
       "\n",
       "                    fonte_de_recurso_desembolsos custo_financeiro juros  ...  \\\n",
       "data_da_contratacao                                                      ...   \n",
       "2012-06-22             RECURSOS LIVRES - TESOURO        TAXA FIXA   5,5  ...   \n",
       "2006-11-29             RECURSOS LIVRES - TESOURO        TAXA FIXA  8,75  ...   \n",
       "2004-06-29             RECURSOS LIVRES - TESOURO        TAXA FIXA  8,75  ...   \n",
       "2011-07-05             RECURSOS LIVRES - TESOURO            TJ462   8,5  ...   \n",
       "2003-06-12            RECURSOS LIVRES - PRÓPRIOS             TJLP   6,0  ...   \n",
       "\n",
       "                          subsetor_bndes  porte_do_cliente  \\\n",
       "data_da_contratacao                                          \n",
       "2012-06-22           COMÉRCIO E SERVIÇOS             MICRO   \n",
       "2006-11-29                  AGROPECUÁRIA             MICRO   \n",
       "2004-06-29                  AGROPECUÁRIA             MICRO   \n",
       "2011-07-05             ALIMENTO E BEBIDA           PEQUENA   \n",
       "2003-06-12             ALIMENTO E BEBIDA             MÉDIA   \n",
       "\n",
       "                    natureza_do_cliente instituicao_financeira_credenciada  \\\n",
       "data_da_contratacao                                                          \n",
       "2012-06-22                      PRIVADA                 ITAU UNIBANCO S.A.   \n",
       "2006-11-29                      PRIVADA                BANCO BRADESCO S.A.   \n",
       "2004-06-29                      PRIVADA                 BANCO DO BRASIL SA   \n",
       "2011-07-05                      PRIVADA            CAIXA ECONOMICA FEDERAL   \n",
       "2003-06-12                      PRIVADA                    BANCO SAFRA S A   \n",
       "\n",
       "                    cnpj_do_agente_financeiro situacao_da_operacao   ano mes  \\\n",
       "data_da_contratacao                                                            \n",
       "2012-06-22                 60.701.190.0001-04            LIQUIDADA  2012   6   \n",
       "2006-11-29                 60.746.948.0001-12            LIQUIDADA  2006  11   \n",
       "2004-06-29                 00.000.000.0001-91            LIQUIDADA  2004   6   \n",
       "2011-07-05                 00.360.305.0001-04            LIQUIDADA  2011   7   \n",
       "2003-06-12                 58.160.789.0001-28            LIQUIDADA  2003   6   \n",
       "\n",
       "                    dia_nome dia  \n",
       "data_da_contratacao               \n",
       "2012-06-22                 4  22  \n",
       "2006-11-29                 2  29  \n",
       "2004-06-29                 1  29  \n",
       "2011-07-05                 1   5  \n",
       "2003-06-12                 3  12  \n",
       "\n",
       "[5 rows x 33 columns]"
      ]
     },
     "execution_count": 110,
     "metadata": {},
     "output_type": "execute_result"
    }
   ],
   "source": [
    "df_date_as_index.sample(5, random_state=0)"
   ]
  },
  {
   "cell_type": "markdown",
   "metadata": {
    "heading_collapsed": true,
    "hidden": true
   },
   "source": [
    "### Time series de operações"
   ]
  },
  {
   "cell_type": "markdown",
   "metadata": {
    "hidden": true
   },
   "source": [
    "Agrupando por ano através de soma dos valores da operação em reais:"
   ]
  },
  {
   "cell_type": "code",
   "execution_count": 123,
   "metadata": {
    "ExecuteTime": {
     "end_time": "2021-08-14T17:05:44.928387Z",
     "start_time": "2021-08-14T17:05:44.180812Z"
    },
    "hidden": true
   },
   "outputs": [
    {
     "data": {
      "text/plain": [
       "ano\n",
       "2002     6802296993\n",
       "2003     8920773959\n",
       "2004    10603227830\n",
       "2005    13837237795\n",
       "2006    14820484386\n",
       "2007    24370683170\n",
       "2008    29047780879\n",
       "2009    39451829609\n",
       "2010    61515299049\n",
       "2011    51523181330\n",
       "2012    63917154352\n",
       "2013    69995748682\n",
       "2014    60929130817\n",
       "2015    23258542666\n",
       "2016    17052468229\n",
       "2017    21933268641\n",
       "2018    17414814443\n",
       "2019    11195649964\n",
       "2020    16892284014\n",
       "2021     5935994190\n",
       "Name: valor_da_operacao_em_reais, dtype: int64"
      ]
     },
     "execution_count": 123,
     "metadata": {},
     "output_type": "execute_result"
    }
   ],
   "source": [
    "df_date_as_index.groupby(by='ano').aggregate(np.sum).loc[:,'valor_da_operacao_em_reais']"
   ]
  },
  {
   "cell_type": "code",
   "execution_count": 124,
   "metadata": {
    "ExecuteTime": {
     "end_time": "2021-08-14T17:06:07.333235Z",
     "start_time": "2021-08-14T17:06:06.348232Z"
    },
    "hidden": true
   },
   "outputs": [
    {
     "data": {
      "image/png": "[encoded data removed]",
      "text/plain": [
       "<Figure size 792x288 with 1 Axes>"
      ]
     },
     "metadata": {},
     "output_type": "display_data"
    }
   ],
   "source": [
    "df_date_as_index.groupby(by='ano').aggregate(np.sum).loc[:,'valor_da_operacao_em_reais'].plot(linewidth=0.5);"
   ]
  },
  {
   "cell_type": "code",
   "execution_count": 158,
   "metadata": {
    "ExecuteTime": {
     "end_time": "2021-08-14T17:24:28.004469Z",
     "start_time": "2021-08-14T17:24:27.227471Z"
    },
    "code_folding": [
     1
    ],
    "hidden": true
   },
   "outputs": [
    {
     "name": "stdout",
     "output_type": "stream",
     "text": [
      "\n",
      "      O pico dos investimentos foi de aproximadamente\n",
      "      70\n",
      "      bilhões de reais\n",
      "      em 2013.\n",
      "      \n"
     ]
    }
   ],
   "source": [
    "#Analisando o pico de investimentos ao longo dos anos:\n",
    "print(f\"\"\"\n",
    "      O pico dos investimentos foi de aproximadamente\n",
    "      {(df_date_as_index.groupby(by='ano').aggregate(np.sum).loc[:,'valor_da_operacao_em_reais'].max()/1000000000):.0f}\n",
    "      bilhões de reais\n",
    "      em 2013.\n",
    "      \"\"\")"
   ]
  },
  {
   "cell_type": "markdown",
   "metadata": {
    "hidden": true
   },
   "source": [
    "### Tendência e sazonalidade"
   ]
  },
  {
   "cell_type": "markdown",
   "metadata": {
    "heading_collapsed": true,
    "hidden": true
   },
   "source": [
    "#### Geral"
   ]
  },
  {
   "cell_type": "code",
   "execution_count": 179,
   "metadata": {
    "ExecuteTime": {
     "end_time": "2021-08-14T19:59:45.138468Z",
     "start_time": "2021-08-14T19:59:43.173452Z"
    },
    "code_folding": [
     0
    ],
    "hidden": true
   },
   "outputs": [
    {
     "data": {
      "image/png": "[encoded data removed]",
      "text/plain": [
       "<Figure size 1600x560 with 2 Axes>"
      ]
     },
     "metadata": {},
     "output_type": "display_data"
    }
   ],
   "source": [
    "# Draw Plot\n",
    "fig, axes = plt.subplots(1, 2, figsize=(20,7), dpi= 80)\n",
    "sns.boxplot(x='ano', y='valor_da_operacao_em_reais', data=df_date_as_index, ax=axes[0], showfliers = False)\n",
    "sns.boxplot(x='mes', y='valor_da_operacao_em_reais', data=df_date_as_index, showfliers = False)\n",
    "\n",
    "# Set Title\n",
    "axes[0].set_title('Box Plot Anual\\n(Tendência)', fontsize=18); \n",
    "axes[1].set_title('Box Plot Mensal\\n(Sazonalidade)', fontsize=18)\n",
    "plt.show()"
   ]
  },
  {
   "cell_type": "markdown",
   "metadata": {
    "hidden": true
   },
   "source": [
    "No 1o gráfico, observada tendência de aumento dos investimentos conforme o avanço dos mandatos de governo. 2007 a 2010. 2011 a 2014. 2015-2018. De 2002 a 2007 houve um período de expansão dos investimentos. Observa-se desse gráfico grande variabilidade em 2021, o que pode ser explicado pela baixa quantidade de investimentos registrada até o momento."
   ]
  },
  {
   "cell_type": "markdown",
   "metadata": {
    "hidden": true
   },
   "source": [
    "Observando a composição desses investimentos em total de reais:"
   ]
  },
  {
   "cell_type": "code",
   "execution_count": 193,
   "metadata": {
    "ExecuteTime": {
     "end_time": "2021-08-14T20:22:14.823412Z",
     "start_time": "2021-08-14T20:22:14.817426Z"
    },
    "hidden": true
   },
   "outputs": [
    {
     "data": {
      "text/plain": [
       "Index(['cliente', 'cpf_cnpj', 'uf', 'municipio', 'municipio_codigo',\n",
       "       'data_da_contratacao', 'valor_da_operacao_em_reais',\n",
       "       'valor_desembolsado_reais', 'fonte_de_recurso_desembolsos',\n",
       "       'custo_financeiro', 'juros', 'prazo_carencia_meses',\n",
       "       'prazo_amortizacao_meses', 'modalidade_de_apoio', 'forma_de_apoio',\n",
       "       'produto', 'instrumento_financeiro', 'inovacao', 'area_operacional',\n",
       "       'setor_cnae', 'subsetor_cnae_agrupado', 'subsetor_cnae_codigo',\n",
       "       'subsetor_cnae_nome', 'setor_bndes', 'subsetor_bndes',\n",
       "       'porte_do_cliente', 'natureza_do_cliente',\n",
       "       'instituicao_financeira_credenciada', 'cnpj_do_agente_financeiro',\n",
       "       'situacao_da_operacao'],\n",
       "      dtype='object')"
      ]
     },
     "execution_count": 193,
     "metadata": {},
     "output_type": "execute_result"
    }
   ],
   "source": [
    "df.columns"
   ]
  },
  {
   "cell_type": "code",
   "execution_count": 205,
   "metadata": {
    "ExecuteTime": {
     "end_time": "2021-08-14T20:37:27.277590Z",
     "start_time": "2021-08-14T20:37:25.706579Z"
    },
    "hidden": true
   },
   "outputs": [
    {
     "data": {
      "text/plain": [
       "<AxesSubplot:xlabel='ano'>"
      ]
     },
     "execution_count": 205,
     "metadata": {},
     "output_type": "execute_result"
    },
    {
     "data": {
      "image/png": "[encoded data removed]",
      "text/plain": [
       "<Figure size 1600x560 with 2 Axes>"
      ]
     },
     "metadata": {},
     "output_type": "display_data"
    }
   ],
   "source": [
    "fig, axes = plt.subplots(1, 2, figsize=(20,7), dpi= 80)\n",
    "\n",
    "investimentos_anuais_stacked = df_date_as_index.groupby(['ano','porte_do_cliente'])['ano'].sum().unstack('porte_do_cliente')\n",
    "investimentos_anuais_stacked.plot(kind='bar', stacked=True, ax=axes[0])\n",
    "investimentos_anuais_stacked = df_date_as_index.groupby(['ano','setor_bndes'])['ano'].sum().unstack('setor_bndes')\n",
    "investimentos_anuais_stacked.plot(kind='bar', stacked=True, ax=axes[1])"
   ]
  },
  {
   "cell_type": "markdown",
   "metadata": {
    "hidden": true
   },
   "source": [
    "Por porte de cliente, de 2002 a 2014 as micro empresas sempre foram o alvo em volume de investimentos, com crescimento das pequenas e médias. A partir de 2015 o volume diminuiu consideravelmente para as pequenas/médias/micro empresas, e passou a ser mais uniforme entre os portes.\n",
    "\n",
    "Agropecuária desaparece quase, infraestrutura aumenta por um tempo porém diminui novamente. Comércio cresce e se mantém líder dos investimentos.\n"
   ]
  },
  {
   "cell_type": "markdown",
   "metadata": {
    "heading_collapsed": true,
    "hidden": true
   },
   "source": [
    "#### Porte do cliente"
   ]
  },
  {
   "cell_type": "code",
   "execution_count": 264,
   "metadata": {
    "ExecuteTime": {
     "end_time": "2021-08-14T21:41:36.717620Z",
     "start_time": "2021-08-14T21:41:36.405620Z"
    },
    "hidden": true
   },
   "outputs": [],
   "source": [
    "#Criando um crosstab para plotar um stacked bar percentual.\n",
    "cross_ano_porte = pd.crosstab(df_date_as_index['ano'], df_date_as_index['porte_do_cliente'], values=df_date_as_index.valor_da_operacao_em_reais, aggfunc='sum', margins=False, normalize='index')\n",
    "cross_ano_porte.columns = ['MICRO', 'PEQUENA', 'MÉDIA', 'GRANDE']"
   ]
  },
  {
   "cell_type": "code",
   "execution_count": 265,
   "metadata": {
    "ExecuteTime": {
     "end_time": "2021-08-14T21:41:39.240888Z",
     "start_time": "2021-08-14T21:41:39.236903Z"
    },
    "hidden": true
   },
   "outputs": [],
   "source": [
    "#Copiando os indexes para criar uma coluna com os anos:\n",
    "cross_ano_porte['ano'] = cross_ano_porte.index"
   ]
  },
  {
   "cell_type": "code",
   "execution_count": 267,
   "metadata": {
    "ExecuteTime": {
     "end_time": "2021-08-14T21:42:10.868565Z",
     "start_time": "2021-08-14T21:42:10.317590Z"
    },
    "code_folding": [
     0
    ],
    "hidden": true
   },
   "outputs": [
    {
     "data": {
      "text/plain": [
       "<AxesSubplot:title={'center':'Stacked Bar Graph'}, xlabel='ano'>"
      ]
     },
     "execution_count": 267,
     "metadata": {},
     "output_type": "execute_result"
    },
    {
     "data": {
      "image/png": "[encoded data removed]",
      "text/plain": [
       "<Figure size 792x288 with 1 Axes>"
      ]
     },
     "metadata": {},
     "output_type": "display_data"
    }
   ],
   "source": [
    "cross_ano_porte.plot(\n",
    "    x = 'ano',\n",
    "    kind = 'bar',\n",
    "    stacked = True,\n",
    "    title = 'Stacked Bar Graph',\n",
    "    mark_right = True)"
   ]
  },
  {
   "cell_type": "markdown",
   "metadata": {
    "hidden": true
   },
   "source": [
    "Ao longo dos anos, as de porte MÉDIO tiveram maior participação em volume de investimentos. As empresas de porte PEQUENA tiveram menor participação a partir de 2017."
   ]
  },
  {
   "cell_type": "markdown",
   "metadata": {
    "heading_collapsed": true,
    "hidden": true
   },
   "source": [
    "#### Setor do BNDES"
   ]
  },
  {
   "cell_type": "code",
   "execution_count": 268,
   "metadata": {
    "ExecuteTime": {
     "end_time": "2021-08-14T21:47:54.542988Z",
     "start_time": "2021-08-14T21:47:54.181990Z"
    },
    "hidden": true
   },
   "outputs": [],
   "source": [
    "#Criando um crosstab para plotar um stacked bar percentual.\n",
    "cross_ano_setor = pd.crosstab(df_date_as_index['ano'], df_date_as_index['setor_bndes'], values=df_date_as_index.valor_da_operacao_em_reais, aggfunc='sum', margins=False, normalize='index')"
   ]
  },
  {
   "cell_type": "code",
   "execution_count": 269,
   "metadata": {
    "ExecuteTime": {
     "end_time": "2021-08-14T21:47:56.189974Z",
     "start_time": "2021-08-14T21:47:56.176974Z"
    },
    "hidden": true
   },
   "outputs": [],
   "source": [
    "#Copiando os indexes para criar uma coluna com os anos:\n",
    "cross_ano_setor['ano'] = cross_ano_setor.index"
   ]
  },
  {
   "cell_type": "code",
   "execution_count": 272,
   "metadata": {
    "ExecuteTime": {
     "end_time": "2021-08-14T21:51:06.666711Z",
     "start_time": "2021-08-14T21:51:06.119709Z"
    },
    "code_folding": [
     0
    ],
    "hidden": true
   },
   "outputs": [
    {
     "data": {
      "text/plain": [
       "<AxesSubplot:title={'center':'Stacked Bar Graph'}, xlabel='ano'>"
      ]
     },
     "execution_count": 272,
     "metadata": {},
     "output_type": "execute_result"
    },
    {
     "data": {
      "image/png": "[encoded data removed]",
      "text/plain": [
       "<Figure size 792x288 with 1 Axes>"
      ]
     },
     "metadata": {},
     "output_type": "display_data"
    }
   ],
   "source": [
    "#Plotar o stacked bar percentualmente.\n",
    "cross_ano_setor.plot(\n",
    "    x = 'ano',\n",
    "    kind = 'bar',\n",
    "    stacked = True,\n",
    "    title = 'Stacked Bar Graph',\n",
    "    mark_right = True)"
   ]
  },
  {
   "cell_type": "markdown",
   "metadata": {
    "hidden": true
   },
   "source": [
    "Percentualmente, a participação de INDUSTRIA e AGROPECUÁRIA diminuíram. COMERCIO/SERVIÇOS aumentou."
   ]
  },
  {
   "cell_type": "markdown",
   "metadata": {
    "hidden": true
   },
   "source": [
    "## Dataset: Stringency por COVID (Oxford)"
   ]
  },
  {
   "cell_type": "markdown",
   "metadata": {
    "heading_collapsed": true,
    "hidden": true
   },
   "source": [
    "### Tratamento dos dados"
   ]
  },
  {
   "cell_type": "markdown",
   "metadata": {
    "hidden": true
   },
   "source": [
    "API Covidtracker de Oxford (Fonte: https://covidtracker.bsg.ox.ac.uk/) foi utilizada para construir um time series do nível de stringency do Brasil desde o início da pandêmia. O Stringency Index é calculado com base em 7 indicadores de políticas públicas:\n",
    "- \"School closing\"\n",
    "- \"Workplace closing\"\n",
    "- \"Cancel public events\"\n",
    "- \"Restrictions on gathering size\"\n",
    "- \"Close public transport\"\n",
    "- \"Stay at home requirements\"\n",
    "- \"Restrictions on internal movement\"\n",
    "- \"Restrictions on international travel\"\n",
    "- \"Public information campaign\"."
   ]
  },
  {
   "cell_type": "code",
   "execution_count": 274,
   "metadata": {
    "ExecuteTime": {
     "end_time": "2021-08-14T21:56:51.244050Z",
     "start_time": "2021-08-14T21:56:07.333398Z"
    },
    "code_folding": [
     0
    ],
    "hidden": true
   },
   "outputs": [],
   "source": [
    "#Relizando a request:\n",
    "response = requests.get('https://covidtrackerapi.bsg.ox.ac.uk/api/v2/stringency/date-range/2020-01-02/2021-08-14')"
   ]
  },
  {
   "cell_type": "code",
   "execution_count": 275,
   "metadata": {
    "ExecuteTime": {
     "end_time": "2021-08-14T21:56:52.895307Z",
     "start_time": "2021-08-14T21:56:52.882291Z"
    },
    "code_folding": [
     0
    ],
    "hidden": true
   },
   "outputs": [
    {
     "data": {
      "text/plain": [
       "<Response [200]>"
      ]
     },
     "execution_count": 275,
     "metadata": {},
     "output_type": "execute_result"
    }
   ],
   "source": [
    "#Checando a resposta da API; Response 200: A API está retornando resposta.\n",
    "response"
   ]
  },
  {
   "cell_type": "code",
   "execution_count": 394,
   "metadata": {
    "ExecuteTime": {
     "end_time": "2021-08-14T23:25:29.720104Z",
     "start_time": "2021-08-14T23:25:29.397107Z"
    },
    "code_folding": [
     0
    ],
    "hidden": true
   },
   "outputs": [],
   "source": [
    "#O dicionário/json retornado para o período escolhido:\n",
    "results = response.json()"
   ]
  },
  {
   "cell_type": "code",
   "execution_count": 311,
   "metadata": {
    "ExecuteTime": {
     "end_time": "2021-08-14T22:27:28.307869Z",
     "start_time": "2021-08-14T22:27:28.290870Z"
    },
    "code_folding": [
     0
    ],
    "hidden": true
   },
   "outputs": [
    {
     "data": {
      "text/plain": [
       "datetime.date(2021, 8, 14)"
      ]
     },
     "execution_count": 311,
     "metadata": {},
     "output_type": "execute_result"
    }
   ],
   "source": [
    "#Extraindo o dia de hoje:\n",
    "import datetime\n",
    "today = pd.to_datetime(\"today\")\n",
    "hoje = today.date()\n",
    "hoje"
   ]
  },
  {
   "cell_type": "code",
   "execution_count": 345,
   "metadata": {
    "ExecuteTime": {
     "end_time": "2021-08-14T23:02:31.311109Z",
     "start_time": "2021-08-14T23:02:31.305108Z"
    },
    "code_folding": [
     0
    ],
    "hidden": true
   },
   "outputs": [],
   "source": [
    "#Função para criar lista de dias desde 01-01-2020:\n",
    "dia_teste = hoje\n",
    "lista_dias_total = []\n",
    "dia_corte = pd.to_datetime('2020-01-01').date()\n",
    "\n",
    "while dia_teste > dia_corte:\n",
    "    dia_teste = dia_teste-datetime.timedelta(days=1)\n",
    "    lista_dias_total.append(dia_teste)"
   ]
  },
  {
   "cell_type": "code",
   "execution_count": 347,
   "metadata": {
    "ExecuteTime": {
     "end_time": "2021-08-14T23:02:44.849545Z",
     "start_time": "2021-08-14T23:02:44.840545Z"
    },
    "code_folding": [
     0
    ],
    "hidden": true
   },
   "outputs": [
    {
     "data": {
      "text/plain": [
       "'2021-08-13'"
      ]
     },
     "execution_count": 347,
     "metadata": {},
     "output_type": "execute_result"
    }
   ],
   "source": [
    "#Os dias ficam com o formato abaixo:\n",
    "str(lista_dias_total[0])"
   ]
  },
  {
   "cell_type": "code",
   "execution_count": 364,
   "metadata": {
    "ExecuteTime": {
     "end_time": "2021-08-14T23:12:31.145546Z",
     "start_time": "2021-08-14T23:12:31.097548Z"
    },
    "code_folding": [
     0
    ],
    "collapsed": true,
    "hidden": true
   },
   "outputs": [
    {
     "name": "stdout",
     "output_type": "stream",
     "text": [
      "Existe 2021-08-13\n",
      "Existe 2021-08-12\n",
      "Existe 2021-08-11\n",
      "Existe 2021-08-10\n",
      "Existe 2021-08-09\n",
      "Existe 2021-08-08\n",
      "Não existe o dia 2021-08-07\n",
      "Não existe o dia 2021-08-06\n",
      "Não existe o dia 2021-08-05\n",
      "Não existe o dia 2021-08-04\n",
      "Não existe o dia 2021-08-03\n",
      "Não existe o dia 2021-08-02\n",
      "Não existe o dia 2021-08-01\n",
      "Não existe o dia 2021-07-31\n",
      "Não existe o dia 2021-07-30\n",
      "Não existe o dia 2021-07-29\n",
      "Não existe o dia 2021-07-28\n",
      "Não existe o dia 2021-07-27\n",
      "Não existe o dia 2021-07-26\n",
      "Existe 2021-07-25\n",
      "Existe 2021-07-24\n",
      "Existe 2021-07-23\n",
      "Existe 2021-07-22\n",
      "Existe 2021-07-21\n",
      "Existe 2021-07-20\n",
      "Existe 2021-07-19\n",
      "Existe 2021-07-18\n",
      "Existe 2021-07-17\n",
      "Existe 2021-07-16\n",
      "Existe 2021-07-15\n",
      "Existe 2021-07-14\n",
      "Existe 2021-07-13\n",
      "Existe 2021-07-12\n",
      "Existe 2021-07-11\n",
      "Existe 2021-07-10\n",
      "Existe 2021-07-09\n",
      "Existe 2021-07-08\n",
      "Existe 2021-07-07\n",
      "Existe 2021-07-06\n",
      "Existe 2021-07-05\n",
      "Existe 2021-07-04\n",
      "Existe 2021-07-03\n",
      "Existe 2021-07-02\n",
      "Existe 2021-07-01\n",
      "Existe 2021-06-30\n",
      "Existe 2021-06-29\n",
      "Existe 2021-06-28\n",
      "Existe 2021-06-27\n",
      "Existe 2021-06-26\n",
      "Existe 2021-06-25\n",
      "Existe 2021-06-24\n",
      "Existe 2021-06-23\n",
      "Existe 2021-06-22\n",
      "Existe 2021-06-21\n",
      "Existe 2021-06-20\n",
      "Existe 2021-06-19\n",
      "Existe 2021-06-18\n",
      "Existe 2021-06-17\n",
      "Existe 2021-06-16\n",
      "Existe 2021-06-15\n",
      "Existe 2021-06-14\n",
      "Existe 2021-06-13\n",
      "Existe 2021-06-12\n",
      "Existe 2021-06-11\n",
      "Existe 2021-06-10\n",
      "Existe 2021-06-09\n",
      "Existe 2021-06-08\n",
      "Existe 2021-06-07\n",
      "Existe 2021-06-06\n",
      "Existe 2021-06-05\n",
      "Existe 2021-06-04\n",
      "Existe 2021-06-03\n",
      "Existe 2021-06-02\n",
      "Existe 2021-06-01\n",
      "Existe 2021-05-31\n",
      "Existe 2021-05-30\n",
      "Existe 2021-05-29\n",
      "Existe 2021-05-28\n",
      "Existe 2021-05-27\n",
      "Existe 2021-05-26\n",
      "Existe 2021-05-25\n",
      "Existe 2021-05-24\n",
      "Existe 2021-05-23\n",
      "Existe 2021-05-22\n",
      "Existe 2021-05-21\n",
      "Existe 2021-05-20\n",
      "Existe 2021-05-19\n",
      "Existe 2021-05-18\n",
      "Existe 2021-05-17\n",
      "Existe 2021-05-16\n",
      "Existe 2021-05-15\n",
      "Existe 2021-05-14\n",
      "Existe 2021-05-13\n",
      "Existe 2021-05-12\n",
      "Existe 2021-05-11\n",
      "Existe 2021-05-10\n",
      "Existe 2021-05-09\n",
      "Existe 2021-05-08\n",
      "Existe 2021-05-07\n",
      "Existe 2021-05-06\n",
      "Existe 2021-05-05\n",
      "Existe 2021-05-04\n",
      "Existe 2021-05-03\n",
      "Existe 2021-05-02\n",
      "Existe 2021-05-01\n",
      "Existe 2021-04-30\n",
      "Existe 2021-04-29\n",
      "Existe 2021-04-28\n",
      "Existe 2021-04-27\n",
      "Existe 2021-04-26\n",
      "Existe 2021-04-25\n",
      "Existe 2021-04-24\n",
      "Existe 2021-04-23\n",
      "Existe 2021-04-22\n",
      "Existe 2021-04-21\n",
      "Existe 2021-04-20\n",
      "Existe 2021-04-19\n",
      "Existe 2021-04-18\n",
      "Existe 2021-04-17\n",
      "Existe 2021-04-16\n",
      "Existe 2021-04-15\n",
      "Existe 2021-04-14\n",
      "Existe 2021-04-13\n",
      "Existe 2021-04-12\n",
      "Existe 2021-04-11\n",
      "Existe 2021-04-10\n",
      "Existe 2021-04-09\n",
      "Existe 2021-04-08\n",
      "Existe 2021-04-07\n",
      "Existe 2021-04-06\n",
      "Existe 2021-04-05\n",
      "Existe 2021-04-04\n",
      "Existe 2021-04-03\n",
      "Existe 2021-04-02\n",
      "Existe 2021-04-01\n",
      "Existe 2021-03-31\n",
      "Existe 2021-03-30\n",
      "Existe 2021-03-29\n",
      "Existe 2021-03-28\n",
      "Existe 2021-03-27\n",
      "Existe 2021-03-26\n",
      "Existe 2021-03-25\n",
      "Existe 2021-03-24\n",
      "Existe 2021-03-23\n",
      "Existe 2021-03-22\n",
      "Existe 2021-03-21\n",
      "Existe 2021-03-20\n",
      "Existe 2021-03-19\n",
      "Existe 2021-03-18\n",
      "Existe 2021-03-17\n",
      "Existe 2021-03-16\n",
      "Existe 2021-03-15\n",
      "Existe 2021-03-14\n",
      "Existe 2021-03-13\n",
      "Existe 2021-03-12\n",
      "Existe 2021-03-11\n",
      "Existe 2021-03-10\n",
      "Existe 2021-03-09\n",
      "Existe 2021-03-08\n",
      "Existe 2021-03-07\n",
      "Existe 2021-03-06\n",
      "Existe 2021-03-05\n",
      "Existe 2021-03-04\n",
      "Existe 2021-03-03\n",
      "Existe 2021-03-02\n",
      "Existe 2021-03-01\n",
      "Existe 2021-02-28\n",
      "Existe 2021-02-27\n",
      "Existe 2021-02-26\n",
      "Existe 2021-02-25\n",
      "Existe 2021-02-24\n",
      "Existe 2021-02-23\n",
      "Existe 2021-02-22\n",
      "Existe 2021-02-21\n",
      "Existe 2021-02-20\n",
      "Existe 2021-02-19\n",
      "Existe 2021-02-18\n",
      "Existe 2021-02-17\n",
      "Existe 2021-02-16\n",
      "Existe 2021-02-15\n",
      "Existe 2021-02-14\n",
      "Existe 2021-02-13\n",
      "Existe 2021-02-12\n",
      "Existe 2021-02-11\n",
      "Existe 2021-02-10\n",
      "Existe 2021-02-09\n",
      "Existe 2021-02-08\n",
      "Existe 2021-02-07\n",
      "Existe 2021-02-06\n",
      "Existe 2021-02-05\n",
      "Existe 2021-02-04\n",
      "Existe 2021-02-03\n",
      "Existe 2021-02-02\n",
      "Existe 2021-02-01\n",
      "Existe 2021-01-31\n",
      "Existe 2021-01-30\n",
      "Existe 2021-01-29\n",
      "Existe 2021-01-28\n",
      "Existe 2021-01-27\n",
      "Existe 2021-01-26\n",
      "Existe 2021-01-25\n",
      "Existe 2021-01-24\n",
      "Existe 2021-01-23\n",
      "Existe 2021-01-22\n",
      "Existe 2021-01-21\n",
      "Existe 2021-01-20\n",
      "Existe 2021-01-19\n",
      "Existe 2021-01-18\n",
      "Existe 2021-01-17\n",
      "Existe 2021-01-16\n",
      "Existe 2021-01-15\n",
      "Existe 2021-01-14\n",
      "Existe 2021-01-13\n",
      "Existe 2021-01-12\n",
      "Existe 2021-01-11\n",
      "Existe 2021-01-10\n",
      "Existe 2021-01-09\n",
      "Existe 2021-01-08\n",
      "Existe 2021-01-07\n",
      "Existe 2021-01-06\n",
      "Existe 2021-01-05\n",
      "Existe 2021-01-04\n",
      "Existe 2021-01-03\n",
      "Existe 2021-01-02\n",
      "Existe 2021-01-01\n",
      "Existe 2020-12-31\n",
      "Existe 2020-12-30\n",
      "Existe 2020-12-29\n",
      "Existe 2020-12-28\n",
      "Existe 2020-12-27\n",
      "Existe 2020-12-26\n",
      "Existe 2020-12-25\n",
      "Existe 2020-12-24\n",
      "Existe 2020-12-23\n",
      "Existe 2020-12-22\n",
      "Existe 2020-12-21\n",
      "Existe 2020-12-20\n",
      "Existe 2020-12-19\n",
      "Existe 2020-12-18\n",
      "Existe 2020-12-17\n",
      "Existe 2020-12-16\n",
      "Existe 2020-12-15\n",
      "Existe 2020-12-14\n",
      "Existe 2020-12-13\n",
      "Existe 2020-12-12\n",
      "Existe 2020-12-11\n",
      "Existe 2020-12-10\n",
      "Existe 2020-12-09\n",
      "Existe 2020-12-08\n",
      "Existe 2020-12-07\n",
      "Existe 2020-12-06\n",
      "Existe 2020-12-05\n",
      "Existe 2020-12-04\n",
      "Existe 2020-12-03\n",
      "Existe 2020-12-02\n",
      "Existe 2020-12-01\n",
      "Existe 2020-11-30\n",
      "Existe 2020-11-29\n",
      "Existe 2020-11-28\n",
      "Existe 2020-11-27\n",
      "Existe 2020-11-26\n",
      "Existe 2020-11-25\n",
      "Existe 2020-11-24\n",
      "Existe 2020-11-23\n",
      "Existe 2020-11-22\n",
      "Existe 2020-11-21\n",
      "Existe 2020-11-20\n",
      "Existe 2020-11-19\n",
      "Existe 2020-11-18\n",
      "Existe 2020-11-17\n",
      "Existe 2020-11-16\n",
      "Existe 2020-11-15\n",
      "Existe 2020-11-14\n",
      "Existe 2020-11-13\n",
      "Existe 2020-11-12\n",
      "Existe 2020-11-11\n",
      "Existe 2020-11-10\n",
      "Existe 2020-11-09\n",
      "Existe 2020-11-08\n",
      "Existe 2020-11-07\n",
      "Existe 2020-11-06\n",
      "Existe 2020-11-05\n",
      "Existe 2020-11-04\n",
      "Existe 2020-11-03\n",
      "Existe 2020-11-02\n",
      "Existe 2020-11-01\n",
      "Existe 2020-10-31\n",
      "Existe 2020-10-30\n",
      "Existe 2020-10-29\n",
      "Existe 2020-10-28\n",
      "Existe 2020-10-27\n",
      "Existe 2020-10-26\n",
      "Existe 2020-10-25\n",
      "Existe 2020-10-24\n",
      "Existe 2020-10-23\n",
      "Existe 2020-10-22\n",
      "Existe 2020-10-21\n",
      "Existe 2020-10-20\n",
      "Existe 2020-10-19\n",
      "Existe 2020-10-18\n",
      "Existe 2020-10-17\n",
      "Existe 2020-10-16\n",
      "Existe 2020-10-15\n",
      "Existe 2020-10-14\n",
      "Existe 2020-10-13\n",
      "Existe 2020-10-12\n",
      "Existe 2020-10-11\n",
      "Existe 2020-10-10\n",
      "Existe 2020-10-09\n",
      "Existe 2020-10-08\n",
      "Existe 2020-10-07\n",
      "Existe 2020-10-06\n",
      "Existe 2020-10-05\n",
      "Existe 2020-10-04\n",
      "Existe 2020-10-03\n",
      "Existe 2020-10-02\n",
      "Existe 2020-10-01\n",
      "Existe 2020-09-30\n",
      "Existe 2020-09-29\n",
      "Existe 2020-09-28\n",
      "Existe 2020-09-27\n",
      "Existe 2020-09-26\n",
      "Existe 2020-09-25\n",
      "Existe 2020-09-24\n",
      "Existe 2020-09-23\n",
      "Existe 2020-09-22\n",
      "Existe 2020-09-21\n",
      "Existe 2020-09-20\n",
      "Existe 2020-09-19\n",
      "Existe 2020-09-18\n",
      "Existe 2020-09-17\n",
      "Existe 2020-09-16\n",
      "Existe 2020-09-15\n",
      "Existe 2020-09-14\n",
      "Existe 2020-09-13\n",
      "Existe 2020-09-12\n",
      "Existe 2020-09-11\n",
      "Existe 2020-09-10\n",
      "Existe 2020-09-09\n",
      "Existe 2020-09-08\n",
      "Existe 2020-09-07\n",
      "Existe 2020-09-06\n",
      "Existe 2020-09-05\n",
      "Existe 2020-09-04\n",
      "Existe 2020-09-03\n",
      "Existe 2020-09-02\n",
      "Existe 2020-09-01\n",
      "Existe 2020-08-31\n",
      "Existe 2020-08-30\n",
      "Existe 2020-08-29\n",
      "Existe 2020-08-28\n",
      "Existe 2020-08-27\n",
      "Existe 2020-08-26\n",
      "Existe 2020-08-25\n",
      "Existe 2020-08-24\n",
      "Existe 2020-08-23\n",
      "Existe 2020-08-22\n",
      "Existe 2020-08-21\n",
      "Existe 2020-08-20\n",
      "Existe 2020-08-19\n",
      "Existe 2020-08-18\n",
      "Existe 2020-08-17\n",
      "Existe 2020-08-16\n",
      "Existe 2020-08-15\n",
      "Existe 2020-08-14\n",
      "Existe 2020-08-13\n",
      "Existe 2020-08-12\n",
      "Existe 2020-08-11\n",
      "Existe 2020-08-10\n",
      "Existe 2020-08-09\n",
      "Existe 2020-08-08\n",
      "Existe 2020-08-07\n",
      "Existe 2020-08-06\n",
      "Existe 2020-08-05\n",
      "Existe 2020-08-04\n",
      "Existe 2020-08-03\n",
      "Existe 2020-08-02\n",
      "Existe 2020-08-01\n",
      "Existe 2020-07-31\n",
      "Existe 2020-07-30\n",
      "Existe 2020-07-29\n",
      "Existe 2020-07-28\n",
      "Existe 2020-07-27\n",
      "Existe 2020-07-26\n",
      "Existe 2020-07-25\n",
      "Existe 2020-07-24\n",
      "Existe 2020-07-23\n",
      "Existe 2020-07-22\n",
      "Existe 2020-07-21\n",
      "Existe 2020-07-20\n",
      "Existe 2020-07-19\n",
      "Existe 2020-07-18\n",
      "Existe 2020-07-17\n",
      "Existe 2020-07-16\n",
      "Existe 2020-07-15\n",
      "Existe 2020-07-14\n",
      "Existe 2020-07-13\n",
      "Existe 2020-07-12\n",
      "Existe 2020-07-11\n",
      "Existe 2020-07-10\n",
      "Existe 2020-07-09\n",
      "Existe 2020-07-08\n",
      "Existe 2020-07-07\n",
      "Existe 2020-07-06\n",
      "Existe 2020-07-05\n",
      "Existe 2020-07-04\n",
      "Existe 2020-07-03\n",
      "Existe 2020-07-02\n",
      "Existe 2020-07-01\n",
      "Existe 2020-06-30\n",
      "Existe 2020-06-29\n",
      "Existe 2020-06-28\n",
      "Existe 2020-06-27\n",
      "Existe 2020-06-26\n",
      "Existe 2020-06-25\n",
      "Existe 2020-06-24\n",
      "Existe 2020-06-23\n",
      "Existe 2020-06-22\n",
      "Existe 2020-06-21\n",
      "Existe 2020-06-20\n",
      "Existe 2020-06-19\n",
      "Existe 2020-06-18\n",
      "Existe 2020-06-17\n",
      "Existe 2020-06-16\n",
      "Existe 2020-06-15\n",
      "Existe 2020-06-14\n",
      "Existe 2020-06-13\n",
      "Existe 2020-06-12\n",
      "Existe 2020-06-11\n",
      "Existe 2020-06-10\n",
      "Existe 2020-06-09\n",
      "Existe 2020-06-08\n",
      "Existe 2020-06-07\n",
      "Existe 2020-06-06\n",
      "Existe 2020-06-05\n",
      "Existe 2020-06-04\n",
      "Existe 2020-06-03\n",
      "Existe 2020-06-02\n",
      "Existe 2020-06-01\n",
      "Existe 2020-05-31\n",
      "Existe 2020-05-30\n",
      "Existe 2020-05-29\n",
      "Existe 2020-05-28\n",
      "Existe 2020-05-27\n",
      "Existe 2020-05-26\n",
      "Existe 2020-05-25\n",
      "Existe 2020-05-24\n",
      "Existe 2020-05-23\n",
      "Existe 2020-05-22\n",
      "Existe 2020-05-21\n",
      "Existe 2020-05-20\n",
      "Existe 2020-05-19\n",
      "Existe 2020-05-18\n",
      "Existe 2020-05-17\n",
      "Existe 2020-05-16\n",
      "Existe 2020-05-15\n",
      "Existe 2020-05-14\n",
      "Existe 2020-05-13\n",
      "Existe 2020-05-12\n",
      "Existe 2020-05-11\n",
      "Existe 2020-05-10\n",
      "Existe 2020-05-09\n",
      "Existe 2020-05-08\n",
      "Existe 2020-05-07\n",
      "Existe 2020-05-06\n",
      "Existe 2020-05-05\n",
      "Existe 2020-05-04\n",
      "Existe 2020-05-03\n",
      "Existe 2020-05-02\n",
      "Existe 2020-05-01\n",
      "Existe 2020-04-30\n",
      "Existe 2020-04-29\n",
      "Existe 2020-04-28\n",
      "Existe 2020-04-27\n",
      "Existe 2020-04-26\n",
      "Existe 2020-04-25\n",
      "Existe 2020-04-24\n",
      "Existe 2020-04-23\n",
      "Existe 2020-04-22\n",
      "Existe 2020-04-21\n",
      "Existe 2020-04-20\n",
      "Existe 2020-04-19\n",
      "Existe 2020-04-18\n",
      "Existe 2020-04-17\n",
      "Existe 2020-04-16\n",
      "Existe 2020-04-15\n",
      "Existe 2020-04-14\n",
      "Existe 2020-04-13\n",
      "Existe 2020-04-12\n",
      "Existe 2020-04-11\n",
      "Existe 2020-04-10\n",
      "Existe 2020-04-09\n",
      "Existe 2020-04-08\n",
      "Existe 2020-04-07\n",
      "Existe 2020-04-06\n",
      "Existe 2020-04-05\n",
      "Existe 2020-04-04\n",
      "Existe 2020-04-03\n",
      "Existe 2020-04-02\n",
      "Existe 2020-04-01\n",
      "Existe 2020-03-31\n",
      "Existe 2020-03-30\n",
      "Existe 2020-03-29\n",
      "Existe 2020-03-28\n",
      "Existe 2020-03-27\n",
      "Existe 2020-03-26\n",
      "Existe 2020-03-25\n",
      "Existe 2020-03-24\n",
      "Existe 2020-03-23\n",
      "Existe 2020-03-22\n",
      "Existe 2020-03-21\n",
      "Existe 2020-03-20\n",
      "Existe 2020-03-19\n",
      "Existe 2020-03-18\n",
      "Existe 2020-03-17\n",
      "Existe 2020-03-16\n",
      "Existe 2020-03-15\n",
      "Existe 2020-03-14\n",
      "Existe 2020-03-13\n",
      "Existe 2020-03-12\n",
      "Existe 2020-03-11\n",
      "Existe 2020-03-10\n",
      "Existe 2020-03-09\n",
      "Existe 2020-03-08\n",
      "Existe 2020-03-07\n",
      "Existe 2020-03-06\n",
      "Existe 2020-03-05\n",
      "Existe 2020-03-04\n",
      "Existe 2020-03-03\n",
      "Existe 2020-03-02\n",
      "Existe 2020-03-01\n",
      "Existe 2020-02-29\n",
      "Existe 2020-02-28\n",
      "Existe 2020-02-27\n",
      "Existe 2020-02-26\n",
      "Existe 2020-02-25\n",
      "Existe 2020-02-24\n",
      "Existe 2020-02-23\n",
      "Existe 2020-02-22\n",
      "Existe 2020-02-21\n",
      "Existe 2020-02-20\n",
      "Existe 2020-02-19\n",
      "Existe 2020-02-18\n",
      "Existe 2020-02-17\n",
      "Existe 2020-02-16\n",
      "Existe 2020-02-15\n",
      "Existe 2020-02-14\n",
      "Existe 2020-02-13\n",
      "Existe 2020-02-12\n",
      "Existe 2020-02-11\n",
      "Existe 2020-02-10\n",
      "Existe 2020-02-09\n",
      "Existe 2020-02-08\n",
      "Existe 2020-02-07\n",
      "Existe 2020-02-06\n",
      "Existe 2020-02-05\n",
      "Existe 2020-02-04\n",
      "Existe 2020-02-03\n",
      "Existe 2020-02-02\n",
      "Existe 2020-02-01\n",
      "Existe 2020-01-31\n",
      "Existe 2020-01-30\n",
      "Existe 2020-01-29\n",
      "Existe 2020-01-28\n",
      "Existe 2020-01-27\n",
      "Existe 2020-01-26\n",
      "Existe 2020-01-25\n",
      "Existe 2020-01-24\n",
      "Existe 2020-01-23\n",
      "Existe 2020-01-22\n",
      "Não existe o dia 2020-01-21\n",
      "Não existe o dia 2020-01-20\n",
      "Não existe o dia 2020-01-19\n",
      "Não existe o dia 2020-01-18\n",
      "Não existe o dia 2020-01-17\n",
      "Não existe o dia 2020-01-16\n",
      "Não existe o dia 2020-01-15\n",
      "Não existe o dia 2020-01-14\n",
      "Não existe o dia 2020-01-13\n",
      "Não existe o dia 2020-01-12\n",
      "Não existe o dia 2020-01-11\n",
      "Não existe o dia 2020-01-10\n",
      "Não existe o dia 2020-01-09\n",
      "Não existe o dia 2020-01-08\n",
      "Não existe o dia 2020-01-07\n",
      "Não existe o dia 2020-01-06\n",
      "Não existe o dia 2020-01-05\n",
      "Não existe o dia 2020-01-04\n",
      "Não existe o dia 2020-01-03\n",
      "Não existe o dia 2020-01-02\n",
      "Não existe o dia 2020-01-01\n"
     ]
    }
   ],
   "source": [
    "#Criação da lista com os dias que existem apontamentos para o Brasil:\n",
    "brazil_lista = []\n",
    "for dia in lista_dias:\n",
    "    try:\n",
    "        results['data'][str(dia)]['BRA']\n",
    "        brazil_lista.append(str(dia))\n",
    "        #print(f'Existe {dia}')\n",
    "    except:\n",
    "        #print(f'Não existe o dia {dia}')"
   ]
  },
  {
   "cell_type": "code",
   "execution_count": 365,
   "metadata": {
    "ExecuteTime": {
     "end_time": "2021-08-14T23:13:10.039070Z",
     "start_time": "2021-08-14T23:13:10.025055Z"
    },
    "code_folding": [
     0
    ],
    "hidden": true
   },
   "outputs": [],
   "source": [
    "#Criando um dataframe para armazenar o dia, nível de constringência e constringência legado:\n",
    "df_dia_constringencia = pd.DataFrame({'dia':[], 'stringency':[], 'stringency_legacy':[]})"
   ]
  },
  {
   "cell_type": "code",
   "execution_count": 381,
   "metadata": {
    "ExecuteTime": {
     "end_time": "2021-08-14T23:19:27.720951Z",
     "start_time": "2021-08-14T23:19:27.711953Z"
    },
    "code_folding": [
     0
    ],
    "hidden": true
   },
   "outputs": [],
   "source": [
    "#Apendando em três listas distintas para futuramenta inserir no dataframe:\n",
    "lista_dia = []\n",
    "lista_stringency = []\n",
    "lista_stringency_legacy = []\n",
    "\n",
    "for dia in brazil_lista:\n",
    "    try:\n",
    "        a = results['data'][str(dia)]['BRA']['stringency']\n",
    "        b = results['data'][str(dia)]['BRA']['stringency_legacy']\n",
    "                \n",
    "        lista_dia.append(str(dia))\n",
    "        lista_stringency.append(a)\n",
    "        lista_stringency_legacy.append(b)\n",
    "    except:\n",
    "        continue"
   ]
  },
  {
   "cell_type": "code",
   "execution_count": 382,
   "metadata": {
    "ExecuteTime": {
     "end_time": "2021-08-14T23:19:34.823687Z",
     "start_time": "2021-08-14T23:19:34.804685Z"
    },
    "code_folding": [
     0
    ],
    "hidden": true
   },
   "outputs": [],
   "source": [
    "#Inserindo o conteúdo das listas no dataframe:\n",
    "df_dia_constringencia['dia'] = lista_dia\n",
    "df_dia_constringencia['stringency'] = lista_stringency\n",
    "df_dia_constringencia['stringency_legacy'] = lista_stringency_legacy"
   ]
  },
  {
   "cell_type": "code",
   "execution_count": 421,
   "metadata": {
    "ExecuteTime": {
     "end_time": "2021-08-15T00:30:49.439285Z",
     "start_time": "2021-08-15T00:30:49.425285Z"
    },
    "code_folding": [
     0
    ],
    "hidden": true
   },
   "outputs": [
    {
     "data": {
      "text/html": [
       "<div>\n",
       "<style scoped>\n",
       "    .dataframe tbody tr th:only-of-type {\n",
       "        vertical-align: middle;\n",
       "    }\n",
       "\n",
       "    .dataframe tbody tr th {\n",
       "        vertical-align: top;\n",
       "    }\n",
       "\n",
       "    .dataframe thead th {\n",
       "        text-align: right;\n",
       "    }\n",
       "</style>\n",
       "<table border=\"1\" class=\"dataframe\">\n",
       "  <thead>\n",
       "    <tr style=\"text-align: right;\">\n",
       "      <th></th>\n",
       "      <th>dia</th>\n",
       "      <th>stringency</th>\n",
       "      <th>stringency_legacy</th>\n",
       "    </tr>\n",
       "  </thead>\n",
       "  <tbody>\n",
       "    <tr>\n",
       "      <th>0</th>\n",
       "      <td>2021-08-13</td>\n",
       "      <td>56.94</td>\n",
       "      <td>NaN</td>\n",
       "    </tr>\n",
       "    <tr>\n",
       "      <th>1</th>\n",
       "      <td>2021-08-12</td>\n",
       "      <td>56.94</td>\n",
       "      <td>NaN</td>\n",
       "    </tr>\n",
       "    <tr>\n",
       "      <th>2</th>\n",
       "      <td>2021-08-11</td>\n",
       "      <td>56.94</td>\n",
       "      <td>NaN</td>\n",
       "    </tr>\n",
       "    <tr>\n",
       "      <th>3</th>\n",
       "      <td>2021-08-10</td>\n",
       "      <td>56.94</td>\n",
       "      <td>NaN</td>\n",
       "    </tr>\n",
       "    <tr>\n",
       "      <th>4</th>\n",
       "      <td>2021-08-09</td>\n",
       "      <td>56.94</td>\n",
       "      <td>NaN</td>\n",
       "    </tr>\n",
       "    <tr>\n",
       "      <th>...</th>\n",
       "      <td>...</td>\n",
       "      <td>...</td>\n",
       "      <td>...</td>\n",
       "    </tr>\n",
       "    <tr>\n",
       "      <th>552</th>\n",
       "      <td>2020-01-26</td>\n",
       "      <td>0.00</td>\n",
       "      <td>0.0</td>\n",
       "    </tr>\n",
       "    <tr>\n",
       "      <th>553</th>\n",
       "      <td>2020-01-25</td>\n",
       "      <td>0.00</td>\n",
       "      <td>0.0</td>\n",
       "    </tr>\n",
       "    <tr>\n",
       "      <th>554</th>\n",
       "      <td>2020-01-24</td>\n",
       "      <td>0.00</td>\n",
       "      <td>0.0</td>\n",
       "    </tr>\n",
       "    <tr>\n",
       "      <th>555</th>\n",
       "      <td>2020-01-23</td>\n",
       "      <td>0.00</td>\n",
       "      <td>0.0</td>\n",
       "    </tr>\n",
       "    <tr>\n",
       "      <th>556</th>\n",
       "      <td>2020-01-22</td>\n",
       "      <td>0.00</td>\n",
       "      <td>0.0</td>\n",
       "    </tr>\n",
       "  </tbody>\n",
       "</table>\n",
       "<p>557 rows × 3 columns</p>\n",
       "</div>"
      ],
      "text/plain": [
       "            dia  stringency  stringency_legacy\n",
       "0    2021-08-13       56.94                NaN\n",
       "1    2021-08-12       56.94                NaN\n",
       "2    2021-08-11       56.94                NaN\n",
       "3    2021-08-10       56.94                NaN\n",
       "4    2021-08-09       56.94                NaN\n",
       "..          ...         ...                ...\n",
       "552  2020-01-26        0.00                0.0\n",
       "553  2020-01-25        0.00                0.0\n",
       "554  2020-01-24        0.00                0.0\n",
       "555  2020-01-23        0.00                0.0\n",
       "556  2020-01-22        0.00                0.0\n",
       "\n",
       "[557 rows x 3 columns]"
      ]
     },
     "execution_count": 421,
     "metadata": {},
     "output_type": "execute_result"
    }
   ],
   "source": [
    "#Checando o formato do dataframe:\n",
    "df_dia_constringencia"
   ]
  },
  {
   "cell_type": "code",
   "execution_count": 423,
   "metadata": {
    "ExecuteTime": {
     "end_time": "2021-08-15T00:30:58.544632Z",
     "start_time": "2021-08-15T00:30:58.527649Z"
    },
    "code_folding": [
     0
    ],
    "hidden": true
   },
   "outputs": [
    {
     "data": {
      "text/html": [
       "<div>\n",
       "<style scoped>\n",
       "    .dataframe tbody tr th:only-of-type {\n",
       "        vertical-align: middle;\n",
       "    }\n",
       "\n",
       "    .dataframe tbody tr th {\n",
       "        vertical-align: top;\n",
       "    }\n",
       "\n",
       "    .dataframe thead th {\n",
       "        text-align: right;\n",
       "    }\n",
       "</style>\n",
       "<table border=\"1\" class=\"dataframe\">\n",
       "  <thead>\n",
       "    <tr style=\"text-align: right;\">\n",
       "      <th></th>\n",
       "      <th>stringency</th>\n",
       "      <th>stringency_legacy</th>\n",
       "    </tr>\n",
       "    <tr>\n",
       "      <th>dia</th>\n",
       "      <th></th>\n",
       "      <th></th>\n",
       "    </tr>\n",
       "  </thead>\n",
       "  <tbody>\n",
       "    <tr>\n",
       "      <th>2021-02-28</th>\n",
       "      <td>70.83</td>\n",
       "      <td>66.19</td>\n",
       "    </tr>\n",
       "    <tr>\n",
       "      <th>2020-03-26</th>\n",
       "      <td>71.76</td>\n",
       "      <td>75.00</td>\n",
       "    </tr>\n",
       "    <tr>\n",
       "      <th>2021-01-06</th>\n",
       "      <td>64.35</td>\n",
       "      <td>60.24</td>\n",
       "    </tr>\n",
       "    <tr>\n",
       "      <th>2020-08-12</th>\n",
       "      <td>72.69</td>\n",
       "      <td>69.76</td>\n",
       "    </tr>\n",
       "    <tr>\n",
       "      <th>2020-04-08</th>\n",
       "      <td>74.54</td>\n",
       "      <td>78.57</td>\n",
       "    </tr>\n",
       "  </tbody>\n",
       "</table>\n",
       "</div>"
      ],
      "text/plain": [
       "            stringency  stringency_legacy\n",
       "dia                                      \n",
       "2021-02-28       70.83              66.19\n",
       "2020-03-26       71.76              75.00\n",
       "2021-01-06       64.35              60.24\n",
       "2020-08-12       72.69              69.76\n",
       "2020-04-08       74.54              78.57"
      ]
     },
     "execution_count": 423,
     "metadata": {},
     "output_type": "execute_result"
    }
   ],
   "source": [
    "#Colocando as datas como index:\n",
    "df_dia_constringencia['dia'] = pd.to_datetime(df_dia_constringencia['dia'])\n",
    "df_dia_constringencia_index = df_dia_constringencia.set_index('dia')\n",
    "\n",
    "#Observando ocmo ficou:\n",
    "df_dia_constringencia_index.sample(5, random_state=0)"
   ]
  },
  {
   "cell_type": "code",
   "execution_count": 426,
   "metadata": {
    "ExecuteTime": {
     "end_time": "2021-08-15T00:32:01.745515Z",
     "start_time": "2021-08-15T00:32:01.740513Z"
    },
    "code_folding": [
     0
    ],
    "hidden": true
   },
   "outputs": [
    {
     "data": {
      "text/plain": [
       "DatetimeIndex(['2002-01-02', '2002-01-02', '2002-01-02', '2002-01-02',\n",
       "               '2002-01-02', '2002-01-02', '2002-01-02', '2002-01-02',\n",
       "               '2002-01-02', '2002-01-02',\n",
       "               ...\n",
       "               '2021-05-31', '2021-05-31', '2021-05-31', '2021-05-31',\n",
       "               '2021-05-31', '2021-05-31', '2021-05-31', '2021-05-31',\n",
       "               '2021-05-31', '2021-05-31'],\n",
       "              dtype='datetime64[ns]', name='data_da_contratacao', length=2083363, freq=None)"
      ]
     },
     "execution_count": 426,
     "metadata": {},
     "output_type": "execute_result"
    }
   ],
   "source": [
    "#Verificando o tipo de dado que está no índice do dataframe de investimentos indiretos automáticos:\n",
    "df_date_as_index.index"
   ]
  },
  {
   "cell_type": "code",
   "execution_count": 427,
   "metadata": {
    "ExecuteTime": {
     "end_time": "2021-08-15T00:32:03.883513Z",
     "start_time": "2021-08-15T00:32:03.869536Z"
    },
    "code_folding": [
     0
    ],
    "hidden": true
   },
   "outputs": [
    {
     "data": {
      "text/plain": [
       "DatetimeIndex(['2021-08-13', '2021-08-12', '2021-08-11', '2021-08-10',\n",
       "               '2021-08-09', '2021-08-08', '2021-07-25', '2021-07-24',\n",
       "               '2021-07-23', '2021-07-22',\n",
       "               ...\n",
       "               '2020-01-31', '2020-01-30', '2020-01-29', '2020-01-28',\n",
       "               '2020-01-27', '2020-01-26', '2020-01-25', '2020-01-24',\n",
       "               '2020-01-23', '2020-01-22'],\n",
       "              dtype='datetime64[ns]', name='dia', length=557, freq=None)"
      ]
     },
     "execution_count": 427,
     "metadata": {},
     "output_type": "execute_result"
    }
   ],
   "source": [
    "#Verificando o tipo de dado que está no índice do dataframe de constringência:\n",
    "df_dia_constringencia_index.index"
   ]
  },
  {
   "cell_type": "code",
   "execution_count": 512,
   "metadata": {
    "ExecuteTime": {
     "end_time": "2021-08-16T02:39:50.854540Z",
     "start_time": "2021-08-16T02:39:50.414539Z"
    },
    "code_folding": [
     0
    ],
    "hidden": true
   },
   "outputs": [
    {
     "data": {
      "text/html": [
       "<div>\n",
       "<style scoped>\n",
       "    .dataframe tbody tr th:only-of-type {\n",
       "        vertical-align: middle;\n",
       "    }\n",
       "\n",
       "    .dataframe tbody tr th {\n",
       "        vertical-align: top;\n",
       "    }\n",
       "\n",
       "    .dataframe thead th {\n",
       "        text-align: right;\n",
       "    }\n",
       "</style>\n",
       "<table border=\"1\" class=\"dataframe\">\n",
       "  <thead>\n",
       "    <tr style=\"text-align: right;\">\n",
       "      <th></th>\n",
       "      <th>cliente</th>\n",
       "      <th>cpf_cnpj</th>\n",
       "      <th>uf</th>\n",
       "      <th>municipio</th>\n",
       "      <th>municipio_codigo</th>\n",
       "      <th>valor_da_operacao_em_reais</th>\n",
       "      <th>valor_desembolsado_reais</th>\n",
       "      <th>fonte_de_recurso_desembolsos</th>\n",
       "      <th>custo_financeiro</th>\n",
       "      <th>juros</th>\n",
       "      <th>...</th>\n",
       "      <th>natureza_do_cliente</th>\n",
       "      <th>instituicao_financeira_credenciada</th>\n",
       "      <th>cnpj_do_agente_financeiro</th>\n",
       "      <th>situacao_da_operacao</th>\n",
       "      <th>ano</th>\n",
       "      <th>mes</th>\n",
       "      <th>dia_nome</th>\n",
       "      <th>dia</th>\n",
       "      <th>stringency</th>\n",
       "      <th>stringency_legacy</th>\n",
       "    </tr>\n",
       "  </thead>\n",
       "  <tbody>\n",
       "    <tr>\n",
       "      <th>2020-05-21</th>\n",
       "      <td>DISTRIBUIDORA DE PETROLEO OPOLSKI LTDA</td>\n",
       "      <td>**.*06.763/0001-**</td>\n",
       "      <td>MT</td>\n",
       "      <td>TANGARA DA SERRA</td>\n",
       "      <td>5107958</td>\n",
       "      <td>500000</td>\n",
       "      <td>500000,0</td>\n",
       "      <td>RECURSOS LIVRES - FAT</td>\n",
       "      <td>TLP</td>\n",
       "      <td>3,28</td>\n",
       "      <td>...</td>\n",
       "      <td>PRIVADA</td>\n",
       "      <td>BANCO COOPERATIVO SICREDI S.A.</td>\n",
       "      <td>01.181.521.0001-55</td>\n",
       "      <td>ATIVA</td>\n",
       "      <td>2020</td>\n",
       "      <td>5</td>\n",
       "      <td>3</td>\n",
       "      <td>21</td>\n",
       "      <td>81.02</td>\n",
       "      <td>80.48</td>\n",
       "    </tr>\n",
       "    <tr>\n",
       "      <th>2020-05-29</th>\n",
       "      <td>CRISTIAN RODRIGO RAMIREZ GOMES PASCHOARELI</td>\n",
       "      <td>**.*51.223/0001-**</td>\n",
       "      <td>SP</td>\n",
       "      <td>BARIRI</td>\n",
       "      <td>3505203</td>\n",
       "      <td>10000</td>\n",
       "      <td>10000,0</td>\n",
       "      <td>RECURSOS LIVRES - PRÓPRIOS</td>\n",
       "      <td>TAXA FIXA</td>\n",
       "      <td>13,74</td>\n",
       "      <td>...</td>\n",
       "      <td>PRIVADA</td>\n",
       "      <td>BANCO SANTANDER (BRASIL) S.A.</td>\n",
       "      <td>90.400.888.0001-42</td>\n",
       "      <td>ATIVA</td>\n",
       "      <td>2020</td>\n",
       "      <td>5</td>\n",
       "      <td>4</td>\n",
       "      <td>29</td>\n",
       "      <td>81.02</td>\n",
       "      <td>80.48</td>\n",
       "    </tr>\n",
       "    <tr>\n",
       "      <th>2020-12-21</th>\n",
       "      <td>IDEAL PUXADORES INDUSTRIA E COMERCIO LTDA</td>\n",
       "      <td>**.*50.097/0001-**</td>\n",
       "      <td>GO</td>\n",
       "      <td>GOIANIA</td>\n",
       "      <td>5208707</td>\n",
       "      <td>180000</td>\n",
       "      <td>180000,0</td>\n",
       "      <td>RECURSOS LIVRES - PRÓPRIOS</td>\n",
       "      <td>SELIC</td>\n",
       "      <td>8,25</td>\n",
       "      <td>...</td>\n",
       "      <td>PRIVADA</td>\n",
       "      <td>BANCO BRADESCO S.A.</td>\n",
       "      <td>60.746.948.0001-12</td>\n",
       "      <td>ATIVA</td>\n",
       "      <td>2020</td>\n",
       "      <td>12</td>\n",
       "      <td>0</td>\n",
       "      <td>21</td>\n",
       "      <td>64.35</td>\n",
       "      <td>60.24</td>\n",
       "    </tr>\n",
       "  </tbody>\n",
       "</table>\n",
       "<p>3 rows × 35 columns</p>\n",
       "</div>"
      ],
      "text/plain": [
       "                                               cliente            cpf_cnpj  \\\n",
       "2020-05-21      DISTRIBUIDORA DE PETROLEO OPOLSKI LTDA  **.*06.763/0001-**   \n",
       "2020-05-29  CRISTIAN RODRIGO RAMIREZ GOMES PASCHOARELI  **.*51.223/0001-**   \n",
       "2020-12-21   IDEAL PUXADORES INDUSTRIA E COMERCIO LTDA  **.*50.097/0001-**   \n",
       "\n",
       "             uf         municipio  municipio_codigo  \\\n",
       "2020-05-21   MT  TANGARA DA SERRA           5107958   \n",
       "2020-05-29   SP            BARIRI           3505203   \n",
       "2020-12-21   GO           GOIANIA           5208707   \n",
       "\n",
       "            valor_da_operacao_em_reais valor_desembolsado_reais  \\\n",
       "2020-05-21                      500000                 500000,0   \n",
       "2020-05-29                       10000                  10000,0   \n",
       "2020-12-21                      180000                 180000,0   \n",
       "\n",
       "           fonte_de_recurso_desembolsos custo_financeiro  juros  ...  \\\n",
       "2020-05-21        RECURSOS LIVRES - FAT              TLP   3,28  ...   \n",
       "2020-05-29   RECURSOS LIVRES - PRÓPRIOS        TAXA FIXA  13,74  ...   \n",
       "2020-12-21   RECURSOS LIVRES - PRÓPRIOS            SELIC   8,25  ...   \n",
       "\n",
       "            natureza_do_cliente  instituicao_financeira_credenciada  \\\n",
       "2020-05-21              PRIVADA      BANCO COOPERATIVO SICREDI S.A.   \n",
       "2020-05-29              PRIVADA       BANCO SANTANDER (BRASIL) S.A.   \n",
       "2020-12-21              PRIVADA                 BANCO BRADESCO S.A.   \n",
       "\n",
       "           cnpj_do_agente_financeiro situacao_da_operacao   ano mes dia_nome  \\\n",
       "2020-05-21        01.181.521.0001-55                ATIVA  2020   5        3   \n",
       "2020-05-29        90.400.888.0001-42                ATIVA  2020   5        4   \n",
       "2020-12-21        60.746.948.0001-12                ATIVA  2020  12        0   \n",
       "\n",
       "           dia stringency stringency_legacy  \n",
       "2020-05-21  21      81.02             80.48  \n",
       "2020-05-29  29      81.02             80.48  \n",
       "2020-12-21  21      64.35             60.24  \n",
       "\n",
       "[3 rows x 35 columns]"
      ]
     },
     "execution_count": 512,
     "metadata": {},
     "output_type": "execute_result"
    }
   ],
   "source": [
    "#Dando um merge através dos índices de data:\n",
    "consolidado_investimentos_stringency = pd.merge(df_date_as_index, df_dia_constringencia_index, left_index=True, right_index=True, how='inner')\n",
    "\n",
    "#Verificando a cara do dataframe:\n",
    "consolidado_investimentos_stringency.sample(3, random_state=0)"
   ]
  },
  {
   "cell_type": "markdown",
   "metadata": {
    "hidden": true
   },
   "source": [
    "A fim de poder construir também um dataframe com ano-mês agrupado, o que pode facilitar a análise e visão no time series multilinha:"
   ]
  },
  {
   "cell_type": "code",
   "execution_count": 537,
   "metadata": {
    "ExecuteTime": {
     "end_time": "2021-08-16T02:46:14.349725Z",
     "start_time": "2021-08-16T02:46:14.341726Z"
    },
    "hidden": true
   },
   "outputs": [],
   "source": [
    "#Criamos uma coluna 'ano-mes', primeiramente igualando ao índice do dataframe:\n",
    "consolidado_investimentos_stringency['ano-mes'] = consolidado_investimentos_stringency.index"
   ]
  },
  {
   "cell_type": "code",
   "execution_count": 540,
   "metadata": {
    "ExecuteTime": {
     "end_time": "2021-08-16T02:46:35.681732Z",
     "start_time": "2021-08-16T02:46:35.367696Z"
    },
    "code_folding": [
     0
    ],
    "hidden": true
   },
   "outputs": [
    {
     "data": {
      "text/plain": [
       "2020-01-22    2020-01\n",
       "2020-01-22    2020-01\n",
       "2020-01-22    2020-01\n",
       "2020-01-22    2020-01\n",
       "2020-01-22    2020-01\n",
       "               ...   \n",
       "2021-05-31    2021-05\n",
       "2021-05-31    2021-05\n",
       "2021-05-31    2021-05\n",
       "2021-05-31    2021-05\n",
       "2021-05-31    2021-05\n",
       "Name: ano-mes, Length: 58641, dtype: object"
      ]
     },
     "execution_count": 540,
     "metadata": {},
     "output_type": "execute_result"
    }
   ],
   "source": [
    "#Agora extraímos os 7 primeiros caracteres presentes nessa coluna nova e substituímos nela mesma:\n",
    "consolidado_investimentos_stringency['ano-mes'] = consolidado_investimentos_stringency['ano-mes'].apply(lambda x: str(x)[0:7])\n",
    "consolidado_investimentos_stringency['ano-mes']"
   ]
  },
  {
   "cell_type": "code",
   "execution_count": 543,
   "metadata": {
    "ExecuteTime": {
     "end_time": "2021-08-16T02:52:09.154439Z",
     "start_time": "2021-08-16T02:52:09.102944Z"
    },
    "code_folding": [
     0
    ],
    "hidden": true
   },
   "outputs": [
    {
     "data": {
      "text/html": [
       "<div>\n",
       "<style scoped>\n",
       "    .dataframe tbody tr th:only-of-type {\n",
       "        vertical-align: middle;\n",
       "    }\n",
       "\n",
       "    .dataframe tbody tr th {\n",
       "        vertical-align: top;\n",
       "    }\n",
       "\n",
       "    .dataframe thead th {\n",
       "        text-align: right;\n",
       "    }\n",
       "</style>\n",
       "<table border=\"1\" class=\"dataframe\">\n",
       "  <thead>\n",
       "    <tr style=\"text-align: right;\">\n",
       "      <th></th>\n",
       "      <th>stringency</th>\n",
       "      <th>valor_da_operacao_em_reais</th>\n",
       "    </tr>\n",
       "    <tr>\n",
       "      <th>ano-mes</th>\n",
       "      <th></th>\n",
       "      <th></th>\n",
       "    </tr>\n",
       "  </thead>\n",
       "  <tbody>\n",
       "    <tr>\n",
       "      <th>2020-01</th>\n",
       "      <td>1.986773</td>\n",
       "      <td>334075.506667</td>\n",
       "    </tr>\n",
       "    <tr>\n",
       "      <th>2020-02</th>\n",
       "      <td>5.560000</td>\n",
       "      <td>346039.209759</td>\n",
       "    </tr>\n",
       "    <tr>\n",
       "      <th>2020-03</th>\n",
       "      <td>42.821728</td>\n",
       "      <td>401492.262603</td>\n",
       "    </tr>\n",
       "    <tr>\n",
       "      <th>2020-04</th>\n",
       "      <td>75.308743</td>\n",
       "      <td>360770.187575</td>\n",
       "    </tr>\n",
       "    <tr>\n",
       "      <th>2020-05</th>\n",
       "      <td>80.874668</td>\n",
       "      <td>340690.000145</td>\n",
       "    </tr>\n",
       "    <tr>\n",
       "      <th>2020-06</th>\n",
       "      <td>77.310000</td>\n",
       "      <td>348486.601667</td>\n",
       "    </tr>\n",
       "    <tr>\n",
       "      <th>2020-07</th>\n",
       "      <td>79.723101</td>\n",
       "      <td>295293.024813</td>\n",
       "    </tr>\n",
       "    <tr>\n",
       "      <th>2020-08</th>\n",
       "      <td>72.010480</td>\n",
       "      <td>369974.513732</td>\n",
       "    </tr>\n",
       "    <tr>\n",
       "      <th>2020-09</th>\n",
       "      <td>68.900817</td>\n",
       "      <td>375051.952719</td>\n",
       "    </tr>\n",
       "    <tr>\n",
       "      <th>2020-10</th>\n",
       "      <td>62.601018</td>\n",
       "      <td>354538.970427</td>\n",
       "    </tr>\n",
       "    <tr>\n",
       "      <th>2020-11</th>\n",
       "      <td>56.081308</td>\n",
       "      <td>391076.413876</td>\n",
       "    </tr>\n",
       "    <tr>\n",
       "      <th>2020-12</th>\n",
       "      <td>63.332013</td>\n",
       "      <td>544564.817654</td>\n",
       "    </tr>\n",
       "    <tr>\n",
       "      <th>2021-01</th>\n",
       "      <td>69.001213</td>\n",
       "      <td>494325.539691</td>\n",
       "    </tr>\n",
       "    <tr>\n",
       "      <th>2021-02</th>\n",
       "      <td>72.210365</td>\n",
       "      <td>425590.983089</td>\n",
       "    </tr>\n",
       "    <tr>\n",
       "      <th>2021-03</th>\n",
       "      <td>69.137724</td>\n",
       "      <td>449227.710897</td>\n",
       "    </tr>\n",
       "    <tr>\n",
       "      <th>2021-04</th>\n",
       "      <td>65.847516</td>\n",
       "      <td>549119.206476</td>\n",
       "    </tr>\n",
       "    <tr>\n",
       "      <th>2021-05</th>\n",
       "      <td>60.194414</td>\n",
       "      <td>414008.796995</td>\n",
       "    </tr>\n",
       "  </tbody>\n",
       "</table>\n",
       "</div>"
      ],
      "text/plain": [
       "         stringency  valor_da_operacao_em_reais\n",
       "ano-mes                                        \n",
       "2020-01    1.986773               334075.506667\n",
       "2020-02    5.560000               346039.209759\n",
       "2020-03   42.821728               401492.262603\n",
       "2020-04   75.308743               360770.187575\n",
       "2020-05   80.874668               340690.000145\n",
       "2020-06   77.310000               348486.601667\n",
       "2020-07   79.723101               295293.024813\n",
       "2020-08   72.010480               369974.513732\n",
       "2020-09   68.900817               375051.952719\n",
       "2020-10   62.601018               354538.970427\n",
       "2020-11   56.081308               391076.413876\n",
       "2020-12   63.332013               544564.817654\n",
       "2021-01   69.001213               494325.539691\n",
       "2021-02   72.210365               425590.983089\n",
       "2021-03   69.137724               449227.710897\n",
       "2021-04   65.847516               549119.206476\n",
       "2021-05   60.194414               414008.796995"
      ]
     },
     "execution_count": 543,
     "metadata": {},
     "output_type": "execute_result"
    }
   ],
   "source": [
    "#O dataframe consolidado ano-mes fica conforme abaixo: 'consolidado_investimentos_stringency_ano_mes'\n",
    "consolidado_investimentos_stringency_ano_mes = consolidado_investimentos_stringency.groupby('ano-mes').agg('mean')[['stringency','valor_da_operacao_em_reais']]\n",
    "consolidado_investimentos_stringency_ano_mes"
   ]
  },
  {
   "cell_type": "markdown",
   "metadata": {
    "hidden": true
   },
   "source": [
    "### Time series de volume de operações versus stringency"
   ]
  },
  {
   "cell_type": "markdown",
   "metadata": {
    "hidden": true
   },
   "source": [
    "####  Stringency e valor total de operações - por dia"
   ]
  },
  {
   "cell_type": "code",
   "execution_count": 443,
   "metadata": {
    "ExecuteTime": {
     "end_time": "2021-08-15T01:00:20.116964Z",
     "start_time": "2021-08-15T01:00:19.369963Z"
    },
    "code_folding": [],
    "hidden": true,
    "scrolled": true
   },
   "outputs": [
    {
     "data": {
      "image/png": "[encoded data removed]",
      "text/plain": [
       "<Figure size 792x288 with 2 Axes>"
      ]
     },
     "metadata": {},
     "output_type": "display_data"
    }
   ],
   "source": [
    "#Construindo um time series multiline e com dois eixos:\n",
    "ax = consolidado_investimentos_stringency.plot(y=\"stringency\", legend=False)\n",
    "ax2 = ax.twinx()\n",
    "consolidado_investimentos_stringency.plot(y=\"valor_da_operacao_em_reais\", ax=ax2, legend=False, color=\"r\")\n",
    "ax.figure.legend()\n",
    "plt.show()"
   ]
  },
  {
   "cell_type": "markdown",
   "metadata": {
    "hidden": true
   },
   "source": [
    "#### Stringency e valor total de operações - agrupado por ano-mês"
   ]
  },
  {
   "cell_type": "code",
   "execution_count": 549,
   "metadata": {
    "ExecuteTime": {
     "end_time": "2021-08-16T02:53:48.172869Z",
     "start_time": "2021-08-16T02:53:47.797868Z"
    },
    "hidden": true
   },
   "outputs": [
    {
     "data": {
      "image/png": "[encoded data removed]",
      "text/plain": [
       "<Figure size 792x288 with 2 Axes>"
      ]
     },
     "metadata": {},
     "output_type": "display_data"
    }
   ],
   "source": [
    "#Construindo um time series multiline e com dois eixos:\n",
    "ax = consolidado_investimentos_stringency_ano_mes.plot(y=\"stringency\", legend=False, color=\"r\")\n",
    "ax2 = ax.twinx()\n",
    "consolidado_investimentos_stringency_ano_mes.plot(y=\"valor_da_operacao_em_reais\", ax=ax2, legend=False, color=\"b\")\n",
    "ax.figure.legend()\n",
    "plt.show()"
   ]
  },
  {
   "cell_type": "markdown",
   "metadata": {
    "hidden": true
   },
   "source": [
    "Será necessário aprofundar-se através de um teste de Granger."
   ]
  }
 ],
 "metadata": {
  "kernelspec": {
   "name": "python3",
   "display_name": "Python 3.9.0 64-bit"
  },
  "language_info": {
   "codemirror_mode": {
    "name": "ipython",
    "version": 3
   },
   "file_extension": ".py",
   "mimetype": "text/x-python",
   "name": "python",
   "nbconvert_exporter": "python",
   "pygments_lexer": "ipython3",
   "version": "3.9.0"
  },
  "toc": {
   "base_numbering": 1,
   "nav_menu": {},
   "number_sections": true,
   "sideBar": true,
   "skip_h1_title": false,
   "title_cell": "Table of Contents",
   "title_sidebar": "Contents",
   "toc_cell": false,
   "toc_position": {},
   "toc_section_display": true,
   "toc_window_display": false
  },
  "varInspector": {
   "cols": {
    "lenName": 16,
    "lenType": 16,
    "lenVar": 40
   },
   "kernels_config": {
    "python": {
     "delete_cmd_postfix": "",
     "delete_cmd_prefix": "del ",
     "library": "var_list.py",
     "varRefreshCmd": "print(var_dic_list())"
    },
    "r": {
     "delete_cmd_postfix": ") ",
     "delete_cmd_prefix": "rm(",
     "library": "var_list.r",
     "varRefreshCmd": "cat(var_dic_list()) "
    }
   },
   "types_to_exclude": [
    "module",
    "function",
    "builtin_function_or_method",
    "instance",
    "_Feature"
   ],
   "window_display": false
  },
  "interpreter": {
   "hash": "2e1c3b5c60e07dcc87fe35d792cc68ab0fe6bab78d40c72c7fbf21c581c57b0c"
  }
 },
 "nbformat": 4,
 "nbformat_minor": 4
}